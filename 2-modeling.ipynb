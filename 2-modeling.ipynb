{
 "cells": [
  {
   "cell_type": "markdown",
   "source": [
    "# 2. Modeling\n",
    "\n",
    "This worksheet focuses on training models that predict the outcomes of the loans."
   ],
   "metadata": {
    "collapsed": false
   }
  },
  {
   "cell_type": "code",
   "execution_count": 11,
   "outputs": [],
   "source": [
    "import pandas as pd\n",
    "import numpy as np\n",
    "from joblib import dump\n",
    "\n",
    "np.random.seed(1151)"
   ],
   "metadata": {
    "collapsed": false,
    "pycharm": {
     "name": "#%%\n"
    }
   }
  },
  {
   "cell_type": "markdown",
   "source": [
    "## Preparing data for modeling\n",
    "\n",
    "In order to start training models we need to choose which features to use. After that we check for null values and deal with categorical values by one-hot encoding them. The last step is to create the input and target values."
   ],
   "metadata": {
    "collapsed": false
   }
  },
  {
   "cell_type": "code",
   "execution_count": 12,
   "outputs": [],
   "source": [
    "df = pd.read_csv(\"data/train_data.csv\")\n",
    "\n",
    "# Columns that are used as inputs in the models.\n",
    "input_cols = ['NewCreditCustomer', 'VerificationType', 'LanguageCode', 'Age', 'Gender',\n",
    "                 'Amount', 'Interest', 'LoanDuration', 'MonthlyPayment',\n",
    "                 'Education', 'EmploymentDurationCurrentEmployer', 'HomeOwnershipType', 'IncomeTotal',\n",
    "                 'ExistingLiabilities', 'LiabilitiesTotal', 'Rating',\n",
    "                 'CreditScoreEeMini', 'NoOfPreviousLoansBeforeLoan', 'AmountOfPreviousLoansBeforeLoan',\n",
    "                 'PreviousRepaymentsBeforeLoan', 'PreviousEarlyRepaymentsBefoleLoan', 'PreferLoan']\n",
    "\n",
    "df = df[input_cols]"
   ],
   "metadata": {
    "collapsed": false,
    "pycharm": {
     "name": "#%%\n"
    }
   }
  },
  {
   "cell_type": "code",
   "execution_count": 13,
   "outputs": [
    {
     "data": {
      "text/plain": "NewCreditCustomer                    0\nVerificationType                     0\nLanguageCode                         0\nAge                                  0\nGender                               0\nAmount                               0\nInterest                             0\nLoanDuration                         0\nMonthlyPayment                       0\nEducation                            0\nEmploymentDurationCurrentEmployer    0\nHomeOwnershipType                    0\nIncomeTotal                          0\nExistingLiabilities                  0\nLiabilitiesTotal                     0\nRating                               0\nCreditScoreEeMini                    0\nNoOfPreviousLoansBeforeLoan          0\nAmountOfPreviousLoansBeforeLoan      0\nPreviousRepaymentsBeforeLoan         0\nPreviousEarlyRepaymentsBefoleLoan    0\nPreferLoan                           0\ndtype: int64"
     },
     "execution_count": 13,
     "metadata": {},
     "output_type": "execute_result"
    }
   ],
   "source": [
    "# Check for null values.\n",
    "df.isna().sum()\n",
    "\n",
    "# If df contains null values, they should be dropped.\n",
    "# df.dropna(inplace=True)"
   ],
   "metadata": {
    "collapsed": false,
    "pycharm": {
     "name": "#%%\n"
    }
   }
  },
  {
   "cell_type": "code",
   "execution_count": 14,
   "outputs": [
    {
     "data": {
      "text/plain": "       NewCreditCustomer  VerificationType  LanguageCode  Age  Gender  Amount  \\\n0                   True               1.0             3   24     1.0  6911.0   \n1                   True               4.0             3   18     1.0   531.0   \n2                  False               4.0             1   40     0.0   531.0   \n3                   True               4.0             1   37     0.0  4253.0   \n4                  False               4.0             1   44     0.0  5525.0   \n...                  ...               ...           ...  ...     ...     ...   \n42332               True               4.0             1   53     0.0   530.0   \n42333              False               4.0             1   61     0.0  2550.0   \n42334              False               1.0             1   26     1.0  1169.0   \n42335               True               4.0             1   45     0.0  3720.0   \n42336               True               4.0             1   46     0.0  7868.0   \n\n       Interest  LoanDuration  MonthlyPayment  Education  ...  \\\n0         29.53            60          230.77        4.0  ...   \n1         18.07            60           14.89        3.0  ...   \n2         36.43            60           19.43        5.0  ...   \n3         31.75            36          189.96        1.0  ...   \n4         24.73            60          179.70        4.0  ...   \n...         ...           ...             ...        ...  ...   \n42332     20.80            36           21.68        4.0  ...   \n42333     11.52            60           64.61        4.0  ...   \n42334      9.90            36           41.34        5.0  ...   \n42335     33.28            36          177.07        1.0  ...   \n42336     18.05            60          220.66        4.0  ...   \n\n       EmploymentDurationCurrentEmployer_UpTo4Years  \\\n0                                                 0   \n1                                                 0   \n2                                                 0   \n3                                                 0   \n4                                                 0   \n...                                             ...   \n42332                                             0   \n42333                                             0   \n42334                                             0   \n42335                                             0   \n42336                                             0   \n\n       EmploymentDurationCurrentEmployer_UpTo5Years  Rating_A  Rating_AA  \\\n0                                                 0         0          0   \n1                                                 0         0          0   \n2                                                 1         0          0   \n3                                                 0         0          0   \n4                                                 0         0          0   \n...                                             ...       ...        ...   \n42332                                             1         0          0   \n42333                                             0         1          0   \n42334                                             1         1          0   \n42335                                             0         0          0   \n42336                                             1         0          0   \n\n       Rating_B  Rating_C  Rating_D  Rating_E  Rating_F  Rating_HR  \n0             0         0         1         0         0          0  \n1             1         0         0         0         0          0  \n2             0         0         1         0         0          0  \n3             0         1         0         0         0          0  \n4             0         0         1         0         0          0  \n...         ...       ...       ...       ...       ...        ...  \n42332         0         1         0         0         0          0  \n42333         0         0         0         0         0          0  \n42334         0         0         0         0         0          0  \n42335         0         0         1         0         0          0  \n42336         1         0         0         0         0          0  \n\n[42337 rows x 37 columns]",
      "text/html": "<div>\n<style scoped>\n    .dataframe tbody tr th:only-of-type {\n        vertical-align: middle;\n    }\n\n    .dataframe tbody tr th {\n        vertical-align: top;\n    }\n\n    .dataframe thead th {\n        text-align: right;\n    }\n</style>\n<table border=\"1\" class=\"dataframe\">\n  <thead>\n    <tr style=\"text-align: right;\">\n      <th></th>\n      <th>NewCreditCustomer</th>\n      <th>VerificationType</th>\n      <th>LanguageCode</th>\n      <th>Age</th>\n      <th>Gender</th>\n      <th>Amount</th>\n      <th>Interest</th>\n      <th>LoanDuration</th>\n      <th>MonthlyPayment</th>\n      <th>Education</th>\n      <th>...</th>\n      <th>EmploymentDurationCurrentEmployer_UpTo4Years</th>\n      <th>EmploymentDurationCurrentEmployer_UpTo5Years</th>\n      <th>Rating_A</th>\n      <th>Rating_AA</th>\n      <th>Rating_B</th>\n      <th>Rating_C</th>\n      <th>Rating_D</th>\n      <th>Rating_E</th>\n      <th>Rating_F</th>\n      <th>Rating_HR</th>\n    </tr>\n  </thead>\n  <tbody>\n    <tr>\n      <th>0</th>\n      <td>True</td>\n      <td>1.0</td>\n      <td>3</td>\n      <td>24</td>\n      <td>1.0</td>\n      <td>6911.0</td>\n      <td>29.53</td>\n      <td>60</td>\n      <td>230.77</td>\n      <td>4.0</td>\n      <td>...</td>\n      <td>0</td>\n      <td>0</td>\n      <td>0</td>\n      <td>0</td>\n      <td>0</td>\n      <td>0</td>\n      <td>1</td>\n      <td>0</td>\n      <td>0</td>\n      <td>0</td>\n    </tr>\n    <tr>\n      <th>1</th>\n      <td>True</td>\n      <td>4.0</td>\n      <td>3</td>\n      <td>18</td>\n      <td>1.0</td>\n      <td>531.0</td>\n      <td>18.07</td>\n      <td>60</td>\n      <td>14.89</td>\n      <td>3.0</td>\n      <td>...</td>\n      <td>0</td>\n      <td>0</td>\n      <td>0</td>\n      <td>0</td>\n      <td>1</td>\n      <td>0</td>\n      <td>0</td>\n      <td>0</td>\n      <td>0</td>\n      <td>0</td>\n    </tr>\n    <tr>\n      <th>2</th>\n      <td>False</td>\n      <td>4.0</td>\n      <td>1</td>\n      <td>40</td>\n      <td>0.0</td>\n      <td>531.0</td>\n      <td>36.43</td>\n      <td>60</td>\n      <td>19.43</td>\n      <td>5.0</td>\n      <td>...</td>\n      <td>0</td>\n      <td>1</td>\n      <td>0</td>\n      <td>0</td>\n      <td>0</td>\n      <td>0</td>\n      <td>1</td>\n      <td>0</td>\n      <td>0</td>\n      <td>0</td>\n    </tr>\n    <tr>\n      <th>3</th>\n      <td>True</td>\n      <td>4.0</td>\n      <td>1</td>\n      <td>37</td>\n      <td>0.0</td>\n      <td>4253.0</td>\n      <td>31.75</td>\n      <td>36</td>\n      <td>189.96</td>\n      <td>1.0</td>\n      <td>...</td>\n      <td>0</td>\n      <td>0</td>\n      <td>0</td>\n      <td>0</td>\n      <td>0</td>\n      <td>1</td>\n      <td>0</td>\n      <td>0</td>\n      <td>0</td>\n      <td>0</td>\n    </tr>\n    <tr>\n      <th>4</th>\n      <td>False</td>\n      <td>4.0</td>\n      <td>1</td>\n      <td>44</td>\n      <td>0.0</td>\n      <td>5525.0</td>\n      <td>24.73</td>\n      <td>60</td>\n      <td>179.70</td>\n      <td>4.0</td>\n      <td>...</td>\n      <td>0</td>\n      <td>0</td>\n      <td>0</td>\n      <td>0</td>\n      <td>0</td>\n      <td>0</td>\n      <td>1</td>\n      <td>0</td>\n      <td>0</td>\n      <td>0</td>\n    </tr>\n    <tr>\n      <th>...</th>\n      <td>...</td>\n      <td>...</td>\n      <td>...</td>\n      <td>...</td>\n      <td>...</td>\n      <td>...</td>\n      <td>...</td>\n      <td>...</td>\n      <td>...</td>\n      <td>...</td>\n      <td>...</td>\n      <td>...</td>\n      <td>...</td>\n      <td>...</td>\n      <td>...</td>\n      <td>...</td>\n      <td>...</td>\n      <td>...</td>\n      <td>...</td>\n      <td>...</td>\n      <td>...</td>\n    </tr>\n    <tr>\n      <th>42332</th>\n      <td>True</td>\n      <td>4.0</td>\n      <td>1</td>\n      <td>53</td>\n      <td>0.0</td>\n      <td>530.0</td>\n      <td>20.80</td>\n      <td>36</td>\n      <td>21.68</td>\n      <td>4.0</td>\n      <td>...</td>\n      <td>0</td>\n      <td>1</td>\n      <td>0</td>\n      <td>0</td>\n      <td>0</td>\n      <td>1</td>\n      <td>0</td>\n      <td>0</td>\n      <td>0</td>\n      <td>0</td>\n    </tr>\n    <tr>\n      <th>42333</th>\n      <td>False</td>\n      <td>4.0</td>\n      <td>1</td>\n      <td>61</td>\n      <td>0.0</td>\n      <td>2550.0</td>\n      <td>11.52</td>\n      <td>60</td>\n      <td>64.61</td>\n      <td>4.0</td>\n      <td>...</td>\n      <td>0</td>\n      <td>0</td>\n      <td>1</td>\n      <td>0</td>\n      <td>0</td>\n      <td>0</td>\n      <td>0</td>\n      <td>0</td>\n      <td>0</td>\n      <td>0</td>\n    </tr>\n    <tr>\n      <th>42334</th>\n      <td>False</td>\n      <td>1.0</td>\n      <td>1</td>\n      <td>26</td>\n      <td>1.0</td>\n      <td>1169.0</td>\n      <td>9.90</td>\n      <td>36</td>\n      <td>41.34</td>\n      <td>5.0</td>\n      <td>...</td>\n      <td>0</td>\n      <td>1</td>\n      <td>1</td>\n      <td>0</td>\n      <td>0</td>\n      <td>0</td>\n      <td>0</td>\n      <td>0</td>\n      <td>0</td>\n      <td>0</td>\n    </tr>\n    <tr>\n      <th>42335</th>\n      <td>True</td>\n      <td>4.0</td>\n      <td>1</td>\n      <td>45</td>\n      <td>0.0</td>\n      <td>3720.0</td>\n      <td>33.28</td>\n      <td>36</td>\n      <td>177.07</td>\n      <td>1.0</td>\n      <td>...</td>\n      <td>0</td>\n      <td>0</td>\n      <td>0</td>\n      <td>0</td>\n      <td>0</td>\n      <td>0</td>\n      <td>1</td>\n      <td>0</td>\n      <td>0</td>\n      <td>0</td>\n    </tr>\n    <tr>\n      <th>42336</th>\n      <td>True</td>\n      <td>4.0</td>\n      <td>1</td>\n      <td>46</td>\n      <td>0.0</td>\n      <td>7868.0</td>\n      <td>18.05</td>\n      <td>60</td>\n      <td>220.66</td>\n      <td>4.0</td>\n      <td>...</td>\n      <td>0</td>\n      <td>1</td>\n      <td>0</td>\n      <td>0</td>\n      <td>1</td>\n      <td>0</td>\n      <td>0</td>\n      <td>0</td>\n      <td>0</td>\n      <td>0</td>\n    </tr>\n  </tbody>\n</table>\n<p>42337 rows × 37 columns</p>\n</div>"
     },
     "execution_count": 14,
     "metadata": {},
     "output_type": "execute_result"
    }
   ],
   "source": [
    "# One-hot encoding.\n",
    "df = pd.get_dummies(df)\n",
    "df"
   ],
   "metadata": {
    "collapsed": false,
    "pycharm": {
     "name": "#%%\n"
    }
   }
  },
  {
   "cell_type": "code",
   "execution_count": 15,
   "outputs": [],
   "source": [
    "# Defining the input and target values.\n",
    "X = df.drop('PreferLoan', axis=1)\n",
    "y = df['PreferLoan']"
   ],
   "metadata": {
    "collapsed": false,
    "pycharm": {
     "name": "#%%\n"
    }
   }
  },
  {
   "cell_type": "markdown",
   "source": [
    "An imbalance of preferred loans and not preferred loans can be seen, but it should not be a problem."
   ],
   "metadata": {
    "collapsed": false
   }
  },
  {
   "cell_type": "code",
   "execution_count": 16,
   "outputs": [
    {
     "data": {
      "text/plain": "0    32286\n1    10051\nName: PreferLoan, dtype: int64"
     },
     "execution_count": 16,
     "metadata": {},
     "output_type": "execute_result"
    }
   ],
   "source": [
    "y.value_counts()"
   ],
   "metadata": {
    "collapsed": false,
    "pycharm": {
     "name": "#%%\n"
    }
   }
  },
  {
   "cell_type": "markdown",
   "source": [
    "## Training the models\n",
    "\n",
    "We create a dictionary that consists of different models and hyperparameters for those models. After that we use RandomizedSearchCV for finding the optimal hyperparameters. In this instance we prefer it to GridSearchCV because it is a lot faster. However with GridSearchCV it is possible to do a more exhaustive search and therefore potentially get more accurate hyperparameters.\n",
    "\n",
    "We create a dictionary of 3 different models that are commonly used for such classification tasks. Parameters with different possible values are also included."
   ],
   "metadata": {
    "collapsed": false,
    "pycharm": {
     "name": "#%% md\n"
    }
   }
  },
  {
   "cell_type": "code",
   "execution_count": 17,
   "outputs": [],
   "source": [
    "from sklearn.linear_model import LogisticRegression\n",
    "from sklearn.ensemble import RandomForestClassifier\n",
    "import xgboost as xgb\n",
    "from sklearn.model_selection import RandomizedSearchCV\n",
    "\n",
    "scale_pos_weight = y.value_counts()[1]/y.value_counts()[0]\n",
    "\n",
    "model_params = {\n",
    "    'random_forest' : {\n",
    "        'model' : RandomForestClassifier(),\n",
    "        'params' : {\n",
    "            'max_depth': [50, 75, 100, 125, 150, 175, 200, None],\n",
    "            'max_features': ['auto', 'sqrt', 'log2', 1, 2, 3, 4, 5, 6],\n",
    "            'min_samples_leaf': [1, 2, 3, 4, 8, 10, 12, 15],\n",
    "            'min_samples_split' : [1, 2, 3, 4, 8, 10, 12, 15],\n",
    "            'n_estimators': [10, 50, 75, 100, 125, 150, 175, 200],\n",
    "            'criterion': ['gini', 'entropy']\n",
    "        }\n",
    "    },\n",
    "    'logistic_regression' : {\n",
    "        'model' : LogisticRegression(),\n",
    "        'params' : {\n",
    "            'penalty': ['none', 'l1', 'l2', 'elasticnet'],\n",
    "            'solver' : ['lbfgs', 'newton-cg', 'liblinear', 'sag', 'saga'],\n",
    "            'C' : [0.01, 0.05, 0.1, 0.25, 0.5, 0,75, 1, 1.25, 2, 5, 10],\n",
    "            'max_iter' : [10, 50, 75, 100, 150, 200, 250, 300]\n",
    "        }\n",
    "    },\n",
    "    'xgboost' : {\n",
    "        'model' : xgb.XGBClassifier(),\n",
    "        'params' : {\n",
    "            \"max_depth\": [1, 2, 3, 4, 5, 7],\n",
    "            \"gamma\": [0, 0.1, 0.25, 0.5, 1],\n",
    "            \"reg_lambda\": [0, 1, 5, 10, 15, 25, 50],\n",
    "            \"subsample\": [0.7, 0.8, 0.9],\n",
    "            \"colsample_bytree\": [0.1, 0.25, 0.5, 0.75, 1],\n",
    "            'scale_pos_weight ' : [scale_pos_weight, 1, 3, 5, 10, 15, 20]\n",
    "        }\n",
    "    }\n",
    "}"
   ],
   "metadata": {
    "collapsed": false,
    "pycharm": {
     "name": "#%%\n"
    }
   }
  },
  {
   "cell_type": "markdown",
   "source": [
    "We create an empty list \"scores\" in which we append the training results and best parameters. We also use three different scoring functions to train the models as it is interesting to see how models with different scoring functions perform in the validation step. After that models with the best parameters are saved so they can be used in the validation step."
   ],
   "metadata": {
    "collapsed": false
   }
  },
  {
   "cell_type": "code",
   "execution_count": 18,
   "outputs": [],
   "source": [
    "# List for keeping track of training results.\n",
    "scores = []\n",
    "\n",
    "# List of scoring functions.\n",
    "score_func = ['precision', 'f1', 'roc_auc']"
   ],
   "metadata": {
    "collapsed": false,
    "pycharm": {
     "name": "#%%\n"
    }
   }
  },
  {
   "cell_type": "code",
   "execution_count": null,
   "outputs": [],
   "source": [
    "for s in score_func:\n",
    "    for m_name, m_params in model_params.items():\n",
    "        model_name = m_name + \"_\" + s\n",
    "\n",
    "        clf = RandomizedSearchCV(m_params['model'], m_params['params'], cv = 3, return_train_score = False, scoring = s, n_iter=25, n_jobs=-1)\n",
    "        clf.fit(X, y)\n",
    "        scores.append({\n",
    "            'model': model_name,\n",
    "            'best_score': clf.best_score_,\n",
    "            'best_params': clf.best_params_\n",
    "        })\n",
    "        dump(clf, f'models/{model_name}.joblib')"
   ],
   "metadata": {
    "collapsed": false,
    "pycharm": {
     "name": "#%%\n",
     "is_executing": true
    }
   }
  },
  {
   "cell_type": "markdown",
   "source": [
    "The results can be seen below. The mean cross-validated score of the best model can be seen for each model and scoring function. It is hard to draw any conclusions from these results because each scoring function is calculated differently. And we have yet to seen how these models perform when using different threshold levels for the classification probability."
   ],
   "metadata": {
    "collapsed": false
   }
  },
  {
   "cell_type": "code",
   "execution_count": 20,
   "outputs": [
    {
     "data": {
      "text/plain": "                           model  best_score  \\\n0        random_forest_precision    0.764299   \n1  logistic_regression_precision    0.640440   \n2              xgboost_precision    0.641325   \n3               random_forest_f1    0.317379   \n4         logistic_regression_f1    0.194690   \n5                     xgboost_f1    0.363161   \n6          random_forest_roc_auc    0.739559   \n7    logistic_regression_roc_auc    0.687908   \n8                xgboost_roc_auc    0.737722   \n\n                                         best_params  \n0  {'n_estimators': 100, 'min_samples_split': 3, ...  \n1  {'solver': 'liblinear', 'penalty': 'l1', 'max_...  \n2  {'subsample': 0.7, 'scale_pos_weight ': 10, 'r...  \n3  {'n_estimators': 10, 'min_samples_split': 3, '...  \n4  {'solver': 'newton-cg', 'penalty': 'l2', 'max_...  \n5  {'subsample': 0.8, 'scale_pos_weight ': 10, 'r...  \n6  {'n_estimators': 175, 'min_samples_split': 4, ...  \n7  {'solver': 'newton-cg', 'penalty': 'l2', 'max_...  \n8  {'subsample': 0.8, 'scale_pos_weight ': 20, 'r...  ",
      "text/html": "<div>\n<style scoped>\n    .dataframe tbody tr th:only-of-type {\n        vertical-align: middle;\n    }\n\n    .dataframe tbody tr th {\n        vertical-align: top;\n    }\n\n    .dataframe thead th {\n        text-align: right;\n    }\n</style>\n<table border=\"1\" class=\"dataframe\">\n  <thead>\n    <tr style=\"text-align: right;\">\n      <th></th>\n      <th>model</th>\n      <th>best_score</th>\n      <th>best_params</th>\n    </tr>\n  </thead>\n  <tbody>\n    <tr>\n      <th>0</th>\n      <td>random_forest_precision</td>\n      <td>0.764299</td>\n      <td>{'n_estimators': 100, 'min_samples_split': 3, ...</td>\n    </tr>\n    <tr>\n      <th>1</th>\n      <td>logistic_regression_precision</td>\n      <td>0.640440</td>\n      <td>{'solver': 'liblinear', 'penalty': 'l1', 'max_...</td>\n    </tr>\n    <tr>\n      <th>2</th>\n      <td>xgboost_precision</td>\n      <td>0.641325</td>\n      <td>{'subsample': 0.7, 'scale_pos_weight ': 10, 'r...</td>\n    </tr>\n    <tr>\n      <th>3</th>\n      <td>random_forest_f1</td>\n      <td>0.317379</td>\n      <td>{'n_estimators': 10, 'min_samples_split': 3, '...</td>\n    </tr>\n    <tr>\n      <th>4</th>\n      <td>logistic_regression_f1</td>\n      <td>0.194690</td>\n      <td>{'solver': 'newton-cg', 'penalty': 'l2', 'max_...</td>\n    </tr>\n    <tr>\n      <th>5</th>\n      <td>xgboost_f1</td>\n      <td>0.363161</td>\n      <td>{'subsample': 0.8, 'scale_pos_weight ': 10, 'r...</td>\n    </tr>\n    <tr>\n      <th>6</th>\n      <td>random_forest_roc_auc</td>\n      <td>0.739559</td>\n      <td>{'n_estimators': 175, 'min_samples_split': 4, ...</td>\n    </tr>\n    <tr>\n      <th>7</th>\n      <td>logistic_regression_roc_auc</td>\n      <td>0.687908</td>\n      <td>{'solver': 'newton-cg', 'penalty': 'l2', 'max_...</td>\n    </tr>\n    <tr>\n      <th>8</th>\n      <td>xgboost_roc_auc</td>\n      <td>0.737722</td>\n      <td>{'subsample': 0.8, 'scale_pos_weight ': 20, 'r...</td>\n    </tr>\n  </tbody>\n</table>\n</div>"
     },
     "execution_count": 20,
     "metadata": {},
     "output_type": "execute_result"
    }
   ],
   "source": [
    "pd.DataFrame(scores, columns=['model', 'best_score', 'best_params'])"
   ],
   "metadata": {
    "collapsed": false,
    "pycharm": {
     "name": "#%%\n"
    }
   }
  }
 ],
 "metadata": {
  "kernelspec": {
   "display_name": "Python 3",
   "language": "python",
   "name": "python3"
  },
  "language_info": {
   "codemirror_mode": {
    "name": "ipython",
    "version": 2
   },
   "file_extension": ".py",
   "mimetype": "text/x-python",
   "name": "python",
   "nbconvert_exporter": "python",
   "pygments_lexer": "ipython2",
   "version": "2.7.6"
  }
 },
 "nbformat": 4,
 "nbformat_minor": 0
}