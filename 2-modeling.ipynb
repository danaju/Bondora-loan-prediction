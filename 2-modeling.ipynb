{
 "cells": [
  {
   "cell_type": "markdown",
   "source": [
    "# 2. Modeling\n",
    "\n",
    "This worksheet focuses on training different kinds of models that predict the outcomes of the loans."
   ],
   "metadata": {
    "collapsed": false
   }
  },
  {
   "cell_type": "code",
   "execution_count": 1,
   "outputs": [],
   "source": [
    "import pandas as pd\n",
    "import numpy as np\n",
    "from joblib import dump\n",
    "\n",
    "np.random.seed(1151)"
   ],
   "metadata": {
    "collapsed": false,
    "pycharm": {
     "name": "#%%\n"
    }
   }
  },
  {
   "cell_type": "markdown",
   "source": [
    "## Preparing data for modeling\n",
    "\n",
    "In order to start training models we need to choose which features to use. After that we check for null values and deal with categorical values by one-hot encoding them. The last step is to create the input and target values."
   ],
   "metadata": {
    "collapsed": false
   }
  },
  {
   "cell_type": "code",
   "execution_count": 2,
   "outputs": [],
   "source": [
    "df = pd.read_csv(\"data/train_data.csv\")\n",
    "\n",
    "# Columns that are used as inputs in the models.\n",
    "input_cols = ['NewCreditCustomer', 'VerificationType', 'LanguageCode', 'Age', 'Gender',\n",
    "                 'Amount', 'Interest', 'LoanDuration', 'MonthlyPayment',\n",
    "                 'Education', 'EmploymentDurationCurrentEmployer', 'HomeOwnershipType', 'IncomeTotal',\n",
    "                 'ExistingLiabilities', 'LiabilitiesTotal', 'Rating',\n",
    "                 'CreditScoreEeMini', 'NoOfPreviousLoansBeforeLoan', 'AmountOfPreviousLoansBeforeLoan',\n",
    "                 'PreviousRepaymentsBeforeLoan', 'PreviousEarlyRepaymentsBefoleLoan', 'PreferLoan']\n",
    "\n",
    "df = df[input_cols]"
   ],
   "metadata": {
    "collapsed": false,
    "pycharm": {
     "name": "#%%\n"
    }
   }
  },
  {
   "cell_type": "code",
   "execution_count": 3,
   "outputs": [
    {
     "data": {
      "text/plain": "NewCreditCustomer                    0\nVerificationType                     0\nLanguageCode                         0\nAge                                  0\nGender                               0\nAmount                               0\nInterest                             0\nLoanDuration                         0\nMonthlyPayment                       0\nEducation                            0\nEmploymentDurationCurrentEmployer    0\nHomeOwnershipType                    0\nIncomeTotal                          0\nExistingLiabilities                  0\nLiabilitiesTotal                     0\nRating                               0\nCreditScoreEeMini                    0\nNoOfPreviousLoansBeforeLoan          0\nAmountOfPreviousLoansBeforeLoan      0\nPreviousRepaymentsBeforeLoan         0\nPreviousEarlyRepaymentsBefoleLoan    0\nPreferLoan                           0\ndtype: int64"
     },
     "execution_count": 3,
     "metadata": {},
     "output_type": "execute_result"
    }
   ],
   "source": [
    "# Check for null values.\n",
    "df.isna().sum()"
   ],
   "metadata": {
    "collapsed": false,
    "pycharm": {
     "name": "#%%\n"
    }
   }
  },
  {
   "cell_type": "code",
   "execution_count": 4,
   "outputs": [
    {
     "data": {
      "text/plain": "       NewCreditCustomer  VerificationType  LanguageCode  Age  Gender  Amount  \\\n0                  False               1.0             1   35     0.0  4250.0   \n1                  False               1.0             1   38     1.0  1380.0   \n2                  False               4.0             1   33     0.0  1275.0   \n3                  False               1.0             1   55     0.0   635.0   \n4                   True               1.0             3   24     0.0  2126.0   \n...                  ...               ...           ...  ...     ...     ...   \n42116              False               4.0             1   67     0.0   635.0   \n42117               True               4.0             1   30     0.0  1063.0   \n42118               True               4.0             1   31     1.0  1805.0   \n42119               True               4.0             1   24     1.0  2339.0   \n42120               True               1.0             1   29     0.0  2445.0   \n\n       Interest  LoanDuration  MonthlyPayment  Education  ...  \\\n0         20.80            36          173.86        4.0  ...   \n1         13.99            36           51.76        4.0  ...   \n2         19.62            36           51.39        4.0  ...   \n3         16.58            36           24.62        4.0  ...   \n4         23.22            36           87.31        4.0  ...   \n...         ...           ...             ...        ...  ...   \n42116     11.52            36           23.06        4.0  ...   \n42117     12.72             6          187.06        1.0  ...   \n42118     36.27            60           71.55        4.0  ...   \n42119     22.79            24          127.77        4.0  ...   \n42120     31.76            36          114.31        4.0  ...   \n\n       EmploymentDurationCurrentEmployer_UpTo4Years  \\\n0                                                 0   \n1                                                 0   \n2                                                 1   \n3                                                 0   \n4                                                 0   \n...                                             ...   \n42116                                             0   \n42117                                             0   \n42118                                             0   \n42119                                             0   \n42120                                             0   \n\n       EmploymentDurationCurrentEmployer_UpTo5Years  Rating_A  Rating_AA  \\\n0                                                 1         0          0   \n1                                                 0         0          0   \n2                                                 0         0          0   \n3                                                 0         0          0   \n4                                                 0         0          0   \n...                                             ...       ...        ...   \n42116                                             0         1          0   \n42117                                             1         1          0   \n42118                                             0         0          0   \n42119                                             1         0          0   \n42120                                             1         0          0   \n\n       Rating_B  Rating_C  Rating_D  Rating_E  Rating_F  Rating_HR  \n0             0         1         0         0         0          0  \n1             1         0         0         0         0          0  \n2             0         1         0         0         0          0  \n3             1         0         0         0         0          0  \n4             0         1         0         0         0          0  \n...         ...       ...       ...       ...       ...        ...  \n42116         0         0         0         0         0          0  \n42117         0         0         0         0         0          0  \n42118         0         0         0         1         0          0  \n42119         0         1         0         0         0          0  \n42120         0         0         1         0         0          0  \n\n[42121 rows x 37 columns]",
      "text/html": "<div>\n<style scoped>\n    .dataframe tbody tr th:only-of-type {\n        vertical-align: middle;\n    }\n\n    .dataframe tbody tr th {\n        vertical-align: top;\n    }\n\n    .dataframe thead th {\n        text-align: right;\n    }\n</style>\n<table border=\"1\" class=\"dataframe\">\n  <thead>\n    <tr style=\"text-align: right;\">\n      <th></th>\n      <th>NewCreditCustomer</th>\n      <th>VerificationType</th>\n      <th>LanguageCode</th>\n      <th>Age</th>\n      <th>Gender</th>\n      <th>Amount</th>\n      <th>Interest</th>\n      <th>LoanDuration</th>\n      <th>MonthlyPayment</th>\n      <th>Education</th>\n      <th>...</th>\n      <th>EmploymentDurationCurrentEmployer_UpTo4Years</th>\n      <th>EmploymentDurationCurrentEmployer_UpTo5Years</th>\n      <th>Rating_A</th>\n      <th>Rating_AA</th>\n      <th>Rating_B</th>\n      <th>Rating_C</th>\n      <th>Rating_D</th>\n      <th>Rating_E</th>\n      <th>Rating_F</th>\n      <th>Rating_HR</th>\n    </tr>\n  </thead>\n  <tbody>\n    <tr>\n      <th>0</th>\n      <td>False</td>\n      <td>1.0</td>\n      <td>1</td>\n      <td>35</td>\n      <td>0.0</td>\n      <td>4250.0</td>\n      <td>20.80</td>\n      <td>36</td>\n      <td>173.86</td>\n      <td>4.0</td>\n      <td>...</td>\n      <td>0</td>\n      <td>1</td>\n      <td>0</td>\n      <td>0</td>\n      <td>0</td>\n      <td>1</td>\n      <td>0</td>\n      <td>0</td>\n      <td>0</td>\n      <td>0</td>\n    </tr>\n    <tr>\n      <th>1</th>\n      <td>False</td>\n      <td>1.0</td>\n      <td>1</td>\n      <td>38</td>\n      <td>1.0</td>\n      <td>1380.0</td>\n      <td>13.99</td>\n      <td>36</td>\n      <td>51.76</td>\n      <td>4.0</td>\n      <td>...</td>\n      <td>0</td>\n      <td>0</td>\n      <td>0</td>\n      <td>0</td>\n      <td>1</td>\n      <td>0</td>\n      <td>0</td>\n      <td>0</td>\n      <td>0</td>\n      <td>0</td>\n    </tr>\n    <tr>\n      <th>2</th>\n      <td>False</td>\n      <td>4.0</td>\n      <td>1</td>\n      <td>33</td>\n      <td>0.0</td>\n      <td>1275.0</td>\n      <td>19.62</td>\n      <td>36</td>\n      <td>51.39</td>\n      <td>4.0</td>\n      <td>...</td>\n      <td>1</td>\n      <td>0</td>\n      <td>0</td>\n      <td>0</td>\n      <td>0</td>\n      <td>1</td>\n      <td>0</td>\n      <td>0</td>\n      <td>0</td>\n      <td>0</td>\n    </tr>\n    <tr>\n      <th>3</th>\n      <td>False</td>\n      <td>1.0</td>\n      <td>1</td>\n      <td>55</td>\n      <td>0.0</td>\n      <td>635.0</td>\n      <td>16.58</td>\n      <td>36</td>\n      <td>24.62</td>\n      <td>4.0</td>\n      <td>...</td>\n      <td>0</td>\n      <td>0</td>\n      <td>0</td>\n      <td>0</td>\n      <td>1</td>\n      <td>0</td>\n      <td>0</td>\n      <td>0</td>\n      <td>0</td>\n      <td>0</td>\n    </tr>\n    <tr>\n      <th>4</th>\n      <td>True</td>\n      <td>1.0</td>\n      <td>3</td>\n      <td>24</td>\n      <td>0.0</td>\n      <td>2126.0</td>\n      <td>23.22</td>\n      <td>36</td>\n      <td>87.31</td>\n      <td>4.0</td>\n      <td>...</td>\n      <td>0</td>\n      <td>0</td>\n      <td>0</td>\n      <td>0</td>\n      <td>0</td>\n      <td>1</td>\n      <td>0</td>\n      <td>0</td>\n      <td>0</td>\n      <td>0</td>\n    </tr>\n    <tr>\n      <th>...</th>\n      <td>...</td>\n      <td>...</td>\n      <td>...</td>\n      <td>...</td>\n      <td>...</td>\n      <td>...</td>\n      <td>...</td>\n      <td>...</td>\n      <td>...</td>\n      <td>...</td>\n      <td>...</td>\n      <td>...</td>\n      <td>...</td>\n      <td>...</td>\n      <td>...</td>\n      <td>...</td>\n      <td>...</td>\n      <td>...</td>\n      <td>...</td>\n      <td>...</td>\n      <td>...</td>\n    </tr>\n    <tr>\n      <th>42116</th>\n      <td>False</td>\n      <td>4.0</td>\n      <td>1</td>\n      <td>67</td>\n      <td>0.0</td>\n      <td>635.0</td>\n      <td>11.52</td>\n      <td>36</td>\n      <td>23.06</td>\n      <td>4.0</td>\n      <td>...</td>\n      <td>0</td>\n      <td>0</td>\n      <td>1</td>\n      <td>0</td>\n      <td>0</td>\n      <td>0</td>\n      <td>0</td>\n      <td>0</td>\n      <td>0</td>\n      <td>0</td>\n    </tr>\n    <tr>\n      <th>42117</th>\n      <td>True</td>\n      <td>4.0</td>\n      <td>1</td>\n      <td>30</td>\n      <td>0.0</td>\n      <td>1063.0</td>\n      <td>12.72</td>\n      <td>6</td>\n      <td>187.06</td>\n      <td>1.0</td>\n      <td>...</td>\n      <td>0</td>\n      <td>1</td>\n      <td>1</td>\n      <td>0</td>\n      <td>0</td>\n      <td>0</td>\n      <td>0</td>\n      <td>0</td>\n      <td>0</td>\n      <td>0</td>\n    </tr>\n    <tr>\n      <th>42118</th>\n      <td>True</td>\n      <td>4.0</td>\n      <td>1</td>\n      <td>31</td>\n      <td>1.0</td>\n      <td>1805.0</td>\n      <td>36.27</td>\n      <td>60</td>\n      <td>71.55</td>\n      <td>4.0</td>\n      <td>...</td>\n      <td>0</td>\n      <td>0</td>\n      <td>0</td>\n      <td>0</td>\n      <td>0</td>\n      <td>0</td>\n      <td>0</td>\n      <td>1</td>\n      <td>0</td>\n      <td>0</td>\n    </tr>\n    <tr>\n      <th>42119</th>\n      <td>True</td>\n      <td>4.0</td>\n      <td>1</td>\n      <td>24</td>\n      <td>1.0</td>\n      <td>2339.0</td>\n      <td>22.79</td>\n      <td>24</td>\n      <td>127.77</td>\n      <td>4.0</td>\n      <td>...</td>\n      <td>0</td>\n      <td>1</td>\n      <td>0</td>\n      <td>0</td>\n      <td>0</td>\n      <td>1</td>\n      <td>0</td>\n      <td>0</td>\n      <td>0</td>\n      <td>0</td>\n    </tr>\n    <tr>\n      <th>42120</th>\n      <td>True</td>\n      <td>1.0</td>\n      <td>1</td>\n      <td>29</td>\n      <td>0.0</td>\n      <td>2445.0</td>\n      <td>31.76</td>\n      <td>36</td>\n      <td>114.31</td>\n      <td>4.0</td>\n      <td>...</td>\n      <td>0</td>\n      <td>1</td>\n      <td>0</td>\n      <td>0</td>\n      <td>0</td>\n      <td>0</td>\n      <td>1</td>\n      <td>0</td>\n      <td>0</td>\n      <td>0</td>\n    </tr>\n  </tbody>\n</table>\n<p>42121 rows × 37 columns</p>\n</div>"
     },
     "execution_count": 4,
     "metadata": {},
     "output_type": "execute_result"
    }
   ],
   "source": [
    "# One-hot encoding.\n",
    "df = pd.get_dummies(df)\n",
    "df"
   ],
   "metadata": {
    "collapsed": false,
    "pycharm": {
     "name": "#%%\n"
    }
   }
  },
  {
   "cell_type": "code",
   "execution_count": 5,
   "outputs": [],
   "source": [
    "# Defining the input and target values.\n",
    "X = df.drop('PreferLoan', axis=1)\n",
    "y = df['PreferLoan']"
   ],
   "metadata": {
    "collapsed": false,
    "pycharm": {
     "name": "#%%\n"
    }
   }
  },
  {
   "cell_type": "markdown",
   "source": [
    "An imbalance of preferred loans and not preferred loans can be seen, but it should not be a problem."
   ],
   "metadata": {
    "collapsed": false
   }
  },
  {
   "cell_type": "code",
   "execution_count": 6,
   "outputs": [
    {
     "data": {
      "text/plain": "0    32135\n1     9986\nName: PreferLoan, dtype: int64"
     },
     "execution_count": 6,
     "metadata": {},
     "output_type": "execute_result"
    }
   ],
   "source": [
    "y.value_counts()"
   ],
   "metadata": {
    "collapsed": false,
    "pycharm": {
     "name": "#%%\n"
    }
   }
  },
  {
   "cell_type": "markdown",
   "source": [
    "## Training the models\n",
    "\n",
    "We create a dictionary that consists of different models and hyperparameters for those models. After that we use RandomizedSearchCV for finding the optimal hyperparameters. In this instance we prefer it to GridSearchCV because it is a lot faster. However with GridSearchCV it is possible to do a more exhaustive search and therefore potentially get more accurate hyperparameters.\n",
    "\n",
    "We create a dictionary of 3 different models that are commonly used for such classification tasks. Parameters with different possible values are also included."
   ],
   "metadata": {
    "collapsed": false,
    "pycharm": {
     "name": "#%% md\n"
    }
   }
  },
  {
   "cell_type": "code",
   "execution_count": 7,
   "outputs": [],
   "source": [
    "from sklearn.linear_model import LogisticRegression\n",
    "from sklearn.ensemble import RandomForestClassifier\n",
    "import xgboost as xgb\n",
    "from sklearn.model_selection import RandomizedSearchCV\n",
    "\n",
    "scale_pos_weight = y.value_counts()[1]/y.value_counts()[0]\n",
    "\n",
    "model_params = {\n",
    "    'random_forest' : {\n",
    "        'model' : RandomForestClassifier(),\n",
    "        'params' : {\n",
    "            'max_depth': [50, 75, 100, 125, 150, 175, 200, None],\n",
    "            'max_features': ['auto', 'sqrt', 'log2', 1, 2, 3, 4, 5, 6],\n",
    "            'min_samples_leaf': [1, 2, 3, 4, 8, 10, 12, 15],\n",
    "            'min_samples_split' : [1, 2, 3, 4, 8, 10, 12, 15],\n",
    "            'n_estimators': [10, 50, 75, 100, 125, 150, 175, 200],\n",
    "            'criterion': ['gini', 'entropy']\n",
    "        }\n",
    "    },\n",
    "    'logistic_regression' : {\n",
    "        'model' : LogisticRegression(),\n",
    "        'params' : {\n",
    "            'penalty': ['none', 'l1', 'l2', 'elasticnet'],\n",
    "            'solver' : ['lbfgs', 'newton-cg', 'liblinear', 'sag', 'saga'],\n",
    "            'C' : [0.01, 0.05, 0.1, 0.25, 0.5, 0,75, 1, 1.25, 2, 5, 10],\n",
    "            'max_iter' : [10, 50, 75, 100, 150, 200, 250, 300]\n",
    "        }\n",
    "    },\n",
    "    'xgboost' : {\n",
    "        'model' : xgb.XGBClassifier(),\n",
    "        'params' : {\n",
    "            \"max_depth\": [1, 2, 3, 4, 5, 7],\n",
    "            \"gamma\": [0, 0.1, 0.25, 0.5, 1],\n",
    "            \"reg_lambda\": [0, 1, 5, 10, 15, 25, 50],\n",
    "            \"subsample\": [0.7, 0.8, 0.9],\n",
    "            \"colsample_bytree\": [0.1, 0.25, 0.5, 0.75, 1],\n",
    "            'scale_pos_weight ' : [scale_pos_weight, 1, 3, 5, 10, 15, 20]\n",
    "        }\n",
    "    }\n",
    "}"
   ],
   "metadata": {
    "collapsed": false,
    "pycharm": {
     "name": "#%%\n"
    }
   }
  },
  {
   "cell_type": "markdown",
   "source": [
    "We create an empty list \"scores\" in which we append the training results and best parameters. We also use three different scoring functions to train the models as it is interesting to see how models with different scoring functions perform in the validation step. After that models with the best parameters are saved so they can be used in the validation step."
   ],
   "metadata": {
    "collapsed": false
   }
  },
  {
   "cell_type": "code",
   "execution_count": 8,
   "outputs": [],
   "source": [
    "# List for keeping track of training results.\n",
    "scores = []\n",
    "score_func = ['precision', 'f1', 'roc_auc']"
   ],
   "metadata": {
    "collapsed": false,
    "pycharm": {
     "name": "#%%\n"
    }
   }
  },
  {
   "cell_type": "code",
   "execution_count": null,
   "outputs": [],
   "source": [
    "for s in score_func:\n",
    "    for m_name, m_params in model_params.items():\n",
    "        model_name = m_name + \"_\" + s\n",
    "\n",
    "        clf = RandomizedSearchCV(m_params['model'], m_params['params'], cv = 3, return_train_score = False, scoring = s, n_iter=25, n_jobs=-1)\n",
    "        clf.fit(X, y)\n",
    "\n",
    "        scores.append({\n",
    "            'model': model_name,\n",
    "            'best_score': clf.best_score_,\n",
    "            'best_params': clf.best_params_\n",
    "        })\n",
    "        dump(clf, f'models/{model_name}.joblib')"
   ],
   "metadata": {
    "collapsed": false,
    "pycharm": {
     "name": "#%%\n",
     "is_executing": true
    }
   }
  },
  {
   "cell_type": "markdown",
   "source": [
    "The results can be seen below. The mean cross-validated score of the best model can be seen for each model and scoring function. It is hard to draw any conclusions from these results because each scoring function is calculated differently. And we have yet to seen how these models perform when using different threshold levels for the classification probability."
   ],
   "metadata": {
    "collapsed": false
   }
  },
  {
   "cell_type": "code",
   "execution_count": 10,
   "outputs": [
    {
     "data": {
      "text/plain": "                           model  best_score  \\\n0        random_forest_precision    0.762117   \n1  logistic_regression_precision    0.640689   \n2              xgboost_precision    0.640899   \n3               random_forest_f1    0.319817   \n4         logistic_regression_f1    0.204101   \n5                     xgboost_f1    0.369104   \n6          random_forest_roc_auc    0.741491   \n7    logistic_regression_roc_auc    0.690164   \n8                xgboost_roc_auc    0.739972   \n\n                                         best_params  \n0  {'n_estimators': 100, 'min_samples_split': 3, ...  \n1  {'solver': 'liblinear', 'penalty': 'l1', 'max_...  \n2  {'subsample': 0.9, 'scale_pos_weight ': 3, 're...  \n3  {'n_estimators': 10, 'min_samples_split': 3, '...  \n4  {'solver': 'newton-cg', 'penalty': 'none', 'ma...  \n5  {'subsample': 0.8, 'scale_pos_weight ': 10, 'r...  \n6  {'n_estimators': 175, 'min_samples_split': 4, ...  \n7  {'solver': 'newton-cg', 'penalty': 'l2', 'max_...  \n8  {'subsample': 0.9, 'scale_pos_weight ': 15, 'r...  ",
      "text/html": "<div>\n<style scoped>\n    .dataframe tbody tr th:only-of-type {\n        vertical-align: middle;\n    }\n\n    .dataframe tbody tr th {\n        vertical-align: top;\n    }\n\n    .dataframe thead th {\n        text-align: right;\n    }\n</style>\n<table border=\"1\" class=\"dataframe\">\n  <thead>\n    <tr style=\"text-align: right;\">\n      <th></th>\n      <th>model</th>\n      <th>best_score</th>\n      <th>best_params</th>\n    </tr>\n  </thead>\n  <tbody>\n    <tr>\n      <th>0</th>\n      <td>random_forest_precision</td>\n      <td>0.762117</td>\n      <td>{'n_estimators': 100, 'min_samples_split': 3, ...</td>\n    </tr>\n    <tr>\n      <th>1</th>\n      <td>logistic_regression_precision</td>\n      <td>0.640689</td>\n      <td>{'solver': 'liblinear', 'penalty': 'l1', 'max_...</td>\n    </tr>\n    <tr>\n      <th>2</th>\n      <td>xgboost_precision</td>\n      <td>0.640899</td>\n      <td>{'subsample': 0.9, 'scale_pos_weight ': 3, 're...</td>\n    </tr>\n    <tr>\n      <th>3</th>\n      <td>random_forest_f1</td>\n      <td>0.319817</td>\n      <td>{'n_estimators': 10, 'min_samples_split': 3, '...</td>\n    </tr>\n    <tr>\n      <th>4</th>\n      <td>logistic_regression_f1</td>\n      <td>0.204101</td>\n      <td>{'solver': 'newton-cg', 'penalty': 'none', 'ma...</td>\n    </tr>\n    <tr>\n      <th>5</th>\n      <td>xgboost_f1</td>\n      <td>0.369104</td>\n      <td>{'subsample': 0.8, 'scale_pos_weight ': 10, 'r...</td>\n    </tr>\n    <tr>\n      <th>6</th>\n      <td>random_forest_roc_auc</td>\n      <td>0.741491</td>\n      <td>{'n_estimators': 175, 'min_samples_split': 4, ...</td>\n    </tr>\n    <tr>\n      <th>7</th>\n      <td>logistic_regression_roc_auc</td>\n      <td>0.690164</td>\n      <td>{'solver': 'newton-cg', 'penalty': 'l2', 'max_...</td>\n    </tr>\n    <tr>\n      <th>8</th>\n      <td>xgboost_roc_auc</td>\n      <td>0.739972</td>\n      <td>{'subsample': 0.9, 'scale_pos_weight ': 15, 'r...</td>\n    </tr>\n  </tbody>\n</table>\n</div>"
     },
     "execution_count": 10,
     "metadata": {},
     "output_type": "execute_result"
    }
   ],
   "source": [
    "pd.DataFrame(scores, columns=['model', 'best_score', 'best_params'])"
   ],
   "metadata": {
    "collapsed": false,
    "pycharm": {
     "name": "#%%\n"
    }
   }
  }
 ],
 "metadata": {
  "kernelspec": {
   "display_name": "Python 3",
   "language": "python",
   "name": "python3"
  },
  "language_info": {
   "codemirror_mode": {
    "name": "ipython",
    "version": 2
   },
   "file_extension": ".py",
   "mimetype": "text/x-python",
   "name": "python",
   "nbconvert_exporter": "python",
   "pygments_lexer": "ipython2",
   "version": "2.7.6"
  }
 },
 "nbformat": 4,
 "nbformat_minor": 0
}