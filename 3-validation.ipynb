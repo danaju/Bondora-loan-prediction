{
 "cells": [
  {
   "cell_type": "markdown",
   "metadata": {
    "collapsed": true,
    "pycharm": {
     "name": "#%% md\n"
    }
   },
   "source": [
    "# 3. Validation\n",
    "\n",
    "In this worksheet we validate the models that we trained and choose the best one."
   ]
  },
  {
   "cell_type": "code",
   "execution_count": 45,
   "outputs": [],
   "source": [
    "import pandas as pd\n",
    "pd.options.mode.chained_assignment = None\n",
    "import numpy as np\n",
    "import os\n",
    "from joblib import load"
   ],
   "metadata": {
    "collapsed": false,
    "pycharm": {
     "name": "#%%\n"
    }
   }
  },
  {
   "cell_type": "code",
   "execution_count": 46,
   "outputs": [],
   "source": [
    "validation_df = pd.read_csv(\"data/validation_data.csv\")\n",
    "\n",
    "# Parse columns into date values.\n",
    "date_columns = ['LoanDate', 'LastPaymentOn']\n",
    "validation_df[date_columns] = validation_df[date_columns].apply(pd.to_datetime, format='%Y-%m-%d', errors='coerce')"
   ],
   "metadata": {
    "collapsed": false,
    "pycharm": {
     "name": "#%%\n"
    }
   }
  },
  {
   "cell_type": "markdown",
   "source": [
    "## Calculating the outcomes for the loans\n",
    "\n",
    "We being with the function *calculate_loan_outcomes()*, where the outcome for each loan is calculated. These columns will help us later with evaluating different classification thresholds.\n",
    "\n",
    "The investment_amount variable is not needed, but I decided to add it because it can be useful for creating more advanced strategies. For example, more into loans with higher probability thresholds and less into loans with lower thresholds."
   ],
   "metadata": {
    "collapsed": false
   }
  },
  {
   "cell_type": "code",
   "execution_count": 47,
   "outputs": [],
   "source": [
    "def calculate_loan_outcomes(df, investment_amount = 10):\n",
    "\n",
    "    # The duration between start of the loan and the last payment. If LastPaymentOn is null then duration is 0.\n",
    "    df['LoanLength'] = np.where(df.LastPaymentOn.notnull(), (df.LastPaymentOn.sub(df.LoanDate).dt.days.div(365.25)), 0)\n",
    "\n",
    "    # The total amount repaid by the lender.\n",
    "    df['TotalRepayments'] = df.PrincipalPaymentsMade + df.InterestAndPenaltyPaymentsMade\n",
    "\n",
    "    # Calculate the portion size of the investment based on the amount invested.\n",
    "    df['InvestmentPortionSize'] = investment_amount / df.Amount\n",
    "\n",
    "    # Calculate returns.\n",
    "    df['Return'] = df.InvestmentPortionSize * df.TotalRepayments\n",
    "\n",
    "    # Calculate the profit.\n",
    "    df['Profit'] = df.Return - investment_amount\n",
    "\n",
    "    # Calculate the return on investment.\n",
    "    df['ROI'] = (df.Return - investment_amount) / investment_amount * 100\n",
    "\n",
    "    # Calculate the annual return on investment.\n",
    "    df['ROI_Annual'] = ((1 + df.ROI / 100) ** (1/df.LoanLength) - 1) * 100\n",
    "\n",
    "    return df\n",
    "\n",
    "# Call the function.\n",
    "validation_df = calculate_loan_outcomes(validation_df)"
   ],
   "metadata": {
    "collapsed": false,
    "pycharm": {
     "name": "#%%\n"
    }
   }
  },
  {
   "cell_type": "markdown",
   "source": [
    "## Validating the models\n",
    "\n",
    "We again set the input columns that we used in the modeling step. Also define a function that transforms the validation_df into an input that the models can use."
   ],
   "metadata": {
    "collapsed": false
   }
  },
  {
   "cell_type": "code",
   "execution_count": 48,
   "outputs": [],
   "source": [
    "# Columns that are used as inputs in the models.\n",
    "input_cols = ['NewCreditCustomer', 'VerificationType', 'LanguageCode', 'Age', 'Gender',\n",
    "              'Amount', 'Interest', 'LoanDuration', 'MonthlyPayment',\n",
    "              'Education', 'EmploymentDurationCurrentEmployer', 'HomeOwnershipType', 'IncomeTotal',\n",
    "              'ExistingLiabilities', 'LiabilitiesTotal', 'Rating',\n",
    "              'CreditScoreEeMini', 'NoOfPreviousLoansBeforeLoan', 'AmountOfPreviousLoansBeforeLoan',\n",
    "              'PreviousRepaymentsBeforeLoan', 'PreviousEarlyRepaymentsBefoleLoan', 'PreferLoan']\n",
    "\n",
    "def transform_into_input(df, input_cols):\n",
    "    df = df[input_cols]\n",
    "    df = pd.get_dummies(df)\n",
    "    X = df.drop('PreferLoan', axis=1)\n",
    "    return X"
   ],
   "metadata": {
    "collapsed": false,
    "pycharm": {
     "name": "#%%\n"
    }
   }
  },
  {
   "cell_type": "markdown",
   "source": [
    "The *calculate_threshold_stats()* function calculates the statistics for a given threshold. These stats will be used for choosing the best model."
   ],
   "metadata": {
    "collapsed": false
   }
  },
  {
   "cell_type": "code",
   "execution_count": 49,
   "outputs": [],
   "source": [
    "def calculate_threshold_stats(df, total_loans, threshold, filename):\n",
    "    result = {\n",
    "        'Model': filename.removesuffix('.joblib'),\n",
    "        'Threshold': threshold,\n",
    "        'Total_loans' : total_loans,\n",
    "        'Investments_made' : df.shape[0],\n",
    "        'Investments_made_percentage' : df.shape[0] / total_loans * 100,\n",
    "        'No_of_preferred_loans' : (df.PreferLoan.values == 1).sum(),\n",
    "        'Precision' : ((df.PreferLoan.values == 1).sum()) / df.shape[0],\n",
    "        'ROI_annual_mean': df.ROI_Annual.mean()\n",
    "    }\n",
    "    return result"
   ],
   "metadata": {
    "collapsed": false,
    "pycharm": {
     "name": "#%%\n"
    }
   }
  },
  {
   "cell_type": "markdown",
   "source": [
    "The *validate_models()* function is the main function that starts the validation process. It iterates through all of the models and gets the predicted probabilities for each model. For each model the probabilities are added or overwritten as a column to the initial validation_df. After that different threshold levels are iterated and the df is filtered with the respective threshold level, so only the loans where the predicted probability is higher or equal to the threshold are included. The stats are calculated for each threshold level and appended into a list that we use for choosing the most suitable model.\n"
   ],
   "metadata": {
    "collapsed": false
   }
  },
  {
   "cell_type": "code",
   "execution_count": 50,
   "outputs": [],
   "source": [
    "def validate_models(val_df, input_cols):\n",
    "    X = transform_into_input(val_df, input_cols)\n",
    "    stats = []\n",
    "    total_loans = val_df.shape[0]\n",
    "\n",
    "    for filename in os.listdir('./models'):\n",
    "        df = val_df\n",
    "        clf = load(f'./models/{filename}')\n",
    "        predictions = clf.predict_proba(X)\n",
    "        df[\"Prediction\"] = predictions[:, 1]\n",
    "\n",
    "        for threshold in np.arange(0.5, 1.0, 0.025):\n",
    "            df_t = df.loc[(df.Prediction >= threshold)]\n",
    "            t_stats = calculate_threshold_stats(df_t, total_loans, threshold, filename)\n",
    "            stats.append(t_stats)\n",
    "\n",
    "    return stats"
   ],
   "metadata": {
    "collapsed": false,
    "pycharm": {
     "name": "#%%\n"
    }
   }
  },
  {
   "cell_type": "markdown",
   "source": [
    "We can now run the validation function and inspect the results."
   ],
   "metadata": {
    "collapsed": false
   }
  },
  {
   "cell_type": "code",
   "execution_count": null,
   "outputs": [],
   "source": [
    "# Start the validation and get stats.\n",
    "stats = validate_models(validation_df, input_cols)"
   ],
   "metadata": {
    "collapsed": false,
    "pycharm": {
     "name": "#%%\n",
     "is_executing": true
    }
   }
  },
  {
   "cell_type": "markdown",
   "source": [
    "## Interpreting the results\n",
    "We can see that the higher the xgboost and random forest models perform the best and logistic regression performs poorly. We also see that the highest mean annual ROI is achieved with higher thresholds, which have a low number of investments made."
   ],
   "metadata": {
    "collapsed": false
   }
  },
  {
   "cell_type": "code",
   "execution_count": 52,
   "outputs": [
    {
     "data": {
      "text/plain": "                         Threshold  Total_loans  Investments_made  \\\nModel                                                               \nxgboost_roc_auc              0.950        42338                 3   \nxgboost_roc_auc              0.925        42338                 8   \nxgboost_f1                   0.950        42338                 5   \nxgboost_roc_auc              0.900        42338                30   \nrandom_forest_precision      0.600        42338                72   \n...                            ...          ...               ...   \nxgboost_precision            0.900        42338                 0   \nxgboost_precision            0.925        42338                 0   \nxgboost_precision            0.950        42338                 0   \nxgboost_precision            0.975        42338                 0   \nxgboost_roc_auc              0.975        42338                 0   \n\n                         Investments_made_percentage  No_of_preferred_loans  \\\nModel                                                                         \nxgboost_roc_auc                                0.007                      3   \nxgboost_roc_auc                                0.019                      6   \nxgboost_f1                                     0.012                      5   \nxgboost_roc_auc                                0.071                     26   \nrandom_forest_precision                        0.170                     61   \n...                                              ...                    ...   \nxgboost_precision                              0.000                      0   \nxgboost_precision                              0.000                      0   \nxgboost_precision                              0.000                      0   \nxgboost_precision                              0.000                      0   \nxgboost_roc_auc                                0.000                      0   \n\n                         Precision  ROI_annual_mean  \nModel                                                \nxgboost_roc_auc              1.000           19.000  \nxgboost_roc_auc              0.750           15.350  \nxgboost_f1                   1.000           13.895  \nxgboost_roc_auc              0.867           13.525  \nrandom_forest_precision      0.847           12.820  \n...                            ...              ...  \nxgboost_precision              NaN              NaN  \nxgboost_precision              NaN              NaN  \nxgboost_precision              NaN              NaN  \nxgboost_precision              NaN              NaN  \nxgboost_roc_auc                NaN              NaN  \n\n[180 rows x 7 columns]",
      "text/html": "<div>\n<style scoped>\n    .dataframe tbody tr th:only-of-type {\n        vertical-align: middle;\n    }\n\n    .dataframe tbody tr th {\n        vertical-align: top;\n    }\n\n    .dataframe thead th {\n        text-align: right;\n    }\n</style>\n<table border=\"1\" class=\"dataframe\">\n  <thead>\n    <tr style=\"text-align: right;\">\n      <th></th>\n      <th>Threshold</th>\n      <th>Total_loans</th>\n      <th>Investments_made</th>\n      <th>Investments_made_percentage</th>\n      <th>No_of_preferred_loans</th>\n      <th>Precision</th>\n      <th>ROI_annual_mean</th>\n    </tr>\n    <tr>\n      <th>Model</th>\n      <th></th>\n      <th></th>\n      <th></th>\n      <th></th>\n      <th></th>\n      <th></th>\n      <th></th>\n    </tr>\n  </thead>\n  <tbody>\n    <tr>\n      <th>xgboost_roc_auc</th>\n      <td>0.950</td>\n      <td>42338</td>\n      <td>3</td>\n      <td>0.007</td>\n      <td>3</td>\n      <td>1.000</td>\n      <td>19.000</td>\n    </tr>\n    <tr>\n      <th>xgboost_roc_auc</th>\n      <td>0.925</td>\n      <td>42338</td>\n      <td>8</td>\n      <td>0.019</td>\n      <td>6</td>\n      <td>0.750</td>\n      <td>15.350</td>\n    </tr>\n    <tr>\n      <th>xgboost_f1</th>\n      <td>0.950</td>\n      <td>42338</td>\n      <td>5</td>\n      <td>0.012</td>\n      <td>5</td>\n      <td>1.000</td>\n      <td>13.895</td>\n    </tr>\n    <tr>\n      <th>xgboost_roc_auc</th>\n      <td>0.900</td>\n      <td>42338</td>\n      <td>30</td>\n      <td>0.071</td>\n      <td>26</td>\n      <td>0.867</td>\n      <td>13.525</td>\n    </tr>\n    <tr>\n      <th>random_forest_precision</th>\n      <td>0.600</td>\n      <td>42338</td>\n      <td>72</td>\n      <td>0.170</td>\n      <td>61</td>\n      <td>0.847</td>\n      <td>12.820</td>\n    </tr>\n    <tr>\n      <th>...</th>\n      <td>...</td>\n      <td>...</td>\n      <td>...</td>\n      <td>...</td>\n      <td>...</td>\n      <td>...</td>\n      <td>...</td>\n    </tr>\n    <tr>\n      <th>xgboost_precision</th>\n      <td>0.900</td>\n      <td>42338</td>\n      <td>0</td>\n      <td>0.000</td>\n      <td>0</td>\n      <td>NaN</td>\n      <td>NaN</td>\n    </tr>\n    <tr>\n      <th>xgboost_precision</th>\n      <td>0.925</td>\n      <td>42338</td>\n      <td>0</td>\n      <td>0.000</td>\n      <td>0</td>\n      <td>NaN</td>\n      <td>NaN</td>\n    </tr>\n    <tr>\n      <th>xgboost_precision</th>\n      <td>0.950</td>\n      <td>42338</td>\n      <td>0</td>\n      <td>0.000</td>\n      <td>0</td>\n      <td>NaN</td>\n      <td>NaN</td>\n    </tr>\n    <tr>\n      <th>xgboost_precision</th>\n      <td>0.975</td>\n      <td>42338</td>\n      <td>0</td>\n      <td>0.000</td>\n      <td>0</td>\n      <td>NaN</td>\n      <td>NaN</td>\n    </tr>\n    <tr>\n      <th>xgboost_roc_auc</th>\n      <td>0.975</td>\n      <td>42338</td>\n      <td>0</td>\n      <td>0.000</td>\n      <td>0</td>\n      <td>NaN</td>\n      <td>NaN</td>\n    </tr>\n  </tbody>\n</table>\n<p>180 rows × 7 columns</p>\n</div>"
     },
     "execution_count": 52,
     "metadata": {},
     "output_type": "execute_result"
    }
   ],
   "source": [
    "results = pd.DataFrame(stats).set_index(\"Model\").round(3).sort_values(by='ROI_annual_mean', ascending=False)\n",
    "results"
   ],
   "metadata": {
    "collapsed": false,
    "pycharm": {
     "name": "#%%\n"
    }
   }
  },
  {
   "cell_type": "markdown",
   "source": [
    "To get a more realistic mean annual ROI we should consider models that have a higher percentage of investments made. If set the percentage as 0.5% then we expect to invest in every 200th loan. The higher the percentage the more loans we invest in."
   ],
   "metadata": {
    "collapsed": false
   }
  },
  {
   "cell_type": "code",
   "execution_count": 53,
   "outputs": [
    {
     "data": {
      "text/plain": "                         Threshold  Total_loans  Investments_made  \\\nModel                                                               \nxgboost_roc_auc              0.800        42338               299   \nxgboost_roc_auc              0.775        42338               416   \nxgboost_roc_auc              0.750        42338               570   \nxgboost_precision            0.725        42338               330   \nrandom_forest_roc_auc        0.675        42338               228   \nxgboost_roc_auc              0.725        42338               750   \nxgboost_f1                   0.850        42338               251   \nxgboost_roc_auc              0.700        42338               969   \nxgboost_f1                   0.825        42338               400   \nrandom_forest_precision      0.525        42338               498   \n\n                         Investments_made_percentage  No_of_preferred_loans  \\\nModel                                                                         \nxgboost_roc_auc                                0.706                    261   \nxgboost_roc_auc                                0.983                    353   \nxgboost_roc_auc                                1.346                    468   \nxgboost_precision                              0.779                    272   \nrandom_forest_roc_auc                          0.539                    193   \nxgboost_roc_auc                                1.771                    602   \nxgboost_f1                                     0.593                    208   \nxgboost_roc_auc                                2.289                    765   \nxgboost_f1                                     0.945                    324   \nrandom_forest_precision                        1.176                    401   \n\n                         Precision  ROI_annual_mean  \nModel                                                \nxgboost_roc_auc              0.873           10.652  \nxgboost_roc_auc              0.849           10.512  \nxgboost_roc_auc              0.821           10.380  \nxgboost_precision            0.824           10.126  \nrandom_forest_roc_auc        0.846            9.741  \nxgboost_roc_auc              0.803            9.666  \nxgboost_f1                   0.829            9.398  \nxgboost_roc_auc              0.789            9.294  \nxgboost_f1                   0.810            9.274  \nrandom_forest_precision      0.805            9.117  ",
      "text/html": "<div>\n<style scoped>\n    .dataframe tbody tr th:only-of-type {\n        vertical-align: middle;\n    }\n\n    .dataframe tbody tr th {\n        vertical-align: top;\n    }\n\n    .dataframe thead th {\n        text-align: right;\n    }\n</style>\n<table border=\"1\" class=\"dataframe\">\n  <thead>\n    <tr style=\"text-align: right;\">\n      <th></th>\n      <th>Threshold</th>\n      <th>Total_loans</th>\n      <th>Investments_made</th>\n      <th>Investments_made_percentage</th>\n      <th>No_of_preferred_loans</th>\n      <th>Precision</th>\n      <th>ROI_annual_mean</th>\n    </tr>\n    <tr>\n      <th>Model</th>\n      <th></th>\n      <th></th>\n      <th></th>\n      <th></th>\n      <th></th>\n      <th></th>\n      <th></th>\n    </tr>\n  </thead>\n  <tbody>\n    <tr>\n      <th>xgboost_roc_auc</th>\n      <td>0.800</td>\n      <td>42338</td>\n      <td>299</td>\n      <td>0.706</td>\n      <td>261</td>\n      <td>0.873</td>\n      <td>10.652</td>\n    </tr>\n    <tr>\n      <th>xgboost_roc_auc</th>\n      <td>0.775</td>\n      <td>42338</td>\n      <td>416</td>\n      <td>0.983</td>\n      <td>353</td>\n      <td>0.849</td>\n      <td>10.512</td>\n    </tr>\n    <tr>\n      <th>xgboost_roc_auc</th>\n      <td>0.750</td>\n      <td>42338</td>\n      <td>570</td>\n      <td>1.346</td>\n      <td>468</td>\n      <td>0.821</td>\n      <td>10.380</td>\n    </tr>\n    <tr>\n      <th>xgboost_precision</th>\n      <td>0.725</td>\n      <td>42338</td>\n      <td>330</td>\n      <td>0.779</td>\n      <td>272</td>\n      <td>0.824</td>\n      <td>10.126</td>\n    </tr>\n    <tr>\n      <th>random_forest_roc_auc</th>\n      <td>0.675</td>\n      <td>42338</td>\n      <td>228</td>\n      <td>0.539</td>\n      <td>193</td>\n      <td>0.846</td>\n      <td>9.741</td>\n    </tr>\n    <tr>\n      <th>xgboost_roc_auc</th>\n      <td>0.725</td>\n      <td>42338</td>\n      <td>750</td>\n      <td>1.771</td>\n      <td>602</td>\n      <td>0.803</td>\n      <td>9.666</td>\n    </tr>\n    <tr>\n      <th>xgboost_f1</th>\n      <td>0.850</td>\n      <td>42338</td>\n      <td>251</td>\n      <td>0.593</td>\n      <td>208</td>\n      <td>0.829</td>\n      <td>9.398</td>\n    </tr>\n    <tr>\n      <th>xgboost_roc_auc</th>\n      <td>0.700</td>\n      <td>42338</td>\n      <td>969</td>\n      <td>2.289</td>\n      <td>765</td>\n      <td>0.789</td>\n      <td>9.294</td>\n    </tr>\n    <tr>\n      <th>xgboost_f1</th>\n      <td>0.825</td>\n      <td>42338</td>\n      <td>400</td>\n      <td>0.945</td>\n      <td>324</td>\n      <td>0.810</td>\n      <td>9.274</td>\n    </tr>\n    <tr>\n      <th>random_forest_precision</th>\n      <td>0.525</td>\n      <td>42338</td>\n      <td>498</td>\n      <td>1.176</td>\n      <td>401</td>\n      <td>0.805</td>\n      <td>9.117</td>\n    </tr>\n  </tbody>\n</table>\n</div>"
     },
     "execution_count": 53,
     "metadata": {},
     "output_type": "execute_result"
    }
   ],
   "source": [
    "results.loc[(results.Investments_made_percentage >= 0.5)][:10]"
   ],
   "metadata": {
    "collapsed": false,
    "pycharm": {
     "name": "#%%\n"
    }
   }
  },
  {
   "cell_type": "markdown",
   "source": [
    "We classified all the loans that have had the problems as \"not preferable\". But there is always a possibility that a loan recovers and payments resume. This means that these loans can still be active and we have no way of knowing the final outcome of said loans. The loans which have recovered and are are still active also have an effect on the annual mean ROI. If we eliminate the loans that still have the status \"Current\", we should get more accurate results."
   ],
   "metadata": {
    "collapsed": false
   }
  },
  {
   "cell_type": "code",
   "execution_count": null,
   "outputs": [],
   "source": [
    "validation_df_no_current = validation_df.loc[(validation_df.Status != 'Current')]\n",
    "stats_no_current = validate_models(validation_df_no_current, input_cols)"
   ],
   "metadata": {
    "collapsed": false,
    "pycharm": {
     "name": "#%%\n",
     "is_executing": true
    }
   }
  },
  {
   "cell_type": "markdown",
   "source": [
    "With the exclusion of currently active loans the annual mean ROI also increases by a percent or two. It should also be noted that we did not exclude loans with the status \"Late\", which might also have a chance to recover and therefore further increase the annual ROI."
   ],
   "metadata": {
    "collapsed": false
   }
  },
  {
   "cell_type": "code",
   "execution_count": 55,
   "outputs": [
    {
     "data": {
      "text/plain": "                         Threshold  Total_loans  Investments_made  \\\nModel                                                               \nxgboost_roc_auc              0.800        31206               296   \nxgboost_roc_auc              0.750        31206               555   \nxgboost_roc_auc              0.775        31206               409   \nxgboost_roc_auc              0.725        31206               723   \nxgboost_precision            0.750        31206               195   \nxgboost_roc_auc              0.700        31206               924   \nrandom_forest_precision      0.525        31206               478   \nxgboost_precision            0.725        31206               322   \nrandom_forest_roc_auc        0.675        31206               222   \nxgboost_roc_auc              0.825        31206               187   \n\n                         Investments_made_percentage  No_of_preferred_loans  \\\nModel                                                                         \nxgboost_roc_auc                                0.949                    261   \nxgboost_roc_auc                                1.779                    468   \nxgboost_roc_auc                                1.311                    353   \nxgboost_roc_auc                                2.317                    602   \nxgboost_precision                              0.625                    173   \nxgboost_roc_auc                                2.961                    765   \nrandom_forest_precision                        1.532                    401   \nxgboost_precision                              1.032                    272   \nrandom_forest_roc_auc                          0.711                    193   \nxgboost_roc_auc                                0.599                    167   \n\n                         Precision  ROI_annual_mean  \nModel                                                \nxgboost_roc_auc              0.882           11.699  \nxgboost_roc_auc              0.843           11.650  \nxgboost_roc_auc              0.863           11.498  \nxgboost_roc_auc              0.833           11.452  \nxgboost_precision            0.887           11.368  \nxgboost_roc_auc              0.828           11.262  \nrandom_forest_precision      0.839           11.236  \nxgboost_precision            0.845           11.160  \nrandom_forest_roc_auc        0.869           11.046  \nxgboost_roc_auc              0.893           11.014  ",
      "text/html": "<div>\n<style scoped>\n    .dataframe tbody tr th:only-of-type {\n        vertical-align: middle;\n    }\n\n    .dataframe tbody tr th {\n        vertical-align: top;\n    }\n\n    .dataframe thead th {\n        text-align: right;\n    }\n</style>\n<table border=\"1\" class=\"dataframe\">\n  <thead>\n    <tr style=\"text-align: right;\">\n      <th></th>\n      <th>Threshold</th>\n      <th>Total_loans</th>\n      <th>Investments_made</th>\n      <th>Investments_made_percentage</th>\n      <th>No_of_preferred_loans</th>\n      <th>Precision</th>\n      <th>ROI_annual_mean</th>\n    </tr>\n    <tr>\n      <th>Model</th>\n      <th></th>\n      <th></th>\n      <th></th>\n      <th></th>\n      <th></th>\n      <th></th>\n      <th></th>\n    </tr>\n  </thead>\n  <tbody>\n    <tr>\n      <th>xgboost_roc_auc</th>\n      <td>0.800</td>\n      <td>31206</td>\n      <td>296</td>\n      <td>0.949</td>\n      <td>261</td>\n      <td>0.882</td>\n      <td>11.699</td>\n    </tr>\n    <tr>\n      <th>xgboost_roc_auc</th>\n      <td>0.750</td>\n      <td>31206</td>\n      <td>555</td>\n      <td>1.779</td>\n      <td>468</td>\n      <td>0.843</td>\n      <td>11.650</td>\n    </tr>\n    <tr>\n      <th>xgboost_roc_auc</th>\n      <td>0.775</td>\n      <td>31206</td>\n      <td>409</td>\n      <td>1.311</td>\n      <td>353</td>\n      <td>0.863</td>\n      <td>11.498</td>\n    </tr>\n    <tr>\n      <th>xgboost_roc_auc</th>\n      <td>0.725</td>\n      <td>31206</td>\n      <td>723</td>\n      <td>2.317</td>\n      <td>602</td>\n      <td>0.833</td>\n      <td>11.452</td>\n    </tr>\n    <tr>\n      <th>xgboost_precision</th>\n      <td>0.750</td>\n      <td>31206</td>\n      <td>195</td>\n      <td>0.625</td>\n      <td>173</td>\n      <td>0.887</td>\n      <td>11.368</td>\n    </tr>\n    <tr>\n      <th>xgboost_roc_auc</th>\n      <td>0.700</td>\n      <td>31206</td>\n      <td>924</td>\n      <td>2.961</td>\n      <td>765</td>\n      <td>0.828</td>\n      <td>11.262</td>\n    </tr>\n    <tr>\n      <th>random_forest_precision</th>\n      <td>0.525</td>\n      <td>31206</td>\n      <td>478</td>\n      <td>1.532</td>\n      <td>401</td>\n      <td>0.839</td>\n      <td>11.236</td>\n    </tr>\n    <tr>\n      <th>xgboost_precision</th>\n      <td>0.725</td>\n      <td>31206</td>\n      <td>322</td>\n      <td>1.032</td>\n      <td>272</td>\n      <td>0.845</td>\n      <td>11.160</td>\n    </tr>\n    <tr>\n      <th>random_forest_roc_auc</th>\n      <td>0.675</td>\n      <td>31206</td>\n      <td>222</td>\n      <td>0.711</td>\n      <td>193</td>\n      <td>0.869</td>\n      <td>11.046</td>\n    </tr>\n    <tr>\n      <th>xgboost_roc_auc</th>\n      <td>0.825</td>\n      <td>31206</td>\n      <td>187</td>\n      <td>0.599</td>\n      <td>167</td>\n      <td>0.893</td>\n      <td>11.014</td>\n    </tr>\n  </tbody>\n</table>\n</div>"
     },
     "execution_count": 55,
     "metadata": {},
     "output_type": "execute_result"
    }
   ],
   "source": [
    "results_no_current = pd.DataFrame(stats_no_current).set_index(\"Model\").round(3).sort_values(by='ROI_annual_mean', ascending=False)\n",
    "results_no_current.loc[(results_no_current.Investments_made_percentage >= 0.5)][:10]"
   ],
   "metadata": {
    "collapsed": false,
    "pycharm": {
     "name": "#%%\n"
    }
   }
  },
  {
   "cell_type": "markdown",
   "source": [
    "It is good to see that we can constantly reach at least 11% mean annual ROI. When choosing which model to use there are multiple things to consider. There should be a good balance between precision and the number of investments made. If the precision is really high, but the number of investments is really low, then in practice the model might not be viable, as the preferred loans are very rare.\n",
    "\n",
    "From this list I would consider xgboost_roc_auc with the following thresholds: 0.750, 0.775, 0.725 and 0.700. The reason being that the precision and annual ROI are quite high and the number of investments made seems to be also suitable and lot too low."
   ],
   "metadata": {
    "collapsed": false
   }
  },
  {
   "cell_type": "markdown",
   "source": [],
   "metadata": {
    "collapsed": false
   }
  }
 ],
 "metadata": {
  "kernelspec": {
   "display_name": "Python 3",
   "language": "python",
   "name": "python3"
  },
  "language_info": {
   "codemirror_mode": {
    "name": "ipython",
    "version": 2
   },
   "file_extension": ".py",
   "mimetype": "text/x-python",
   "name": "python",
   "nbconvert_exporter": "python",
   "pygments_lexer": "ipython2",
   "version": "2.7.6"
  }
 },
 "nbformat": 4,
 "nbformat_minor": 0
}