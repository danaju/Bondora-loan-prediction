{
 "cells": [
  {
   "cell_type": "markdown",
   "source": [
    "# 1. Data preprocessing\n",
    "\n",
    "The goal of this worksheet is to fully process the dataset so the data can be used for modeling.\n",
    "\n",
    "This worksheet is structured as following:\n",
    "1. Obtaining the data\n",
    "2. Inspecting the data\n",
    "3. Cleaning and filtering the data\n",
    "4. Feature engineering\n",
    "5. Creating the target variable\n",
    "6. Data selection for modeling\n"
   ],
   "metadata": {
    "collapsed": false
   }
  },
  {
   "cell_type": "code",
   "execution_count": 54,
   "outputs": [],
   "source": [
    "# Imports and display settings.\n",
    "import pandas as pd\n",
    "import numpy as np\n",
    "\n",
    "pd.set_option('display.max_columns', None)\n",
    "pd.set_option('display.max_rows', 100)\n",
    "pd.set_option('display.float_format', lambda x: '%.2f' % x)"
   ],
   "metadata": {
    "collapsed": false,
    "pycharm": {
     "name": "#%%\n"
    }
   }
  },
  {
   "cell_type": "markdown",
   "source": [
    "## Obtaining the data\n",
    "\n",
    "The dataset is quite large so it should be only downloaded once. However if you plan to work on it continuously then consider re-downloading it once per month as Bondora adds more loans and some of the old loans are updated. After downloading we extract the zip file and load the extracted .csv file into a DataFrame. The data is also sorted in chronological order."
   ],
   "metadata": {
    "collapsed": false
   }
  },
  {
   "cell_type": "code",
   "execution_count": 55,
   "outputs": [],
   "source": [
    "def download():\n",
    "\n",
    "    import zipfile\n",
    "    from requests import get\n",
    "    url = \"https://bondora.com/marketing/media/LoanData.zip\"\n",
    "\n",
    "    with open(\"/data/Data.zip\", \"wb\") as file:\n",
    "        response = get(url)\n",
    "        file.write(response.content)\n",
    "\n",
    "    with zipfile.ZipFile(\"/data/Data.zip\",\"r\") as zip_ref:\n",
    "        zip_ref.extractall(\"data/\")\n",
    "\n",
    "#download()"
   ],
   "metadata": {
    "collapsed": false,
    "pycharm": {
     "name": "#%%\n"
    }
   }
  },
  {
   "cell_type": "code",
   "execution_count": 56,
   "outputs": [
    {
     "name": "stderr",
     "output_type": "stream",
     "text": [
      "C:\\Users\\danie\\miniconda3\\lib\\site-packages\\IPython\\core\\interactiveshell.py:3441: DtypeWarning: Columns (34,38,67,80,82,83,89,90) have mixed types.Specify dtype option on import or set low_memory=False.\n",
      "  exec(code_obj, self.user_global_ns, self.user_ns)\n"
     ]
    }
   ],
   "source": [
    "data = pd.read_csv(\"data/LoanData.csv\")\n",
    "data = data.sort_values(by=['ListedOnUTC'])"
   ],
   "metadata": {
    "collapsed": false,
    "pycharm": {
     "name": "#%%\n"
    }
   }
  },
  {
   "cell_type": "markdown",
   "source": [
    "## Inspecting the data\n",
    "\n",
    "We can see that the dataset contains ~200000 loans and has 112 different columns. The earliest loans are from 2009, that means we have over 10 years of loan data."
   ],
   "metadata": {
    "collapsed": false
   }
  },
  {
   "cell_type": "code",
   "execution_count": 57,
   "outputs": [
    {
     "name": "stdout",
     "output_type": "stream",
     "text": [
      "DataFrame shape: (197625, 112)\n"
     ]
    }
   ],
   "source": [
    "print(f\"DataFrame shape: {data.shape}\")"
   ],
   "metadata": {
    "collapsed": false,
    "pycharm": {
     "name": "#%%\n"
    }
   }
  },
  {
   "cell_type": "code",
   "source": [
    "data.head(5)"
   ],
   "metadata": {
    "collapsed": false,
    "pycharm": {
     "name": "#%%\n"
    }
   },
   "execution_count": 58,
   "outputs": [
    {
     "data": {
      "text/plain": "    ReportAsOfEOD                                LoanId  LoanNumber  \\\n957    2021-11-10  FA160D69-2682-4A60-8D8E-9BB700EA30CE          37   \n958    2021-11-10  8E929B92-7C99-421D-8499-9BB70125F390          42   \n959    2021-11-10  33B3F669-D0E3-4474-8045-9BB70128D064          43   \n960    2021-11-10  7074D9E8-E8F5-403B-8614-9BB701338AD4          44   \n961    2021-11-10  39F2A312-CD6C-4F60-A7F6-9BB7014CE0A9          45   \n\n             ListedOnUTC     BiddingStartedOn  BidsPortfolioManager  BidsApi  \\\n957  2009-02-21 14:12:39  2009-02-21 14:12:39                     0     0.00   \n958  2009-02-21 17:50:14  2009-02-21 17:50:14                     0     0.00   \n959  2009-02-21 18:00:40  2009-02-21 18:00:40                     0     0.00   \n960  2009-02-21 18:39:43  2009-02-21 18:39:43                     0     0.00   \n961  2009-02-21 20:11:58  2009-02-21 20:11:58                     0     0.00   \n\n     BidsManual                                 PartyId  NewCreditCustomer  \\\n957       63.91  {544DFBAC-374F-4039-AE45-9BB700E44853}               True   \n958       83.09  {B7FDCB11-4CE9-4CDE-993F-9BB70103B180}               True   \n959      322.75  {E58803E6-77B6-40EB-83C4-9BB70118C245}               True   \n960      252.45  {DE67C0EB-7534-47F2-87BD-9BB7011E112A}               True   \n961       63.91  {C41C37A5-B2D7-4B5A-B2D2-9BB70149B419}               True   \n\n    LoanApplicationStartedDate    LoanDate ContractEndDate FirstPaymentDate  \\\n957        2009-02-21 14:12:39  2009-03-07      2009-09-10       2009-04-10   \n958        2009-02-21 17:50:14  2009-03-03      2011-03-14       2009-04-13   \n959        2009-02-21 18:00:40  2009-02-28      2010-03-10       2009-04-10   \n960        2009-02-21 18:39:43  2009-03-03      2011-04-04       2009-05-01   \n961        2009-02-21 20:11:58  2009-03-07      2010-06-10       2009-05-06   \n\n    MaturityDate_Original MaturityDate_Last  ApplicationSignedHour  \\\n957            2009-09-10        2009-09-10                     14   \n958            2011-03-14        2011-03-14                     17   \n959            2010-03-10        2010-03-10                     18   \n960            2011-04-01        2011-04-01                     18   \n961            2010-04-06        2010-04-06                     20   \n\n     ApplicationSignedWeekday  VerificationType  LanguageCode  Age  \\\n957                         7              2.00             1   21   \n958                         7              2.00             1   19   \n959                         7              2.00             1   38   \n960                         7              2.00             1   55   \n961                         7              2.00             1   46   \n\n     DateOfBirth  Gender Country  AppliedAmount  Amount  Interest  \\\n957          NaN    0.00      EE          63.91   63.91     20.00   \n958          NaN    1.00      EE         958.67   83.08     10.00   \n959          NaN    0.00      EE         639.12  322.75     25.00   \n960          NaN    1.00      EE         958.67  252.45     10.00   \n961          NaN    1.00      EE         766.94   63.91     20.00   \n\n     LoanDuration  MonthlyPayment  County  City  UseOfLoan  Education  \\\n957             6             NaN     NaN   NaN          3       5.00   \n958            24             NaN     NaN   NaN          6       2.00   \n959            12             NaN     NaN   NaN          6       4.00   \n960            24             NaN     NaN   NaN          2       3.00   \n961            12             NaN     NaN   NaN          8       5.00   \n\n     MaritalStatus NrOfDependants  EmploymentStatus  \\\n957           4.00           0.00              5.00   \n958           3.00           2.00              3.00   \n959           4.00           4.00              3.00   \n960           2.00           3.00              3.00   \n961           1.00           5.00              3.00   \n\n    EmploymentDurationCurrentEmployer  EmploymentPosition   WorkExperience  \\\n957                        UpTo2Years                 NaN       5To10Years   \n958                         UpTo1Year                 NaN   LessThan2Years   \n959                        UpTo4Years                 NaN      15To25Years   \n960                    MoreThan5Years                 NaN  MoreThan25Years   \n961                    MoreThan5Years                 NaN  MoreThan25Years   \n\n     OccupationArea  HomeOwnershipType  IncomeFromPrincipalEmployer  \\\n957             NaN                NaN                     15500.00   \n958             NaN                NaN                      4000.00   \n959             NaN                NaN                      9000.00   \n960             NaN                NaN                      6000.00   \n961             NaN                NaN                      9000.00   \n\n     IncomeFromPension  IncomeFromFamilyAllowance  IncomeFromSocialWelfare  \\\n957               0.00                       0.00                     0.00   \n958               0.00                       0.00                     0.00   \n959               0.00                       0.00                     0.00   \n960               0.00                       0.00                     0.00   \n961               0.00                       0.00                     0.00   \n\n     IncomeFromLeavePay  IncomeFromChildSupport  IncomeOther  IncomeTotal  \\\n957                0.00                    0.00         0.00     15500.00   \n958                0.00                    0.00         0.00      4000.00   \n959                0.00                    0.00         0.00      9000.00   \n960                0.00                    0.00         0.00      6000.00   \n961                0.00                    0.00      1700.00     10700.00   \n\n     ExistingLiabilities  LiabilitiesTotal  RefinanceLiabilities  \\\n957                    0              0.00                     0   \n958                    0              0.00                     0   \n959                    0              0.00                     0   \n960                    0              0.00                     0   \n961                    0              0.00                     0   \n\n     DebtToIncome  FreeCash  MonthlyPaymentDay  \\\n957          0.00      0.00                 10   \n958          0.00      0.00                 12   \n959          0.00      0.00                 10   \n960          0.00      0.00                  1   \n961          0.00      0.00                  6   \n\n     ActiveScheduleFirstPaymentReached  PlannedPrincipalTillDate  \\\n957                               True                   1000.00   \n958                               True                   1300.00   \n959                               True                   5050.00   \n960                               True                   3950.00   \n961                               True                   1000.00   \n\n     PlannedInterestTillDate LastPaymentOn  CurrentDebtDaysPrimary  \\\n957                    34.14    2009-09-10                     NaN   \n958                   142.73    2011-03-14                     NaN   \n959                   697.28    2010-03-10                     NaN   \n960                   454.30    2011-04-04                     NaN   \n961                   127.58    2010-06-10                     NaN   \n\n    DebtOccuredOn  CurrentDebtDaysSecondary DebtOccuredOnForSecondary  \\\n957           NaN                       NaN                       NaN   \n958           NaN                       NaN                       NaN   \n959           NaN                       NaN                       NaN   \n960           NaN                       NaN                       NaN   \n961           NaN                       NaN                       NaN   \n\n     ExpectedLoss  LossGivenDefault  ExpectedReturn  ProbabilityOfDefault  \\\n957           NaN               NaN             NaN                   NaN   \n958           NaN               NaN             NaN                   NaN   \n959           NaN               NaN             NaN                   NaN   \n960           NaN               NaN             NaN                   NaN   \n961           NaN               NaN             NaN                   NaN   \n\n    DefaultDate  PrincipalOverdueBySchedule  PlannedPrincipalPostDefault  \\\n957         NaN                         NaN                          NaN   \n958         NaN                         NaN                          NaN   \n959         NaN                         NaN                          NaN   \n960         NaN                         NaN                          NaN   \n961  2010-05-04                         NaN                         0.00   \n\n     PlannedInterestPostDefault  EAD1  EAD2  PrincipalRecovery  \\\n957                         NaN   NaN   NaN                NaN   \n958                         NaN   NaN   NaN                NaN   \n959                         NaN   NaN   NaN                NaN   \n960                         NaN   NaN   NaN                NaN   \n961                        0.00  3.02 -4.92               3.02   \n\n     InterestRecovery  RecoveryStage StageActiveSince  ModelVersion Rating  \\\n957               NaN            NaN              NaN           NaN    NaN   \n958               NaN            NaN              NaN           NaN    NaN   \n959               NaN            NaN              NaN           NaN    NaN   \n960               NaN            NaN              NaN           NaN    NaN   \n961              0.71            NaN              NaN           NaN    NaN   \n\n     EL_V0 Rating_V0  EL_V1 Rating_V1 Rating_V2  Status  Restructured  \\\n957    NaN       NaN    NaN       NaN       NaN  Repaid         False   \n958    NaN       NaN    NaN       NaN       NaN  Repaid         False   \n959    NaN       NaN    NaN       NaN       NaN  Repaid         False   \n960    NaN       NaN    NaN       NaN       NaN  Repaid         False   \n961    NaN       NaN    NaN       NaN       NaN  Repaid         False   \n\n    ActiveLateCategory WorseLateCategory CreditScoreEsMicroL  \\\n957                NaN               NaN                 NaN   \n958                NaN              180+                 NaN   \n959                NaN           151-180                 NaN   \n960                NaN           121-150                 NaN   \n961                NaN             61-90                 NaN   \n\n    CreditScoreEsEquifaxRisk CreditScoreFiAsiakasTietoRiskGrade  \\\n957                      NaN                                NaN   \n958                      NaN                                NaN   \n959                      NaN                                NaN   \n960                      NaN                                NaN   \n961                      NaN                                NaN   \n\n     CreditScoreEeMini  PrincipalPaymentsMade  InterestAndPenaltyPaymentsMade  \\\n957                NaN                  63.91                            2.18   \n958                NaN                  83.08                            9.20   \n959                NaN                 322.75                           44.56   \n960                NaN                 252.45                           29.08   \n961                NaN                  63.91                            8.65   \n\n     PrincipalWriteOffs  InterestAndPenaltyWriteOffs  PrincipalBalance  \\\n957                0.00                         0.00              0.00   \n958                0.00                         0.00              0.00   \n959                0.00                         0.00              0.00   \n960                0.00                         0.00              0.00   \n961                0.00                         0.00              0.00   \n\n     InterestAndPenaltyBalance  NoOfPreviousLoansBeforeLoan  \\\n957                       0.00                         0.00   \n958                       0.00                         0.00   \n959                       0.00                         0.00   \n960                       0.00                         0.00   \n961                       0.00                         0.00   \n\n     AmountOfPreviousLoansBeforeLoan  PreviousRepaymentsBeforeLoan  \\\n957                             0.00                          0.00   \n958                             0.00                          0.00   \n959                             0.00                          0.00   \n960                             0.00                          0.00   \n961                             0.00                          0.00   \n\n     PreviousEarlyRepaymentsBefoleLoan  \\\n957                               0.00   \n958                               0.00   \n959                               0.00   \n960                               0.00   \n961                               0.00   \n\n     PreviousEarlyRepaymentsCountBeforeLoan GracePeriodStart GracePeriodEnd  \\\n957                                    0.00              NaN            NaN   \n958                                    0.00              NaN            NaN   \n959                                    0.00              NaN            NaN   \n960                                    0.00              NaN            NaN   \n961                                    0.00              NaN            NaN   \n\n    NextPaymentDate  NextPaymentNr  NrOfScheduledPayments ReScheduledOn  \\\n957             NaN            NaN                    NaN           NaN   \n958             NaN            NaN                    NaN           NaN   \n959             NaN            NaN                    NaN           NaN   \n960             NaN            NaN                    NaN           NaN   \n961             NaN            NaN                    NaN           NaN   \n\n     PrincipalDebtServicingCost  InterestAndPenaltyDebtServicingCost  \\\n957                        0.00                                 0.00   \n958                        0.00                                 0.00   \n959                        0.00                                 0.00   \n960                        0.00                                 0.00   \n961                        0.00                                 0.00   \n\n    ActiveLateLastPaymentCategory  \n957                           NaN  \n958                           NaN  \n959                           NaN  \n960                           NaN  \n961                           NaN  ",
      "text/html": "<div>\n<style scoped>\n    .dataframe tbody tr th:only-of-type {\n        vertical-align: middle;\n    }\n\n    .dataframe tbody tr th {\n        vertical-align: top;\n    }\n\n    .dataframe thead th {\n        text-align: right;\n    }\n</style>\n<table border=\"1\" class=\"dataframe\">\n  <thead>\n    <tr style=\"text-align: right;\">\n      <th></th>\n      <th>ReportAsOfEOD</th>\n      <th>LoanId</th>\n      <th>LoanNumber</th>\n      <th>ListedOnUTC</th>\n      <th>BiddingStartedOn</th>\n      <th>BidsPortfolioManager</th>\n      <th>BidsApi</th>\n      <th>BidsManual</th>\n      <th>PartyId</th>\n      <th>NewCreditCustomer</th>\n      <th>LoanApplicationStartedDate</th>\n      <th>LoanDate</th>\n      <th>ContractEndDate</th>\n      <th>FirstPaymentDate</th>\n      <th>MaturityDate_Original</th>\n      <th>MaturityDate_Last</th>\n      <th>ApplicationSignedHour</th>\n      <th>ApplicationSignedWeekday</th>\n      <th>VerificationType</th>\n      <th>LanguageCode</th>\n      <th>Age</th>\n      <th>DateOfBirth</th>\n      <th>Gender</th>\n      <th>Country</th>\n      <th>AppliedAmount</th>\n      <th>Amount</th>\n      <th>Interest</th>\n      <th>LoanDuration</th>\n      <th>MonthlyPayment</th>\n      <th>County</th>\n      <th>City</th>\n      <th>UseOfLoan</th>\n      <th>Education</th>\n      <th>MaritalStatus</th>\n      <th>NrOfDependants</th>\n      <th>EmploymentStatus</th>\n      <th>EmploymentDurationCurrentEmployer</th>\n      <th>EmploymentPosition</th>\n      <th>WorkExperience</th>\n      <th>OccupationArea</th>\n      <th>HomeOwnershipType</th>\n      <th>IncomeFromPrincipalEmployer</th>\n      <th>IncomeFromPension</th>\n      <th>IncomeFromFamilyAllowance</th>\n      <th>IncomeFromSocialWelfare</th>\n      <th>IncomeFromLeavePay</th>\n      <th>IncomeFromChildSupport</th>\n      <th>IncomeOther</th>\n      <th>IncomeTotal</th>\n      <th>ExistingLiabilities</th>\n      <th>LiabilitiesTotal</th>\n      <th>RefinanceLiabilities</th>\n      <th>DebtToIncome</th>\n      <th>FreeCash</th>\n      <th>MonthlyPaymentDay</th>\n      <th>ActiveScheduleFirstPaymentReached</th>\n      <th>PlannedPrincipalTillDate</th>\n      <th>PlannedInterestTillDate</th>\n      <th>LastPaymentOn</th>\n      <th>CurrentDebtDaysPrimary</th>\n      <th>DebtOccuredOn</th>\n      <th>CurrentDebtDaysSecondary</th>\n      <th>DebtOccuredOnForSecondary</th>\n      <th>ExpectedLoss</th>\n      <th>LossGivenDefault</th>\n      <th>ExpectedReturn</th>\n      <th>ProbabilityOfDefault</th>\n      <th>DefaultDate</th>\n      <th>PrincipalOverdueBySchedule</th>\n      <th>PlannedPrincipalPostDefault</th>\n      <th>PlannedInterestPostDefault</th>\n      <th>EAD1</th>\n      <th>EAD2</th>\n      <th>PrincipalRecovery</th>\n      <th>InterestRecovery</th>\n      <th>RecoveryStage</th>\n      <th>StageActiveSince</th>\n      <th>ModelVersion</th>\n      <th>Rating</th>\n      <th>EL_V0</th>\n      <th>Rating_V0</th>\n      <th>EL_V1</th>\n      <th>Rating_V1</th>\n      <th>Rating_V2</th>\n      <th>Status</th>\n      <th>Restructured</th>\n      <th>ActiveLateCategory</th>\n      <th>WorseLateCategory</th>\n      <th>CreditScoreEsMicroL</th>\n      <th>CreditScoreEsEquifaxRisk</th>\n      <th>CreditScoreFiAsiakasTietoRiskGrade</th>\n      <th>CreditScoreEeMini</th>\n      <th>PrincipalPaymentsMade</th>\n      <th>InterestAndPenaltyPaymentsMade</th>\n      <th>PrincipalWriteOffs</th>\n      <th>InterestAndPenaltyWriteOffs</th>\n      <th>PrincipalBalance</th>\n      <th>InterestAndPenaltyBalance</th>\n      <th>NoOfPreviousLoansBeforeLoan</th>\n      <th>AmountOfPreviousLoansBeforeLoan</th>\n      <th>PreviousRepaymentsBeforeLoan</th>\n      <th>PreviousEarlyRepaymentsBefoleLoan</th>\n      <th>PreviousEarlyRepaymentsCountBeforeLoan</th>\n      <th>GracePeriodStart</th>\n      <th>GracePeriodEnd</th>\n      <th>NextPaymentDate</th>\n      <th>NextPaymentNr</th>\n      <th>NrOfScheduledPayments</th>\n      <th>ReScheduledOn</th>\n      <th>PrincipalDebtServicingCost</th>\n      <th>InterestAndPenaltyDebtServicingCost</th>\n      <th>ActiveLateLastPaymentCategory</th>\n    </tr>\n  </thead>\n  <tbody>\n    <tr>\n      <th>957</th>\n      <td>2021-11-10</td>\n      <td>FA160D69-2682-4A60-8D8E-9BB700EA30CE</td>\n      <td>37</td>\n      <td>2009-02-21 14:12:39</td>\n      <td>2009-02-21 14:12:39</td>\n      <td>0</td>\n      <td>0.00</td>\n      <td>63.91</td>\n      <td>{544DFBAC-374F-4039-AE45-9BB700E44853}</td>\n      <td>True</td>\n      <td>2009-02-21 14:12:39</td>\n      <td>2009-03-07</td>\n      <td>2009-09-10</td>\n      <td>2009-04-10</td>\n      <td>2009-09-10</td>\n      <td>2009-09-10</td>\n      <td>14</td>\n      <td>7</td>\n      <td>2.00</td>\n      <td>1</td>\n      <td>21</td>\n      <td>NaN</td>\n      <td>0.00</td>\n      <td>EE</td>\n      <td>63.91</td>\n      <td>63.91</td>\n      <td>20.00</td>\n      <td>6</td>\n      <td>NaN</td>\n      <td>NaN</td>\n      <td>NaN</td>\n      <td>3</td>\n      <td>5.00</td>\n      <td>4.00</td>\n      <td>0.00</td>\n      <td>5.00</td>\n      <td>UpTo2Years</td>\n      <td>NaN</td>\n      <td>5To10Years</td>\n      <td>NaN</td>\n      <td>NaN</td>\n      <td>15500.00</td>\n      <td>0.00</td>\n      <td>0.00</td>\n      <td>0.00</td>\n      <td>0.00</td>\n      <td>0.00</td>\n      <td>0.00</td>\n      <td>15500.00</td>\n      <td>0</td>\n      <td>0.00</td>\n      <td>0</td>\n      <td>0.00</td>\n      <td>0.00</td>\n      <td>10</td>\n      <td>True</td>\n      <td>1000.00</td>\n      <td>34.14</td>\n      <td>2009-09-10</td>\n      <td>NaN</td>\n      <td>NaN</td>\n      <td>NaN</td>\n      <td>NaN</td>\n      <td>NaN</td>\n      <td>NaN</td>\n      <td>NaN</td>\n      <td>NaN</td>\n      <td>NaN</td>\n      <td>NaN</td>\n      <td>NaN</td>\n      <td>NaN</td>\n      <td>NaN</td>\n      <td>NaN</td>\n      <td>NaN</td>\n      <td>NaN</td>\n      <td>NaN</td>\n      <td>NaN</td>\n      <td>NaN</td>\n      <td>NaN</td>\n      <td>NaN</td>\n      <td>NaN</td>\n      <td>NaN</td>\n      <td>NaN</td>\n      <td>NaN</td>\n      <td>Repaid</td>\n      <td>False</td>\n      <td>NaN</td>\n      <td>NaN</td>\n      <td>NaN</td>\n      <td>NaN</td>\n      <td>NaN</td>\n      <td>NaN</td>\n      <td>63.91</td>\n      <td>2.18</td>\n      <td>0.00</td>\n      <td>0.00</td>\n      <td>0.00</td>\n      <td>0.00</td>\n      <td>0.00</td>\n      <td>0.00</td>\n      <td>0.00</td>\n      <td>0.00</td>\n      <td>0.00</td>\n      <td>NaN</td>\n      <td>NaN</td>\n      <td>NaN</td>\n      <td>NaN</td>\n      <td>NaN</td>\n      <td>NaN</td>\n      <td>0.00</td>\n      <td>0.00</td>\n      <td>NaN</td>\n    </tr>\n    <tr>\n      <th>958</th>\n      <td>2021-11-10</td>\n      <td>8E929B92-7C99-421D-8499-9BB70125F390</td>\n      <td>42</td>\n      <td>2009-02-21 17:50:14</td>\n      <td>2009-02-21 17:50:14</td>\n      <td>0</td>\n      <td>0.00</td>\n      <td>83.09</td>\n      <td>{B7FDCB11-4CE9-4CDE-993F-9BB70103B180}</td>\n      <td>True</td>\n      <td>2009-02-21 17:50:14</td>\n      <td>2009-03-03</td>\n      <td>2011-03-14</td>\n      <td>2009-04-13</td>\n      <td>2011-03-14</td>\n      <td>2011-03-14</td>\n      <td>17</td>\n      <td>7</td>\n      <td>2.00</td>\n      <td>1</td>\n      <td>19</td>\n      <td>NaN</td>\n      <td>1.00</td>\n      <td>EE</td>\n      <td>958.67</td>\n      <td>83.08</td>\n      <td>10.00</td>\n      <td>24</td>\n      <td>NaN</td>\n      <td>NaN</td>\n      <td>NaN</td>\n      <td>6</td>\n      <td>2.00</td>\n      <td>3.00</td>\n      <td>2.00</td>\n      <td>3.00</td>\n      <td>UpTo1Year</td>\n      <td>NaN</td>\n      <td>LessThan2Years</td>\n      <td>NaN</td>\n      <td>NaN</td>\n      <td>4000.00</td>\n      <td>0.00</td>\n      <td>0.00</td>\n      <td>0.00</td>\n      <td>0.00</td>\n      <td>0.00</td>\n      <td>0.00</td>\n      <td>4000.00</td>\n      <td>0</td>\n      <td>0.00</td>\n      <td>0</td>\n      <td>0.00</td>\n      <td>0.00</td>\n      <td>12</td>\n      <td>True</td>\n      <td>1300.00</td>\n      <td>142.73</td>\n      <td>2011-03-14</td>\n      <td>NaN</td>\n      <td>NaN</td>\n      <td>NaN</td>\n      <td>NaN</td>\n      <td>NaN</td>\n      <td>NaN</td>\n      <td>NaN</td>\n      <td>NaN</td>\n      <td>NaN</td>\n      <td>NaN</td>\n      <td>NaN</td>\n      <td>NaN</td>\n      <td>NaN</td>\n      <td>NaN</td>\n      <td>NaN</td>\n      <td>NaN</td>\n      <td>NaN</td>\n      <td>NaN</td>\n      <td>NaN</td>\n      <td>NaN</td>\n      <td>NaN</td>\n      <td>NaN</td>\n      <td>NaN</td>\n      <td>NaN</td>\n      <td>NaN</td>\n      <td>Repaid</td>\n      <td>False</td>\n      <td>NaN</td>\n      <td>180+</td>\n      <td>NaN</td>\n      <td>NaN</td>\n      <td>NaN</td>\n      <td>NaN</td>\n      <td>83.08</td>\n      <td>9.20</td>\n      <td>0.00</td>\n      <td>0.00</td>\n      <td>0.00</td>\n      <td>0.00</td>\n      <td>0.00</td>\n      <td>0.00</td>\n      <td>0.00</td>\n      <td>0.00</td>\n      <td>0.00</td>\n      <td>NaN</td>\n      <td>NaN</td>\n      <td>NaN</td>\n      <td>NaN</td>\n      <td>NaN</td>\n      <td>NaN</td>\n      <td>0.00</td>\n      <td>0.00</td>\n      <td>NaN</td>\n    </tr>\n    <tr>\n      <th>959</th>\n      <td>2021-11-10</td>\n      <td>33B3F669-D0E3-4474-8045-9BB70128D064</td>\n      <td>43</td>\n      <td>2009-02-21 18:00:40</td>\n      <td>2009-02-21 18:00:40</td>\n      <td>0</td>\n      <td>0.00</td>\n      <td>322.75</td>\n      <td>{E58803E6-77B6-40EB-83C4-9BB70118C245}</td>\n      <td>True</td>\n      <td>2009-02-21 18:00:40</td>\n      <td>2009-02-28</td>\n      <td>2010-03-10</td>\n      <td>2009-04-10</td>\n      <td>2010-03-10</td>\n      <td>2010-03-10</td>\n      <td>18</td>\n      <td>7</td>\n      <td>2.00</td>\n      <td>1</td>\n      <td>38</td>\n      <td>NaN</td>\n      <td>0.00</td>\n      <td>EE</td>\n      <td>639.12</td>\n      <td>322.75</td>\n      <td>25.00</td>\n      <td>12</td>\n      <td>NaN</td>\n      <td>NaN</td>\n      <td>NaN</td>\n      <td>6</td>\n      <td>4.00</td>\n      <td>4.00</td>\n      <td>4.00</td>\n      <td>3.00</td>\n      <td>UpTo4Years</td>\n      <td>NaN</td>\n      <td>15To25Years</td>\n      <td>NaN</td>\n      <td>NaN</td>\n      <td>9000.00</td>\n      <td>0.00</td>\n      <td>0.00</td>\n      <td>0.00</td>\n      <td>0.00</td>\n      <td>0.00</td>\n      <td>0.00</td>\n      <td>9000.00</td>\n      <td>0</td>\n      <td>0.00</td>\n      <td>0</td>\n      <td>0.00</td>\n      <td>0.00</td>\n      <td>10</td>\n      <td>True</td>\n      <td>5050.00</td>\n      <td>697.28</td>\n      <td>2010-03-10</td>\n      <td>NaN</td>\n      <td>NaN</td>\n      <td>NaN</td>\n      <td>NaN</td>\n      <td>NaN</td>\n      <td>NaN</td>\n      <td>NaN</td>\n      <td>NaN</td>\n      <td>NaN</td>\n      <td>NaN</td>\n      <td>NaN</td>\n      <td>NaN</td>\n      <td>NaN</td>\n      <td>NaN</td>\n      <td>NaN</td>\n      <td>NaN</td>\n      <td>NaN</td>\n      <td>NaN</td>\n      <td>NaN</td>\n      <td>NaN</td>\n      <td>NaN</td>\n      <td>NaN</td>\n      <td>NaN</td>\n      <td>NaN</td>\n      <td>NaN</td>\n      <td>Repaid</td>\n      <td>False</td>\n      <td>NaN</td>\n      <td>151-180</td>\n      <td>NaN</td>\n      <td>NaN</td>\n      <td>NaN</td>\n      <td>NaN</td>\n      <td>322.75</td>\n      <td>44.56</td>\n      <td>0.00</td>\n      <td>0.00</td>\n      <td>0.00</td>\n      <td>0.00</td>\n      <td>0.00</td>\n      <td>0.00</td>\n      <td>0.00</td>\n      <td>0.00</td>\n      <td>0.00</td>\n      <td>NaN</td>\n      <td>NaN</td>\n      <td>NaN</td>\n      <td>NaN</td>\n      <td>NaN</td>\n      <td>NaN</td>\n      <td>0.00</td>\n      <td>0.00</td>\n      <td>NaN</td>\n    </tr>\n    <tr>\n      <th>960</th>\n      <td>2021-11-10</td>\n      <td>7074D9E8-E8F5-403B-8614-9BB701338AD4</td>\n      <td>44</td>\n      <td>2009-02-21 18:39:43</td>\n      <td>2009-02-21 18:39:43</td>\n      <td>0</td>\n      <td>0.00</td>\n      <td>252.45</td>\n      <td>{DE67C0EB-7534-47F2-87BD-9BB7011E112A}</td>\n      <td>True</td>\n      <td>2009-02-21 18:39:43</td>\n      <td>2009-03-03</td>\n      <td>2011-04-04</td>\n      <td>2009-05-01</td>\n      <td>2011-04-01</td>\n      <td>2011-04-01</td>\n      <td>18</td>\n      <td>7</td>\n      <td>2.00</td>\n      <td>1</td>\n      <td>55</td>\n      <td>NaN</td>\n      <td>1.00</td>\n      <td>EE</td>\n      <td>958.67</td>\n      <td>252.45</td>\n      <td>10.00</td>\n      <td>24</td>\n      <td>NaN</td>\n      <td>NaN</td>\n      <td>NaN</td>\n      <td>2</td>\n      <td>3.00</td>\n      <td>2.00</td>\n      <td>3.00</td>\n      <td>3.00</td>\n      <td>MoreThan5Years</td>\n      <td>NaN</td>\n      <td>MoreThan25Years</td>\n      <td>NaN</td>\n      <td>NaN</td>\n      <td>6000.00</td>\n      <td>0.00</td>\n      <td>0.00</td>\n      <td>0.00</td>\n      <td>0.00</td>\n      <td>0.00</td>\n      <td>0.00</td>\n      <td>6000.00</td>\n      <td>0</td>\n      <td>0.00</td>\n      <td>0</td>\n      <td>0.00</td>\n      <td>0.00</td>\n      <td>1</td>\n      <td>True</td>\n      <td>3950.00</td>\n      <td>454.30</td>\n      <td>2011-04-04</td>\n      <td>NaN</td>\n      <td>NaN</td>\n      <td>NaN</td>\n      <td>NaN</td>\n      <td>NaN</td>\n      <td>NaN</td>\n      <td>NaN</td>\n      <td>NaN</td>\n      <td>NaN</td>\n      <td>NaN</td>\n      <td>NaN</td>\n      <td>NaN</td>\n      <td>NaN</td>\n      <td>NaN</td>\n      <td>NaN</td>\n      <td>NaN</td>\n      <td>NaN</td>\n      <td>NaN</td>\n      <td>NaN</td>\n      <td>NaN</td>\n      <td>NaN</td>\n      <td>NaN</td>\n      <td>NaN</td>\n      <td>NaN</td>\n      <td>NaN</td>\n      <td>Repaid</td>\n      <td>False</td>\n      <td>NaN</td>\n      <td>121-150</td>\n      <td>NaN</td>\n      <td>NaN</td>\n      <td>NaN</td>\n      <td>NaN</td>\n      <td>252.45</td>\n      <td>29.08</td>\n      <td>0.00</td>\n      <td>0.00</td>\n      <td>0.00</td>\n      <td>0.00</td>\n      <td>0.00</td>\n      <td>0.00</td>\n      <td>0.00</td>\n      <td>0.00</td>\n      <td>0.00</td>\n      <td>NaN</td>\n      <td>NaN</td>\n      <td>NaN</td>\n      <td>NaN</td>\n      <td>NaN</td>\n      <td>NaN</td>\n      <td>0.00</td>\n      <td>0.00</td>\n      <td>NaN</td>\n    </tr>\n    <tr>\n      <th>961</th>\n      <td>2021-11-10</td>\n      <td>39F2A312-CD6C-4F60-A7F6-9BB7014CE0A9</td>\n      <td>45</td>\n      <td>2009-02-21 20:11:58</td>\n      <td>2009-02-21 20:11:58</td>\n      <td>0</td>\n      <td>0.00</td>\n      <td>63.91</td>\n      <td>{C41C37A5-B2D7-4B5A-B2D2-9BB70149B419}</td>\n      <td>True</td>\n      <td>2009-02-21 20:11:58</td>\n      <td>2009-03-07</td>\n      <td>2010-06-10</td>\n      <td>2009-05-06</td>\n      <td>2010-04-06</td>\n      <td>2010-04-06</td>\n      <td>20</td>\n      <td>7</td>\n      <td>2.00</td>\n      <td>1</td>\n      <td>46</td>\n      <td>NaN</td>\n      <td>1.00</td>\n      <td>EE</td>\n      <td>766.94</td>\n      <td>63.91</td>\n      <td>20.00</td>\n      <td>12</td>\n      <td>NaN</td>\n      <td>NaN</td>\n      <td>NaN</td>\n      <td>8</td>\n      <td>5.00</td>\n      <td>1.00</td>\n      <td>5.00</td>\n      <td>3.00</td>\n      <td>MoreThan5Years</td>\n      <td>NaN</td>\n      <td>MoreThan25Years</td>\n      <td>NaN</td>\n      <td>NaN</td>\n      <td>9000.00</td>\n      <td>0.00</td>\n      <td>0.00</td>\n      <td>0.00</td>\n      <td>0.00</td>\n      <td>0.00</td>\n      <td>1700.00</td>\n      <td>10700.00</td>\n      <td>0</td>\n      <td>0.00</td>\n      <td>0</td>\n      <td>0.00</td>\n      <td>0.00</td>\n      <td>6</td>\n      <td>True</td>\n      <td>1000.00</td>\n      <td>127.58</td>\n      <td>2010-06-10</td>\n      <td>NaN</td>\n      <td>NaN</td>\n      <td>NaN</td>\n      <td>NaN</td>\n      <td>NaN</td>\n      <td>NaN</td>\n      <td>NaN</td>\n      <td>NaN</td>\n      <td>2010-05-04</td>\n      <td>NaN</td>\n      <td>0.00</td>\n      <td>0.00</td>\n      <td>3.02</td>\n      <td>-4.92</td>\n      <td>3.02</td>\n      <td>0.71</td>\n      <td>NaN</td>\n      <td>NaN</td>\n      <td>NaN</td>\n      <td>NaN</td>\n      <td>NaN</td>\n      <td>NaN</td>\n      <td>NaN</td>\n      <td>NaN</td>\n      <td>NaN</td>\n      <td>Repaid</td>\n      <td>False</td>\n      <td>NaN</td>\n      <td>61-90</td>\n      <td>NaN</td>\n      <td>NaN</td>\n      <td>NaN</td>\n      <td>NaN</td>\n      <td>63.91</td>\n      <td>8.65</td>\n      <td>0.00</td>\n      <td>0.00</td>\n      <td>0.00</td>\n      <td>0.00</td>\n      <td>0.00</td>\n      <td>0.00</td>\n      <td>0.00</td>\n      <td>0.00</td>\n      <td>0.00</td>\n      <td>NaN</td>\n      <td>NaN</td>\n      <td>NaN</td>\n      <td>NaN</td>\n      <td>NaN</td>\n      <td>NaN</td>\n      <td>0.00</td>\n      <td>0.00</td>\n      <td>NaN</td>\n    </tr>\n  </tbody>\n</table>\n</div>"
     },
     "execution_count": 58,
     "metadata": {},
     "output_type": "execute_result"
    }
   ]
  },
  {
   "cell_type": "code",
   "execution_count": 59,
   "outputs": [
    {
     "data": {
      "text/plain": "       ReportAsOfEOD                                LoanId  LoanNumber  \\\n197112    2021-11-10  9443551E-9656-4C9C-B036-ADDB017E027D     2438363   \n197111    2021-11-10  96A41405-759B-4936-BA22-ADDB017B8C18     2438353   \n197113    2021-11-10  337C80A1-882F-4E27-A199-ADDB01861DD6     2438387   \n197114    2021-11-10  B0100B25-49CA-4DA6-B8F3-ADDB018A8159     2438395   \n197115    2021-11-10  F254CC92-13ED-4565-839F-ADDC0001D790     2438402   \n\n                ListedOnUTC     BiddingStartedOn  BidsPortfolioManager  \\\n197112  2021-11-09 21:14:48  2021-11-09 23:14:48                    28   \n197111  2021-11-09 21:23:44  2021-11-09 23:23:44                   127   \n197113  2021-11-09 21:46:45  2021-11-09 23:46:45                    15   \n197114  2021-11-09 22:02:55  2021-11-10 00:02:55                    79   \n197115  2021-11-09 22:09:40  2021-11-10 00:09:40                   217   \n\n        BidsApi  BidsManual                                 PartyId  \\\n197112     3.00       16.00  {7B3BFFB4-9CA2-4AD8-A38F-AD3300342FCB}   \n197111     0.00       91.00  {9E336188-56C7-4FDB-B370-ADDB017B8C46}   \n197113     0.00       56.00  {16C016AA-FEE1-4BA1-8F8A-ACED00B658DF}   \n197114     9.00       63.00  {D9FFA1F8-0B6B-4DC1-9C3B-ADDB018A8159}   \n197115     0.00        1.00  {9666D351-A66E-43A5-8BD5-A3E10147B94E}   \n\n        NewCreditCustomer LoanApplicationStartedDate    LoanDate  \\\n197112               True        2021-11-09 23:10:51  2021-11-09   \n197111               True        2021-11-09 23:01:54  2021-11-09   \n197113               True        2021-11-09 23:40:22  2021-11-09   \n197114               True        2021-11-09 23:56:21  2021-11-10   \n197115              False        2021-11-10 00:06:42  2021-11-10   \n\n       ContractEndDate FirstPaymentDate MaturityDate_Original  \\\n197112             NaN       2021-12-08            2026-11-09   \n197111             NaN       2021-11-15            2026-10-13   \n197113             NaN       2021-12-08            2024-11-08   \n197114             NaN       2021-11-18            2026-10-19   \n197115             NaN       2021-12-02            2026-11-02   \n\n       MaturityDate_Last  ApplicationSignedHour  ApplicationSignedWeekday  \\\n197112        2026-11-09                     23                         3   \n197111        2026-10-13                     23                         3   \n197113        2024-11-08                     23                         3   \n197114        2026-10-19                     23                         3   \n197115        2026-11-02                      0                         4   \n\n        VerificationType  LanguageCode  Age  DateOfBirth  Gender Country  \\\n197112              4.00             1   31          NaN    0.00      EE   \n197111              4.00             4   22          NaN    0.00      FI   \n197113              4.00             1   64          NaN    1.00      EE   \n197114              4.00             3   43          NaN    0.00      EE   \n197115              4.00             4   41          NaN    0.00      FI   \n\n        AppliedAmount  Amount  Interest  LoanDuration  MonthlyPayment  County  \\\n197112         637.00  637.00     43.26            60           25.34     NaN   \n197111        3113.00 3113.00     18.98            60           77.82     NaN   \n197113         956.00  956.00     34.05            36           43.59     NaN   \n197114        2126.00 2126.00     19.72            60           61.26     NaN   \n197115        3113.00 3113.00     18.79            60           77.82     NaN   \n\n        City  UseOfLoan  Education  MaritalStatus NrOfDependants  \\\n197112   NaN         -1       1.00          -1.00            NaN   \n197111   NaN         -1       3.00          -1.00            NaN   \n197113   NaN         -1       5.00          -1.00            NaN   \n197114   NaN         -1       4.00          -1.00            NaN   \n197115   NaN         -1       5.00          -1.00            NaN   \n\n        EmploymentStatus EmploymentDurationCurrentEmployer  \\\n197112             -1.00                         UpTo1Year   \n197111             -1.00                        UpTo5Years   \n197113             -1.00                           Retiree   \n197114             -1.00                        UpTo5Years   \n197115             -1.00                    MoreThan5Years   \n\n        EmploymentPosition WorkExperience  OccupationArea  HomeOwnershipType  \\\n197112                 NaN            NaN           -1.00               2.00   \n197111                 NaN            NaN           -1.00               3.00   \n197113                 NaN            NaN           -1.00               1.00   \n197114                 NaN            NaN           -1.00               1.00   \n197115                 NaN            NaN           -1.00               1.00   \n\n        IncomeFromPrincipalEmployer  IncomeFromPension  \\\n197112                         0.00               0.00   \n197111                         0.00               0.00   \n197113                         0.00               0.00   \n197114                         0.00               0.00   \n197115                         0.00               0.00   \n\n        IncomeFromFamilyAllowance  IncomeFromSocialWelfare  \\\n197112                       0.00                     0.00   \n197111                       0.00                     0.00   \n197113                       0.00                     0.00   \n197114                       0.00                     0.00   \n197115                       0.00                     0.00   \n\n        IncomeFromLeavePay  IncomeFromChildSupport  IncomeOther  IncomeTotal  \\\n197112                0.00                    0.00         0.00      1400.00   \n197111                0.00                    0.00         0.00      1600.00   \n197113                0.00                    0.00         0.00       656.00   \n197114                0.00                    0.00         0.00      1250.00   \n197115                0.00                    0.00         0.00      3650.00   \n\n        ExistingLiabilities  LiabilitiesTotal  RefinanceLiabilities  \\\n197112                    0              0.00                     0   \n197111                    0              0.00                     0   \n197113                    3            248.27                     0   \n197114                    0              0.00                     0   \n197115                    3            232.46                     0   \n\n        DebtToIncome  FreeCash  MonthlyPaymentDay  \\\n197112          0.00      0.00                  8   \n197111          0.00      0.00                 13   \n197113          0.00      0.00                  8   \n197114          0.00      0.00                 18   \n197115          0.00      0.00                  2   \n\n        ActiveScheduleFirstPaymentReached  PlannedPrincipalTillDate  \\\n197112                              False                       NaN   \n197111                              False                       NaN   \n197113                              False                       NaN   \n197114                              False                       NaN   \n197115                              False                       NaN   \n\n        PlannedInterestTillDate LastPaymentOn  CurrentDebtDaysPrimary  \\\n197112                      NaN           NaN                     NaN   \n197111                      NaN           NaN                     NaN   \n197113                      NaN           NaN                     NaN   \n197114                      NaN           NaN                     NaN   \n197115                      NaN           NaN                     NaN   \n\n       DebtOccuredOn  CurrentDebtDaysSecondary DebtOccuredOnForSecondary  \\\n197112           NaN                       NaN                       NaN   \n197111           NaN                       NaN                       NaN   \n197113           NaN                       NaN                       NaN   \n197114           NaN                       NaN                       NaN   \n197115           NaN                       NaN                       NaN   \n\n        ExpectedLoss  LossGivenDefault  ExpectedReturn  ProbabilityOfDefault  \\\n197112          0.20              0.55            0.06                  0.36   \n197111          0.09              0.73            0.07                  0.12   \n197113          0.11              0.60            0.13                  0.18   \n197114          0.05              0.55            0.10                  0.10   \n197115          0.09              0.79            0.07                  0.12   \n\n       DefaultDate  PrincipalOverdueBySchedule  PlannedPrincipalPostDefault  \\\n197112         NaN                        0.00                          NaN   \n197111         NaN                        0.00                          NaN   \n197113         NaN                        0.00                          NaN   \n197114         NaN                        0.00                          NaN   \n197115         NaN                        0.00                          NaN   \n\n        PlannedInterestPostDefault  EAD1  EAD2  PrincipalRecovery  \\\n197112                         NaN   NaN   NaN                NaN   \n197111                         NaN   NaN   NaN                NaN   \n197113                         NaN   NaN   NaN                NaN   \n197114                         NaN   NaN   NaN                NaN   \n197115                         NaN   NaN   NaN                NaN   \n\n        InterestRecovery  RecoveryStage StageActiveSince  ModelVersion Rating  \\\n197112               NaN            NaN              NaN          6.00      F   \n197111               NaN            NaN              NaN          6.00      D   \n197113               NaN            NaN              NaN          6.00      D   \n197114               NaN            NaN              NaN          6.00      B   \n197115               NaN            NaN              NaN          6.00      D   \n\n        EL_V0 Rating_V0  EL_V1 Rating_V1 Rating_V2   Status  Restructured  \\\n197112    NaN       NaN    NaN       NaN       NaN  Current         False   \n197111    NaN       NaN    NaN       NaN       NaN  Current         False   \n197113    NaN       NaN    NaN       NaN       NaN  Current         False   \n197114    NaN       NaN    NaN       NaN       NaN  Current         False   \n197115    NaN       NaN    NaN       NaN       NaN  Current         False   \n\n       ActiveLateCategory WorseLateCategory CreditScoreEsMicroL  \\\n197112                NaN               NaN                   M   \n197111                NaN               NaN                   M   \n197113                NaN               NaN                   M   \n197114                NaN               NaN                   M   \n197115                NaN               NaN                   M   \n\n       CreditScoreEsEquifaxRisk CreditScoreFiAsiakasTietoRiskGrade  \\\n197112                      NaN                                NaN   \n197111                      NaN                                  4   \n197113                      NaN                                NaN   \n197114                      NaN                                NaN   \n197115                      NaN                                  3   \n\n        CreditScoreEeMini  PrincipalPaymentsMade  \\\n197112             900.00                   0.00   \n197111                NaN                   0.00   \n197113            1000.00                   0.00   \n197114            1000.00                   0.00   \n197115                NaN                   0.00   \n\n        InterestAndPenaltyPaymentsMade  PrincipalWriteOffs  \\\n197112                            0.00                 NaN   \n197111                            0.00                 NaN   \n197113                            0.00                 NaN   \n197114                            0.00                 NaN   \n197115                            0.00                 NaN   \n\n        InterestAndPenaltyWriteOffs  PrincipalBalance  \\\n197112                          NaN            637.00   \n197111                          NaN           3113.00   \n197113                          NaN            956.00   \n197114                          NaN           2126.00   \n197115                          NaN           3113.00   \n\n        InterestAndPenaltyBalance  NoOfPreviousLoansBeforeLoan  \\\n197112                        NaN                         0.00   \n197111                        NaN                         0.00   \n197113                        NaN                         1.00   \n197114                        NaN                         0.00   \n197115                        NaN                         4.00   \n\n        AmountOfPreviousLoansBeforeLoan  PreviousRepaymentsBeforeLoan  \\\n197112                             0.00                           NaN   \n197111                             0.00                           NaN   \n197113                          2126.00                        140.00   \n197114                             0.00                           NaN   \n197115                         12300.00                        408.08   \n\n        PreviousEarlyRepaymentsBefoleLoan  \\\n197112                                NaN   \n197111                                NaN   \n197113                                NaN   \n197114                                NaN   \n197115                                NaN   \n\n        PreviousEarlyRepaymentsCountBeforeLoan GracePeriodStart  \\\n197112                                    0.00              NaN   \n197111                                    0.00              NaN   \n197113                                    0.00              NaN   \n197114                                    0.00              NaN   \n197115                                    0.00              NaN   \n\n       GracePeriodEnd NextPaymentDate  NextPaymentNr  NrOfScheduledPayments  \\\n197112            NaN      2021-12-08           1.00                  60.00   \n197111            NaN      2021-11-15           1.00                  60.00   \n197113            NaN      2021-12-08           1.00                  36.00   \n197114            NaN      2021-11-18           1.00                  60.00   \n197115            NaN      2021-12-02           1.00                  60.00   \n\n       ReScheduledOn  PrincipalDebtServicingCost  \\\n197112           NaN                         NaN   \n197111           NaN                         NaN   \n197113           NaN                         NaN   \n197114           NaN                         NaN   \n197115           NaN                         NaN   \n\n        InterestAndPenaltyDebtServicingCost ActiveLateLastPaymentCategory  \n197112                                  NaN                           NaN  \n197111                                  NaN                           NaN  \n197113                                  NaN                           NaN  \n197114                                  NaN                           NaN  \n197115                                  NaN                           NaN  ",
      "text/html": "<div>\n<style scoped>\n    .dataframe tbody tr th:only-of-type {\n        vertical-align: middle;\n    }\n\n    .dataframe tbody tr th {\n        vertical-align: top;\n    }\n\n    .dataframe thead th {\n        text-align: right;\n    }\n</style>\n<table border=\"1\" class=\"dataframe\">\n  <thead>\n    <tr style=\"text-align: right;\">\n      <th></th>\n      <th>ReportAsOfEOD</th>\n      <th>LoanId</th>\n      <th>LoanNumber</th>\n      <th>ListedOnUTC</th>\n      <th>BiddingStartedOn</th>\n      <th>BidsPortfolioManager</th>\n      <th>BidsApi</th>\n      <th>BidsManual</th>\n      <th>PartyId</th>\n      <th>NewCreditCustomer</th>\n      <th>LoanApplicationStartedDate</th>\n      <th>LoanDate</th>\n      <th>ContractEndDate</th>\n      <th>FirstPaymentDate</th>\n      <th>MaturityDate_Original</th>\n      <th>MaturityDate_Last</th>\n      <th>ApplicationSignedHour</th>\n      <th>ApplicationSignedWeekday</th>\n      <th>VerificationType</th>\n      <th>LanguageCode</th>\n      <th>Age</th>\n      <th>DateOfBirth</th>\n      <th>Gender</th>\n      <th>Country</th>\n      <th>AppliedAmount</th>\n      <th>Amount</th>\n      <th>Interest</th>\n      <th>LoanDuration</th>\n      <th>MonthlyPayment</th>\n      <th>County</th>\n      <th>City</th>\n      <th>UseOfLoan</th>\n      <th>Education</th>\n      <th>MaritalStatus</th>\n      <th>NrOfDependants</th>\n      <th>EmploymentStatus</th>\n      <th>EmploymentDurationCurrentEmployer</th>\n      <th>EmploymentPosition</th>\n      <th>WorkExperience</th>\n      <th>OccupationArea</th>\n      <th>HomeOwnershipType</th>\n      <th>IncomeFromPrincipalEmployer</th>\n      <th>IncomeFromPension</th>\n      <th>IncomeFromFamilyAllowance</th>\n      <th>IncomeFromSocialWelfare</th>\n      <th>IncomeFromLeavePay</th>\n      <th>IncomeFromChildSupport</th>\n      <th>IncomeOther</th>\n      <th>IncomeTotal</th>\n      <th>ExistingLiabilities</th>\n      <th>LiabilitiesTotal</th>\n      <th>RefinanceLiabilities</th>\n      <th>DebtToIncome</th>\n      <th>FreeCash</th>\n      <th>MonthlyPaymentDay</th>\n      <th>ActiveScheduleFirstPaymentReached</th>\n      <th>PlannedPrincipalTillDate</th>\n      <th>PlannedInterestTillDate</th>\n      <th>LastPaymentOn</th>\n      <th>CurrentDebtDaysPrimary</th>\n      <th>DebtOccuredOn</th>\n      <th>CurrentDebtDaysSecondary</th>\n      <th>DebtOccuredOnForSecondary</th>\n      <th>ExpectedLoss</th>\n      <th>LossGivenDefault</th>\n      <th>ExpectedReturn</th>\n      <th>ProbabilityOfDefault</th>\n      <th>DefaultDate</th>\n      <th>PrincipalOverdueBySchedule</th>\n      <th>PlannedPrincipalPostDefault</th>\n      <th>PlannedInterestPostDefault</th>\n      <th>EAD1</th>\n      <th>EAD2</th>\n      <th>PrincipalRecovery</th>\n      <th>InterestRecovery</th>\n      <th>RecoveryStage</th>\n      <th>StageActiveSince</th>\n      <th>ModelVersion</th>\n      <th>Rating</th>\n      <th>EL_V0</th>\n      <th>Rating_V0</th>\n      <th>EL_V1</th>\n      <th>Rating_V1</th>\n      <th>Rating_V2</th>\n      <th>Status</th>\n      <th>Restructured</th>\n      <th>ActiveLateCategory</th>\n      <th>WorseLateCategory</th>\n      <th>CreditScoreEsMicroL</th>\n      <th>CreditScoreEsEquifaxRisk</th>\n      <th>CreditScoreFiAsiakasTietoRiskGrade</th>\n      <th>CreditScoreEeMini</th>\n      <th>PrincipalPaymentsMade</th>\n      <th>InterestAndPenaltyPaymentsMade</th>\n      <th>PrincipalWriteOffs</th>\n      <th>InterestAndPenaltyWriteOffs</th>\n      <th>PrincipalBalance</th>\n      <th>InterestAndPenaltyBalance</th>\n      <th>NoOfPreviousLoansBeforeLoan</th>\n      <th>AmountOfPreviousLoansBeforeLoan</th>\n      <th>PreviousRepaymentsBeforeLoan</th>\n      <th>PreviousEarlyRepaymentsBefoleLoan</th>\n      <th>PreviousEarlyRepaymentsCountBeforeLoan</th>\n      <th>GracePeriodStart</th>\n      <th>GracePeriodEnd</th>\n      <th>NextPaymentDate</th>\n      <th>NextPaymentNr</th>\n      <th>NrOfScheduledPayments</th>\n      <th>ReScheduledOn</th>\n      <th>PrincipalDebtServicingCost</th>\n      <th>InterestAndPenaltyDebtServicingCost</th>\n      <th>ActiveLateLastPaymentCategory</th>\n    </tr>\n  </thead>\n  <tbody>\n    <tr>\n      <th>197112</th>\n      <td>2021-11-10</td>\n      <td>9443551E-9656-4C9C-B036-ADDB017E027D</td>\n      <td>2438363</td>\n      <td>2021-11-09 21:14:48</td>\n      <td>2021-11-09 23:14:48</td>\n      <td>28</td>\n      <td>3.00</td>\n      <td>16.00</td>\n      <td>{7B3BFFB4-9CA2-4AD8-A38F-AD3300342FCB}</td>\n      <td>True</td>\n      <td>2021-11-09 23:10:51</td>\n      <td>2021-11-09</td>\n      <td>NaN</td>\n      <td>2021-12-08</td>\n      <td>2026-11-09</td>\n      <td>2026-11-09</td>\n      <td>23</td>\n      <td>3</td>\n      <td>4.00</td>\n      <td>1</td>\n      <td>31</td>\n      <td>NaN</td>\n      <td>0.00</td>\n      <td>EE</td>\n      <td>637.00</td>\n      <td>637.00</td>\n      <td>43.26</td>\n      <td>60</td>\n      <td>25.34</td>\n      <td>NaN</td>\n      <td>NaN</td>\n      <td>-1</td>\n      <td>1.00</td>\n      <td>-1.00</td>\n      <td>NaN</td>\n      <td>-1.00</td>\n      <td>UpTo1Year</td>\n      <td>NaN</td>\n      <td>NaN</td>\n      <td>-1.00</td>\n      <td>2.00</td>\n      <td>0.00</td>\n      <td>0.00</td>\n      <td>0.00</td>\n      <td>0.00</td>\n      <td>0.00</td>\n      <td>0.00</td>\n      <td>0.00</td>\n      <td>1400.00</td>\n      <td>0</td>\n      <td>0.00</td>\n      <td>0</td>\n      <td>0.00</td>\n      <td>0.00</td>\n      <td>8</td>\n      <td>False</td>\n      <td>NaN</td>\n      <td>NaN</td>\n      <td>NaN</td>\n      <td>NaN</td>\n      <td>NaN</td>\n      <td>NaN</td>\n      <td>NaN</td>\n      <td>0.20</td>\n      <td>0.55</td>\n      <td>0.06</td>\n      <td>0.36</td>\n      <td>NaN</td>\n      <td>0.00</td>\n      <td>NaN</td>\n      <td>NaN</td>\n      <td>NaN</td>\n      <td>NaN</td>\n      <td>NaN</td>\n      <td>NaN</td>\n      <td>NaN</td>\n      <td>NaN</td>\n      <td>6.00</td>\n      <td>F</td>\n      <td>NaN</td>\n      <td>NaN</td>\n      <td>NaN</td>\n      <td>NaN</td>\n      <td>NaN</td>\n      <td>Current</td>\n      <td>False</td>\n      <td>NaN</td>\n      <td>NaN</td>\n      <td>M</td>\n      <td>NaN</td>\n      <td>NaN</td>\n      <td>900.00</td>\n      <td>0.00</td>\n      <td>0.00</td>\n      <td>NaN</td>\n      <td>NaN</td>\n      <td>637.00</td>\n      <td>NaN</td>\n      <td>0.00</td>\n      <td>0.00</td>\n      <td>NaN</td>\n      <td>NaN</td>\n      <td>0.00</td>\n      <td>NaN</td>\n      <td>NaN</td>\n      <td>2021-12-08</td>\n      <td>1.00</td>\n      <td>60.00</td>\n      <td>NaN</td>\n      <td>NaN</td>\n      <td>NaN</td>\n      <td>NaN</td>\n    </tr>\n    <tr>\n      <th>197111</th>\n      <td>2021-11-10</td>\n      <td>96A41405-759B-4936-BA22-ADDB017B8C18</td>\n      <td>2438353</td>\n      <td>2021-11-09 21:23:44</td>\n      <td>2021-11-09 23:23:44</td>\n      <td>127</td>\n      <td>0.00</td>\n      <td>91.00</td>\n      <td>{9E336188-56C7-4FDB-B370-ADDB017B8C46}</td>\n      <td>True</td>\n      <td>2021-11-09 23:01:54</td>\n      <td>2021-11-09</td>\n      <td>NaN</td>\n      <td>2021-11-15</td>\n      <td>2026-10-13</td>\n      <td>2026-10-13</td>\n      <td>23</td>\n      <td>3</td>\n      <td>4.00</td>\n      <td>4</td>\n      <td>22</td>\n      <td>NaN</td>\n      <td>0.00</td>\n      <td>FI</td>\n      <td>3113.00</td>\n      <td>3113.00</td>\n      <td>18.98</td>\n      <td>60</td>\n      <td>77.82</td>\n      <td>NaN</td>\n      <td>NaN</td>\n      <td>-1</td>\n      <td>3.00</td>\n      <td>-1.00</td>\n      <td>NaN</td>\n      <td>-1.00</td>\n      <td>UpTo5Years</td>\n      <td>NaN</td>\n      <td>NaN</td>\n      <td>-1.00</td>\n      <td>3.00</td>\n      <td>0.00</td>\n      <td>0.00</td>\n      <td>0.00</td>\n      <td>0.00</td>\n      <td>0.00</td>\n      <td>0.00</td>\n      <td>0.00</td>\n      <td>1600.00</td>\n      <td>0</td>\n      <td>0.00</td>\n      <td>0</td>\n      <td>0.00</td>\n      <td>0.00</td>\n      <td>13</td>\n      <td>False</td>\n      <td>NaN</td>\n      <td>NaN</td>\n      <td>NaN</td>\n      <td>NaN</td>\n      <td>NaN</td>\n      <td>NaN</td>\n      <td>NaN</td>\n      <td>0.09</td>\n      <td>0.73</td>\n      <td>0.07</td>\n      <td>0.12</td>\n      <td>NaN</td>\n      <td>0.00</td>\n      <td>NaN</td>\n      <td>NaN</td>\n      <td>NaN</td>\n      <td>NaN</td>\n      <td>NaN</td>\n      <td>NaN</td>\n      <td>NaN</td>\n      <td>NaN</td>\n      <td>6.00</td>\n      <td>D</td>\n      <td>NaN</td>\n      <td>NaN</td>\n      <td>NaN</td>\n      <td>NaN</td>\n      <td>NaN</td>\n      <td>Current</td>\n      <td>False</td>\n      <td>NaN</td>\n      <td>NaN</td>\n      <td>M</td>\n      <td>NaN</td>\n      <td>4</td>\n      <td>NaN</td>\n      <td>0.00</td>\n      <td>0.00</td>\n      <td>NaN</td>\n      <td>NaN</td>\n      <td>3113.00</td>\n      <td>NaN</td>\n      <td>0.00</td>\n      <td>0.00</td>\n      <td>NaN</td>\n      <td>NaN</td>\n      <td>0.00</td>\n      <td>NaN</td>\n      <td>NaN</td>\n      <td>2021-11-15</td>\n      <td>1.00</td>\n      <td>60.00</td>\n      <td>NaN</td>\n      <td>NaN</td>\n      <td>NaN</td>\n      <td>NaN</td>\n    </tr>\n    <tr>\n      <th>197113</th>\n      <td>2021-11-10</td>\n      <td>337C80A1-882F-4E27-A199-ADDB01861DD6</td>\n      <td>2438387</td>\n      <td>2021-11-09 21:46:45</td>\n      <td>2021-11-09 23:46:45</td>\n      <td>15</td>\n      <td>0.00</td>\n      <td>56.00</td>\n      <td>{16C016AA-FEE1-4BA1-8F8A-ACED00B658DF}</td>\n      <td>True</td>\n      <td>2021-11-09 23:40:22</td>\n      <td>2021-11-09</td>\n      <td>NaN</td>\n      <td>2021-12-08</td>\n      <td>2024-11-08</td>\n      <td>2024-11-08</td>\n      <td>23</td>\n      <td>3</td>\n      <td>4.00</td>\n      <td>1</td>\n      <td>64</td>\n      <td>NaN</td>\n      <td>1.00</td>\n      <td>EE</td>\n      <td>956.00</td>\n      <td>956.00</td>\n      <td>34.05</td>\n      <td>36</td>\n      <td>43.59</td>\n      <td>NaN</td>\n      <td>NaN</td>\n      <td>-1</td>\n      <td>5.00</td>\n      <td>-1.00</td>\n      <td>NaN</td>\n      <td>-1.00</td>\n      <td>Retiree</td>\n      <td>NaN</td>\n      <td>NaN</td>\n      <td>-1.00</td>\n      <td>1.00</td>\n      <td>0.00</td>\n      <td>0.00</td>\n      <td>0.00</td>\n      <td>0.00</td>\n      <td>0.00</td>\n      <td>0.00</td>\n      <td>0.00</td>\n      <td>656.00</td>\n      <td>3</td>\n      <td>248.27</td>\n      <td>0</td>\n      <td>0.00</td>\n      <td>0.00</td>\n      <td>8</td>\n      <td>False</td>\n      <td>NaN</td>\n      <td>NaN</td>\n      <td>NaN</td>\n      <td>NaN</td>\n      <td>NaN</td>\n      <td>NaN</td>\n      <td>NaN</td>\n      <td>0.11</td>\n      <td>0.60</td>\n      <td>0.13</td>\n      <td>0.18</td>\n      <td>NaN</td>\n      <td>0.00</td>\n      <td>NaN</td>\n      <td>NaN</td>\n      <td>NaN</td>\n      <td>NaN</td>\n      <td>NaN</td>\n      <td>NaN</td>\n      <td>NaN</td>\n      <td>NaN</td>\n      <td>6.00</td>\n      <td>D</td>\n      <td>NaN</td>\n      <td>NaN</td>\n      <td>NaN</td>\n      <td>NaN</td>\n      <td>NaN</td>\n      <td>Current</td>\n      <td>False</td>\n      <td>NaN</td>\n      <td>NaN</td>\n      <td>M</td>\n      <td>NaN</td>\n      <td>NaN</td>\n      <td>1000.00</td>\n      <td>0.00</td>\n      <td>0.00</td>\n      <td>NaN</td>\n      <td>NaN</td>\n      <td>956.00</td>\n      <td>NaN</td>\n      <td>1.00</td>\n      <td>2126.00</td>\n      <td>140.00</td>\n      <td>NaN</td>\n      <td>0.00</td>\n      <td>NaN</td>\n      <td>NaN</td>\n      <td>2021-12-08</td>\n      <td>1.00</td>\n      <td>36.00</td>\n      <td>NaN</td>\n      <td>NaN</td>\n      <td>NaN</td>\n      <td>NaN</td>\n    </tr>\n    <tr>\n      <th>197114</th>\n      <td>2021-11-10</td>\n      <td>B0100B25-49CA-4DA6-B8F3-ADDB018A8159</td>\n      <td>2438395</td>\n      <td>2021-11-09 22:02:55</td>\n      <td>2021-11-10 00:02:55</td>\n      <td>79</td>\n      <td>9.00</td>\n      <td>63.00</td>\n      <td>{D9FFA1F8-0B6B-4DC1-9C3B-ADDB018A8159}</td>\n      <td>True</td>\n      <td>2021-11-09 23:56:21</td>\n      <td>2021-11-10</td>\n      <td>NaN</td>\n      <td>2021-11-18</td>\n      <td>2026-10-19</td>\n      <td>2026-10-19</td>\n      <td>23</td>\n      <td>3</td>\n      <td>4.00</td>\n      <td>3</td>\n      <td>43</td>\n      <td>NaN</td>\n      <td>0.00</td>\n      <td>EE</td>\n      <td>2126.00</td>\n      <td>2126.00</td>\n      <td>19.72</td>\n      <td>60</td>\n      <td>61.26</td>\n      <td>NaN</td>\n      <td>NaN</td>\n      <td>-1</td>\n      <td>4.00</td>\n      <td>-1.00</td>\n      <td>NaN</td>\n      <td>-1.00</td>\n      <td>UpTo5Years</td>\n      <td>NaN</td>\n      <td>NaN</td>\n      <td>-1.00</td>\n      <td>1.00</td>\n      <td>0.00</td>\n      <td>0.00</td>\n      <td>0.00</td>\n      <td>0.00</td>\n      <td>0.00</td>\n      <td>0.00</td>\n      <td>0.00</td>\n      <td>1250.00</td>\n      <td>0</td>\n      <td>0.00</td>\n      <td>0</td>\n      <td>0.00</td>\n      <td>0.00</td>\n      <td>18</td>\n      <td>False</td>\n      <td>NaN</td>\n      <td>NaN</td>\n      <td>NaN</td>\n      <td>NaN</td>\n      <td>NaN</td>\n      <td>NaN</td>\n      <td>NaN</td>\n      <td>0.05</td>\n      <td>0.55</td>\n      <td>0.10</td>\n      <td>0.10</td>\n      <td>NaN</td>\n      <td>0.00</td>\n      <td>NaN</td>\n      <td>NaN</td>\n      <td>NaN</td>\n      <td>NaN</td>\n      <td>NaN</td>\n      <td>NaN</td>\n      <td>NaN</td>\n      <td>NaN</td>\n      <td>6.00</td>\n      <td>B</td>\n      <td>NaN</td>\n      <td>NaN</td>\n      <td>NaN</td>\n      <td>NaN</td>\n      <td>NaN</td>\n      <td>Current</td>\n      <td>False</td>\n      <td>NaN</td>\n      <td>NaN</td>\n      <td>M</td>\n      <td>NaN</td>\n      <td>NaN</td>\n      <td>1000.00</td>\n      <td>0.00</td>\n      <td>0.00</td>\n      <td>NaN</td>\n      <td>NaN</td>\n      <td>2126.00</td>\n      <td>NaN</td>\n      <td>0.00</td>\n      <td>0.00</td>\n      <td>NaN</td>\n      <td>NaN</td>\n      <td>0.00</td>\n      <td>NaN</td>\n      <td>NaN</td>\n      <td>2021-11-18</td>\n      <td>1.00</td>\n      <td>60.00</td>\n      <td>NaN</td>\n      <td>NaN</td>\n      <td>NaN</td>\n      <td>NaN</td>\n    </tr>\n    <tr>\n      <th>197115</th>\n      <td>2021-11-10</td>\n      <td>F254CC92-13ED-4565-839F-ADDC0001D790</td>\n      <td>2438402</td>\n      <td>2021-11-09 22:09:40</td>\n      <td>2021-11-10 00:09:40</td>\n      <td>217</td>\n      <td>0.00</td>\n      <td>1.00</td>\n      <td>{9666D351-A66E-43A5-8BD5-A3E10147B94E}</td>\n      <td>False</td>\n      <td>2021-11-10 00:06:42</td>\n      <td>2021-11-10</td>\n      <td>NaN</td>\n      <td>2021-12-02</td>\n      <td>2026-11-02</td>\n      <td>2026-11-02</td>\n      <td>0</td>\n      <td>4</td>\n      <td>4.00</td>\n      <td>4</td>\n      <td>41</td>\n      <td>NaN</td>\n      <td>0.00</td>\n      <td>FI</td>\n      <td>3113.00</td>\n      <td>3113.00</td>\n      <td>18.79</td>\n      <td>60</td>\n      <td>77.82</td>\n      <td>NaN</td>\n      <td>NaN</td>\n      <td>-1</td>\n      <td>5.00</td>\n      <td>-1.00</td>\n      <td>NaN</td>\n      <td>-1.00</td>\n      <td>MoreThan5Years</td>\n      <td>NaN</td>\n      <td>NaN</td>\n      <td>-1.00</td>\n      <td>1.00</td>\n      <td>0.00</td>\n      <td>0.00</td>\n      <td>0.00</td>\n      <td>0.00</td>\n      <td>0.00</td>\n      <td>0.00</td>\n      <td>0.00</td>\n      <td>3650.00</td>\n      <td>3</td>\n      <td>232.46</td>\n      <td>0</td>\n      <td>0.00</td>\n      <td>0.00</td>\n      <td>2</td>\n      <td>False</td>\n      <td>NaN</td>\n      <td>NaN</td>\n      <td>NaN</td>\n      <td>NaN</td>\n      <td>NaN</td>\n      <td>NaN</td>\n      <td>NaN</td>\n      <td>0.09</td>\n      <td>0.79</td>\n      <td>0.07</td>\n      <td>0.12</td>\n      <td>NaN</td>\n      <td>0.00</td>\n      <td>NaN</td>\n      <td>NaN</td>\n      <td>NaN</td>\n      <td>NaN</td>\n      <td>NaN</td>\n      <td>NaN</td>\n      <td>NaN</td>\n      <td>NaN</td>\n      <td>6.00</td>\n      <td>D</td>\n      <td>NaN</td>\n      <td>NaN</td>\n      <td>NaN</td>\n      <td>NaN</td>\n      <td>NaN</td>\n      <td>Current</td>\n      <td>False</td>\n      <td>NaN</td>\n      <td>NaN</td>\n      <td>M</td>\n      <td>NaN</td>\n      <td>3</td>\n      <td>NaN</td>\n      <td>0.00</td>\n      <td>0.00</td>\n      <td>NaN</td>\n      <td>NaN</td>\n      <td>3113.00</td>\n      <td>NaN</td>\n      <td>4.00</td>\n      <td>12300.00</td>\n      <td>408.08</td>\n      <td>NaN</td>\n      <td>0.00</td>\n      <td>NaN</td>\n      <td>NaN</td>\n      <td>2021-12-02</td>\n      <td>1.00</td>\n      <td>60.00</td>\n      <td>NaN</td>\n      <td>NaN</td>\n      <td>NaN</td>\n      <td>NaN</td>\n    </tr>\n  </tbody>\n</table>\n</div>"
     },
     "execution_count": 59,
     "metadata": {},
     "output_type": "execute_result"
    }
   ],
   "source": [
    "data.tail(5)"
   ],
   "metadata": {
    "collapsed": false,
    "pycharm": {
     "name": "#%%\n"
    }
   }
  },
  {
   "cell_type": "markdown",
   "source": [
    "The data contains various numerical and categorical columns. To fully understand the data and proceed with cleaning the dataset, one must work through most of the columns. Visual inspection is important when working with this dataset as some columns have become obsolete halfway through the dataset. It is also helpful to statistically describe different columns as it helps to get a better understanding of the data. Below are some examples on how some of the numerical and categorical columns were analyzed.\n",
    "\n",
    "Another helpful resource is the overview of the codes and terms that are used in the dataset which can be found at the [public-reports](https://www.bondora.com/en/public-reports) section on Bondora's website."
   ],
   "metadata": {
    "collapsed": false
   }
  },
  {
   "cell_type": "code",
   "execution_count": 60,
   "outputs": [
    {
     "data": {
      "text/plain": "count   197625.00\nmean      2572.08\nstd       2199.15\nmin          6.39\n25%        740.00\n50%       2125.00\n75%       4100.00\nmax      10632.00\nName: Amount, dtype: float64"
     },
     "execution_count": 60,
     "metadata": {},
     "output_type": "execute_result"
    }
   ],
   "source": [
    "# Describing a numerical column\n",
    "data.Amount.describe()"
   ],
   "metadata": {
    "collapsed": false,
    "pycharm": {
     "name": "#%%\n"
    }
   }
  },
  {
   "cell_type": "code",
   "execution_count": 61,
   "outputs": [
    {
     "data": {
      "text/plain": "530.00     20337\n531.00     13920\n4150.00    11813\n2125.00     9046\n2126.00     7108\n           ...  \n6576.00        1\n4623.00        1\n5263.00        1\n4174.00        1\n1178.90        1\nName: Amount, Length: 6606, dtype: int64"
     },
     "execution_count": 61,
     "metadata": {},
     "output_type": "execute_result"
    }
   ],
   "source": [
    "# Numerical column value counts\n",
    "data.Amount.value_counts(dropna=False)"
   ],
   "metadata": {
    "collapsed": false,
    "pycharm": {
     "name": "#%%\n"
    }
   }
  },
  {
   "cell_type": "code",
   "execution_count": 62,
   "outputs": [
    {
     "data": {
      "text/plain": "count     194892\nunique         8\ntop            D\nfreq       46991\nName: Rating, dtype: object"
     },
     "execution_count": 62,
     "metadata": {},
     "output_type": "execute_result"
    }
   ],
   "source": [
    "# Describing a categorical column\n",
    "data.Rating.describe()"
   ],
   "metadata": {
    "collapsed": false,
    "pycharm": {
     "name": "#%%\n"
    }
   }
  },
  {
   "cell_type": "code",
   "execution_count": 63,
   "outputs": [
    {
     "data": {
      "text/plain": "D      46991\nE      34391\nC      31424\nF      26159\nB      24633\nHR     14832\nA       8798\nAA      7664\nNaN     2733\nName: Rating, dtype: int64"
     },
     "execution_count": 63,
     "metadata": {},
     "output_type": "execute_result"
    }
   ],
   "source": [
    "# Categorical column value counts\n",
    "data.Rating.value_counts(dropna=False)"
   ],
   "metadata": {
    "collapsed": false,
    "pycharm": {
     "name": "#%%\n"
    }
   }
  },
  {
   "cell_type": "markdown",
   "source": [
    "## Cleaning and filtering the data\n",
    "\n",
    "The first step is to drop all the unnecessary columns. Many of these columns are obsolete (see Bondora API docs) or serve no purpose for us. However some of the columns are not marked as obsolete in the API docs and half-way through the dataset they are filled only with null values. The reason behind this is most likely EU's data protection law (GDPR). These columns were detected by visually going through the dataset and since the last half of the data is missing in these columns, there is really no point in keeping them."
   ],
   "metadata": {
    "collapsed": false
   }
  },
  {
   "cell_type": "code",
   "execution_count": 64,
   "outputs": [],
   "source": [
    "# Drop unnecessary columns.\n",
    "df = data.drop(['BiddingStartedOn', 'LoanApplicationStartedDate', 'ApplicationSignedHour',\n",
    "                'ApplicationSignedWeekday', 'DateOfBirth', 'County', 'City', 'UseOfLoan',\n",
    "                'MaritalStatus', 'NrOfDependants', 'EmploymentStatus', 'EmploymentPosition',\n",
    "                'WorkExperience', 'OccupationArea', 'IncomeFromPrincipalEmployer', 'IncomeFromPension',\n",
    "                'IncomeFromFamilyAllowance', 'IncomeFromSocialWelfare', 'IncomeFromLeavePay',\n",
    "                'IncomeFromChildSupport', 'IncomeOther', 'RefinanceLiabilities', 'DebtToIncome', 'FreeCash', 'MonthlyPaymentDay',\n",
    "                'EL_V0', 'Rating_V0', 'EL_V1', 'Rating_V1', 'Rating_V2', 'PrincipalWriteOffs', 'InterestAndPenaltyWriteOffs', 'PlannedPrincipalTillDate', 'CreditScoreEsEquifaxRisk', 'CreditScoreEsMicroL', 'BidsPortfolioManager', 'BidsApi', 'BidsManual', 'PrincipalDebtServicingCost', 'InterestAndPenaltyDebtServicingCost',\n",
    "                'ContractEndDate', 'LoanNumber', 'FirstPaymentDate', 'PlannedInterestTillDate', 'LastPaymentOn', 'CurrentDebtDaysPrimary',\n",
    "                'DebtOccuredOn', 'CurrentDebtDaysSecondary', 'DebtOccuredOnForSecondary', 'ExpectedLoss', 'LossGivenDefault', 'ExpectedReturn',\n",
    "                'ProbabilityOfDefault', 'ActiveScheduleFirstPaymentReached', 'PlannedPrincipalPostDefault', 'PlannedInterestPostDefault', 'EAD1', 'EAD2',\n",
    "                'PrincipalRecovery', 'InterestRecovery', 'RecoveryStage', 'StageActiveSince', 'ModelVersion', 'NextPaymentNr', 'ReScheduledOn'], axis=1)\n",
    "\n",
    "# Set \"LoanId\" as the index\n",
    "df = df.set_index('LoanId')"
   ],
   "metadata": {
    "collapsed": false,
    "pycharm": {
     "name": "#%%\n"
    }
   }
  },
  {
   "cell_type": "markdown",
   "source": [
    "In order to further reduce the size of the dataset we apply some filters. We parse some of the columns into date format, so it makes it easier to use them in the filters.\n",
    "\n",
    "Since we do not know the outcomes of active loans we do not include them. However if the loan is active but has been restructured, then we keep it and use it in the target variable as a \"bad\" loan since we know for sure that the loan has had issues. The reason for not including loans that are active and have not had any issues is that we have no way of knowing if issues would or would not arise in the future.\n",
    "\n",
    "We also apply some filters to numerical and categorical columns in order to deal with anomalies. And we also deal with null values."
   ],
   "metadata": {
    "collapsed": false,
    "pycharm": {
     "name": "#%% md\n"
    }
   }
  },
  {
   "cell_type": "code",
   "execution_count": 65,
   "outputs": [
    {
     "data": {
      "text/plain": "True     184208\nFalse     13417\nName: ActiveScheduleFirstPaymentReached, dtype: int64"
     },
     "execution_count": 65,
     "metadata": {},
     "output_type": "execute_result"
    }
   ],
   "source": [
    "data.ActiveScheduleFirstPaymentReached.value_counts(dropna=False)"
   ],
   "metadata": {
    "collapsed": false,
    "pycharm": {
     "name": "#%%\n"
    }
   }
  },
  {
   "cell_type": "code",
   "execution_count": 66,
   "outputs": [
    {
     "data": {
      "text/plain": "                                     ReportAsOfEOD          ListedOnUTC  \\\nLoanId                                                                    \nFA160D69-2682-4A60-8D8E-9BB700EA30CE    2021-11-10  2009-02-21 14:12:39   \n8E929B92-7C99-421D-8499-9BB70125F390    2021-11-10  2009-02-21 17:50:14   \n33B3F669-D0E3-4474-8045-9BB70128D064    2021-11-10  2009-02-21 18:00:40   \n7074D9E8-E8F5-403B-8614-9BB701338AD4    2021-11-10  2009-02-21 18:39:43   \n39F2A312-CD6C-4F60-A7F6-9BB7014CE0A9    2021-11-10  2009-02-21 20:11:58   \n\n                                                                     PartyId  \\\nLoanId                                                                         \nFA160D69-2682-4A60-8D8E-9BB700EA30CE  {544DFBAC-374F-4039-AE45-9BB700E44853}   \n8E929B92-7C99-421D-8499-9BB70125F390  {B7FDCB11-4CE9-4CDE-993F-9BB70103B180}   \n33B3F669-D0E3-4474-8045-9BB70128D064  {E58803E6-77B6-40EB-83C4-9BB70118C245}   \n7074D9E8-E8F5-403B-8614-9BB701338AD4  {DE67C0EB-7534-47F2-87BD-9BB7011E112A}   \n39F2A312-CD6C-4F60-A7F6-9BB7014CE0A9  {C41C37A5-B2D7-4B5A-B2D2-9BB70149B419}   \n\n                                      NewCreditCustomer    LoanDate  \\\nLoanId                                                                \nFA160D69-2682-4A60-8D8E-9BB700EA30CE               True  2009-03-07   \n8E929B92-7C99-421D-8499-9BB70125F390               True  2009-03-03   \n33B3F669-D0E3-4474-8045-9BB70128D064               True  2009-02-28   \n7074D9E8-E8F5-403B-8614-9BB701338AD4               True  2009-03-03   \n39F2A312-CD6C-4F60-A7F6-9BB7014CE0A9               True  2009-03-07   \n\n                                     MaturityDate_Original MaturityDate_Last  \\\nLoanId                                                                         \nFA160D69-2682-4A60-8D8E-9BB700EA30CE            2009-09-10        2009-09-10   \n8E929B92-7C99-421D-8499-9BB70125F390            2011-03-14        2011-03-14   \n33B3F669-D0E3-4474-8045-9BB70128D064            2010-03-10        2010-03-10   \n7074D9E8-E8F5-403B-8614-9BB701338AD4            2011-04-01        2011-04-01   \n39F2A312-CD6C-4F60-A7F6-9BB7014CE0A9            2010-04-06        2010-04-06   \n\n                                      VerificationType  LanguageCode  Age  \\\nLoanId                                                                      \nFA160D69-2682-4A60-8D8E-9BB700EA30CE              2.00             1   21   \n8E929B92-7C99-421D-8499-9BB70125F390              2.00             1   19   \n33B3F669-D0E3-4474-8045-9BB70128D064              2.00             1   38   \n7074D9E8-E8F5-403B-8614-9BB701338AD4              2.00             1   55   \n39F2A312-CD6C-4F60-A7F6-9BB7014CE0A9              2.00             1   46   \n\n                                      Gender Country  AppliedAmount  Amount  \\\nLoanId                                                                        \nFA160D69-2682-4A60-8D8E-9BB700EA30CE    0.00      EE          63.91   63.91   \n8E929B92-7C99-421D-8499-9BB70125F390    1.00      EE         958.67   83.08   \n33B3F669-D0E3-4474-8045-9BB70128D064    0.00      EE         639.12  322.75   \n7074D9E8-E8F5-403B-8614-9BB701338AD4    1.00      EE         958.67  252.45   \n39F2A312-CD6C-4F60-A7F6-9BB7014CE0A9    1.00      EE         766.94   63.91   \n\n                                      Interest  LoanDuration  MonthlyPayment  \\\nLoanId                                                                         \nFA160D69-2682-4A60-8D8E-9BB700EA30CE     20.00             6             NaN   \n8E929B92-7C99-421D-8499-9BB70125F390     10.00            24             NaN   \n33B3F669-D0E3-4474-8045-9BB70128D064     25.00            12             NaN   \n7074D9E8-E8F5-403B-8614-9BB701338AD4     10.00            24             NaN   \n39F2A312-CD6C-4F60-A7F6-9BB7014CE0A9     20.00            12             NaN   \n\n                                      Education  \\\nLoanId                                            \nFA160D69-2682-4A60-8D8E-9BB700EA30CE       5.00   \n8E929B92-7C99-421D-8499-9BB70125F390       2.00   \n33B3F669-D0E3-4474-8045-9BB70128D064       4.00   \n7074D9E8-E8F5-403B-8614-9BB701338AD4       3.00   \n39F2A312-CD6C-4F60-A7F6-9BB7014CE0A9       5.00   \n\n                                     EmploymentDurationCurrentEmployer  \\\nLoanId                                                                   \nFA160D69-2682-4A60-8D8E-9BB700EA30CE                        UpTo2Years   \n8E929B92-7C99-421D-8499-9BB70125F390                         UpTo1Year   \n33B3F669-D0E3-4474-8045-9BB70128D064                        UpTo4Years   \n7074D9E8-E8F5-403B-8614-9BB701338AD4                    MoreThan5Years   \n39F2A312-CD6C-4F60-A7F6-9BB7014CE0A9                    MoreThan5Years   \n\n                                      HomeOwnershipType  IncomeTotal  \\\nLoanId                                                                 \nFA160D69-2682-4A60-8D8E-9BB700EA30CE                NaN     15500.00   \n8E929B92-7C99-421D-8499-9BB70125F390                NaN      4000.00   \n33B3F669-D0E3-4474-8045-9BB70128D064                NaN      9000.00   \n7074D9E8-E8F5-403B-8614-9BB701338AD4                NaN      6000.00   \n39F2A312-CD6C-4F60-A7F6-9BB7014CE0A9                NaN     10700.00   \n\n                                      ExistingLiabilities  LiabilitiesTotal  \\\nLoanId                                                                        \nFA160D69-2682-4A60-8D8E-9BB700EA30CE                    0              0.00   \n8E929B92-7C99-421D-8499-9BB70125F390                    0              0.00   \n33B3F669-D0E3-4474-8045-9BB70128D064                    0              0.00   \n7074D9E8-E8F5-403B-8614-9BB701338AD4                    0              0.00   \n39F2A312-CD6C-4F60-A7F6-9BB7014CE0A9                    0              0.00   \n\n                                     DefaultDate  PrincipalOverdueBySchedule  \\\nLoanId                                                                         \nFA160D69-2682-4A60-8D8E-9BB700EA30CE         NaN                         NaN   \n8E929B92-7C99-421D-8499-9BB70125F390         NaN                         NaN   \n33B3F669-D0E3-4474-8045-9BB70128D064         NaN                         NaN   \n7074D9E8-E8F5-403B-8614-9BB701338AD4         NaN                         NaN   \n39F2A312-CD6C-4F60-A7F6-9BB7014CE0A9  2010-05-04                         NaN   \n\n                                     Rating  Status  Restructured  \\\nLoanId                                                              \nFA160D69-2682-4A60-8D8E-9BB700EA30CE    NaN  Repaid         False   \n8E929B92-7C99-421D-8499-9BB70125F390    NaN  Repaid         False   \n33B3F669-D0E3-4474-8045-9BB70128D064    NaN  Repaid         False   \n7074D9E8-E8F5-403B-8614-9BB701338AD4    NaN  Repaid         False   \n39F2A312-CD6C-4F60-A7F6-9BB7014CE0A9    NaN  Repaid         False   \n\n                                     ActiveLateCategory WorseLateCategory  \\\nLoanId                                                                      \nFA160D69-2682-4A60-8D8E-9BB700EA30CE                NaN               NaN   \n8E929B92-7C99-421D-8499-9BB70125F390                NaN              180+   \n33B3F669-D0E3-4474-8045-9BB70128D064                NaN           151-180   \n7074D9E8-E8F5-403B-8614-9BB701338AD4                NaN           121-150   \n39F2A312-CD6C-4F60-A7F6-9BB7014CE0A9                NaN             61-90   \n\n                                     CreditScoreFiAsiakasTietoRiskGrade  \\\nLoanId                                                                    \nFA160D69-2682-4A60-8D8E-9BB700EA30CE                                NaN   \n8E929B92-7C99-421D-8499-9BB70125F390                                NaN   \n33B3F669-D0E3-4474-8045-9BB70128D064                                NaN   \n7074D9E8-E8F5-403B-8614-9BB701338AD4                                NaN   \n39F2A312-CD6C-4F60-A7F6-9BB7014CE0A9                                NaN   \n\n                                      CreditScoreEeMini  \\\nLoanId                                                    \nFA160D69-2682-4A60-8D8E-9BB700EA30CE                NaN   \n8E929B92-7C99-421D-8499-9BB70125F390                NaN   \n33B3F669-D0E3-4474-8045-9BB70128D064                NaN   \n7074D9E8-E8F5-403B-8614-9BB701338AD4                NaN   \n39F2A312-CD6C-4F60-A7F6-9BB7014CE0A9                NaN   \n\n                                      PrincipalPaymentsMade  \\\nLoanId                                                        \nFA160D69-2682-4A60-8D8E-9BB700EA30CE                  63.91   \n8E929B92-7C99-421D-8499-9BB70125F390                  83.08   \n33B3F669-D0E3-4474-8045-9BB70128D064                 322.75   \n7074D9E8-E8F5-403B-8614-9BB701338AD4                 252.45   \n39F2A312-CD6C-4F60-A7F6-9BB7014CE0A9                  63.91   \n\n                                      InterestAndPenaltyPaymentsMade  \\\nLoanId                                                                 \nFA160D69-2682-4A60-8D8E-9BB700EA30CE                            2.18   \n8E929B92-7C99-421D-8499-9BB70125F390                            9.20   \n33B3F669-D0E3-4474-8045-9BB70128D064                           44.56   \n7074D9E8-E8F5-403B-8614-9BB701338AD4                           29.08   \n39F2A312-CD6C-4F60-A7F6-9BB7014CE0A9                            8.65   \n\n                                      PrincipalBalance  \\\nLoanId                                                   \nFA160D69-2682-4A60-8D8E-9BB700EA30CE              0.00   \n8E929B92-7C99-421D-8499-9BB70125F390              0.00   \n33B3F669-D0E3-4474-8045-9BB70128D064              0.00   \n7074D9E8-E8F5-403B-8614-9BB701338AD4              0.00   \n39F2A312-CD6C-4F60-A7F6-9BB7014CE0A9              0.00   \n\n                                      InterestAndPenaltyBalance  \\\nLoanId                                                            \nFA160D69-2682-4A60-8D8E-9BB700EA30CE                       0.00   \n8E929B92-7C99-421D-8499-9BB70125F390                       0.00   \n33B3F669-D0E3-4474-8045-9BB70128D064                       0.00   \n7074D9E8-E8F5-403B-8614-9BB701338AD4                       0.00   \n39F2A312-CD6C-4F60-A7F6-9BB7014CE0A9                       0.00   \n\n                                      NoOfPreviousLoansBeforeLoan  \\\nLoanId                                                              \nFA160D69-2682-4A60-8D8E-9BB700EA30CE                         0.00   \n8E929B92-7C99-421D-8499-9BB70125F390                         0.00   \n33B3F669-D0E3-4474-8045-9BB70128D064                         0.00   \n7074D9E8-E8F5-403B-8614-9BB701338AD4                         0.00   \n39F2A312-CD6C-4F60-A7F6-9BB7014CE0A9                         0.00   \n\n                                      AmountOfPreviousLoansBeforeLoan  \\\nLoanId                                                                  \nFA160D69-2682-4A60-8D8E-9BB700EA30CE                             0.00   \n8E929B92-7C99-421D-8499-9BB70125F390                             0.00   \n33B3F669-D0E3-4474-8045-9BB70128D064                             0.00   \n7074D9E8-E8F5-403B-8614-9BB701338AD4                             0.00   \n39F2A312-CD6C-4F60-A7F6-9BB7014CE0A9                             0.00   \n\n                                      PreviousRepaymentsBeforeLoan  \\\nLoanId                                                               \nFA160D69-2682-4A60-8D8E-9BB700EA30CE                          0.00   \n8E929B92-7C99-421D-8499-9BB70125F390                          0.00   \n33B3F669-D0E3-4474-8045-9BB70128D064                          0.00   \n7074D9E8-E8F5-403B-8614-9BB701338AD4                          0.00   \n39F2A312-CD6C-4F60-A7F6-9BB7014CE0A9                          0.00   \n\n                                      PreviousEarlyRepaymentsBefoleLoan  \\\nLoanId                                                                    \nFA160D69-2682-4A60-8D8E-9BB700EA30CE                               0.00   \n8E929B92-7C99-421D-8499-9BB70125F390                               0.00   \n33B3F669-D0E3-4474-8045-9BB70128D064                               0.00   \n7074D9E8-E8F5-403B-8614-9BB701338AD4                               0.00   \n39F2A312-CD6C-4F60-A7F6-9BB7014CE0A9                               0.00   \n\n                                      PreviousEarlyRepaymentsCountBeforeLoan  \\\nLoanId                                                                         \nFA160D69-2682-4A60-8D8E-9BB700EA30CE                                    0.00   \n8E929B92-7C99-421D-8499-9BB70125F390                                    0.00   \n33B3F669-D0E3-4474-8045-9BB70128D064                                    0.00   \n7074D9E8-E8F5-403B-8614-9BB701338AD4                                    0.00   \n39F2A312-CD6C-4F60-A7F6-9BB7014CE0A9                                    0.00   \n\n                                     GracePeriodStart GracePeriodEnd  \\\nLoanId                                                                 \nFA160D69-2682-4A60-8D8E-9BB700EA30CE              NaN            NaN   \n8E929B92-7C99-421D-8499-9BB70125F390              NaN            NaN   \n33B3F669-D0E3-4474-8045-9BB70128D064              NaN            NaN   \n7074D9E8-E8F5-403B-8614-9BB701338AD4              NaN            NaN   \n39F2A312-CD6C-4F60-A7F6-9BB7014CE0A9              NaN            NaN   \n\n                                     NextPaymentDate  NrOfScheduledPayments  \\\nLoanId                                                                        \nFA160D69-2682-4A60-8D8E-9BB700EA30CE             NaN                    NaN   \n8E929B92-7C99-421D-8499-9BB70125F390             NaN                    NaN   \n33B3F669-D0E3-4474-8045-9BB70128D064             NaN                    NaN   \n7074D9E8-E8F5-403B-8614-9BB701338AD4             NaN                    NaN   \n39F2A312-CD6C-4F60-A7F6-9BB7014CE0A9             NaN                    NaN   \n\n                                     ActiveLateLastPaymentCategory  \nLoanId                                                              \nFA160D69-2682-4A60-8D8E-9BB700EA30CE                           NaN  \n8E929B92-7C99-421D-8499-9BB70125F390                           NaN  \n33B3F669-D0E3-4474-8045-9BB70128D064                           NaN  \n7074D9E8-E8F5-403B-8614-9BB701338AD4                           NaN  \n39F2A312-CD6C-4F60-A7F6-9BB7014CE0A9                           NaN  ",
      "text/html": "<div>\n<style scoped>\n    .dataframe tbody tr th:only-of-type {\n        vertical-align: middle;\n    }\n\n    .dataframe tbody tr th {\n        vertical-align: top;\n    }\n\n    .dataframe thead th {\n        text-align: right;\n    }\n</style>\n<table border=\"1\" class=\"dataframe\">\n  <thead>\n    <tr style=\"text-align: right;\">\n      <th></th>\n      <th>ReportAsOfEOD</th>\n      <th>ListedOnUTC</th>\n      <th>PartyId</th>\n      <th>NewCreditCustomer</th>\n      <th>LoanDate</th>\n      <th>MaturityDate_Original</th>\n      <th>MaturityDate_Last</th>\n      <th>VerificationType</th>\n      <th>LanguageCode</th>\n      <th>Age</th>\n      <th>Gender</th>\n      <th>Country</th>\n      <th>AppliedAmount</th>\n      <th>Amount</th>\n      <th>Interest</th>\n      <th>LoanDuration</th>\n      <th>MonthlyPayment</th>\n      <th>Education</th>\n      <th>EmploymentDurationCurrentEmployer</th>\n      <th>HomeOwnershipType</th>\n      <th>IncomeTotal</th>\n      <th>ExistingLiabilities</th>\n      <th>LiabilitiesTotal</th>\n      <th>DefaultDate</th>\n      <th>PrincipalOverdueBySchedule</th>\n      <th>Rating</th>\n      <th>Status</th>\n      <th>Restructured</th>\n      <th>ActiveLateCategory</th>\n      <th>WorseLateCategory</th>\n      <th>CreditScoreFiAsiakasTietoRiskGrade</th>\n      <th>CreditScoreEeMini</th>\n      <th>PrincipalPaymentsMade</th>\n      <th>InterestAndPenaltyPaymentsMade</th>\n      <th>PrincipalBalance</th>\n      <th>InterestAndPenaltyBalance</th>\n      <th>NoOfPreviousLoansBeforeLoan</th>\n      <th>AmountOfPreviousLoansBeforeLoan</th>\n      <th>PreviousRepaymentsBeforeLoan</th>\n      <th>PreviousEarlyRepaymentsBefoleLoan</th>\n      <th>PreviousEarlyRepaymentsCountBeforeLoan</th>\n      <th>GracePeriodStart</th>\n      <th>GracePeriodEnd</th>\n      <th>NextPaymentDate</th>\n      <th>NrOfScheduledPayments</th>\n      <th>ActiveLateLastPaymentCategory</th>\n    </tr>\n    <tr>\n      <th>LoanId</th>\n      <th></th>\n      <th></th>\n      <th></th>\n      <th></th>\n      <th></th>\n      <th></th>\n      <th></th>\n      <th></th>\n      <th></th>\n      <th></th>\n      <th></th>\n      <th></th>\n      <th></th>\n      <th></th>\n      <th></th>\n      <th></th>\n      <th></th>\n      <th></th>\n      <th></th>\n      <th></th>\n      <th></th>\n      <th></th>\n      <th></th>\n      <th></th>\n      <th></th>\n      <th></th>\n      <th></th>\n      <th></th>\n      <th></th>\n      <th></th>\n      <th></th>\n      <th></th>\n      <th></th>\n      <th></th>\n      <th></th>\n      <th></th>\n      <th></th>\n      <th></th>\n      <th></th>\n      <th></th>\n      <th></th>\n      <th></th>\n      <th></th>\n      <th></th>\n      <th></th>\n      <th></th>\n    </tr>\n  </thead>\n  <tbody>\n    <tr>\n      <th>FA160D69-2682-4A60-8D8E-9BB700EA30CE</th>\n      <td>2021-11-10</td>\n      <td>2009-02-21 14:12:39</td>\n      <td>{544DFBAC-374F-4039-AE45-9BB700E44853}</td>\n      <td>True</td>\n      <td>2009-03-07</td>\n      <td>2009-09-10</td>\n      <td>2009-09-10</td>\n      <td>2.00</td>\n      <td>1</td>\n      <td>21</td>\n      <td>0.00</td>\n      <td>EE</td>\n      <td>63.91</td>\n      <td>63.91</td>\n      <td>20.00</td>\n      <td>6</td>\n      <td>NaN</td>\n      <td>5.00</td>\n      <td>UpTo2Years</td>\n      <td>NaN</td>\n      <td>15500.00</td>\n      <td>0</td>\n      <td>0.00</td>\n      <td>NaN</td>\n      <td>NaN</td>\n      <td>NaN</td>\n      <td>Repaid</td>\n      <td>False</td>\n      <td>NaN</td>\n      <td>NaN</td>\n      <td>NaN</td>\n      <td>NaN</td>\n      <td>63.91</td>\n      <td>2.18</td>\n      <td>0.00</td>\n      <td>0.00</td>\n      <td>0.00</td>\n      <td>0.00</td>\n      <td>0.00</td>\n      <td>0.00</td>\n      <td>0.00</td>\n      <td>NaN</td>\n      <td>NaN</td>\n      <td>NaN</td>\n      <td>NaN</td>\n      <td>NaN</td>\n    </tr>\n    <tr>\n      <th>8E929B92-7C99-421D-8499-9BB70125F390</th>\n      <td>2021-11-10</td>\n      <td>2009-02-21 17:50:14</td>\n      <td>{B7FDCB11-4CE9-4CDE-993F-9BB70103B180}</td>\n      <td>True</td>\n      <td>2009-03-03</td>\n      <td>2011-03-14</td>\n      <td>2011-03-14</td>\n      <td>2.00</td>\n      <td>1</td>\n      <td>19</td>\n      <td>1.00</td>\n      <td>EE</td>\n      <td>958.67</td>\n      <td>83.08</td>\n      <td>10.00</td>\n      <td>24</td>\n      <td>NaN</td>\n      <td>2.00</td>\n      <td>UpTo1Year</td>\n      <td>NaN</td>\n      <td>4000.00</td>\n      <td>0</td>\n      <td>0.00</td>\n      <td>NaN</td>\n      <td>NaN</td>\n      <td>NaN</td>\n      <td>Repaid</td>\n      <td>False</td>\n      <td>NaN</td>\n      <td>180+</td>\n      <td>NaN</td>\n      <td>NaN</td>\n      <td>83.08</td>\n      <td>9.20</td>\n      <td>0.00</td>\n      <td>0.00</td>\n      <td>0.00</td>\n      <td>0.00</td>\n      <td>0.00</td>\n      <td>0.00</td>\n      <td>0.00</td>\n      <td>NaN</td>\n      <td>NaN</td>\n      <td>NaN</td>\n      <td>NaN</td>\n      <td>NaN</td>\n    </tr>\n    <tr>\n      <th>33B3F669-D0E3-4474-8045-9BB70128D064</th>\n      <td>2021-11-10</td>\n      <td>2009-02-21 18:00:40</td>\n      <td>{E58803E6-77B6-40EB-83C4-9BB70118C245}</td>\n      <td>True</td>\n      <td>2009-02-28</td>\n      <td>2010-03-10</td>\n      <td>2010-03-10</td>\n      <td>2.00</td>\n      <td>1</td>\n      <td>38</td>\n      <td>0.00</td>\n      <td>EE</td>\n      <td>639.12</td>\n      <td>322.75</td>\n      <td>25.00</td>\n      <td>12</td>\n      <td>NaN</td>\n      <td>4.00</td>\n      <td>UpTo4Years</td>\n      <td>NaN</td>\n      <td>9000.00</td>\n      <td>0</td>\n      <td>0.00</td>\n      <td>NaN</td>\n      <td>NaN</td>\n      <td>NaN</td>\n      <td>Repaid</td>\n      <td>False</td>\n      <td>NaN</td>\n      <td>151-180</td>\n      <td>NaN</td>\n      <td>NaN</td>\n      <td>322.75</td>\n      <td>44.56</td>\n      <td>0.00</td>\n      <td>0.00</td>\n      <td>0.00</td>\n      <td>0.00</td>\n      <td>0.00</td>\n      <td>0.00</td>\n      <td>0.00</td>\n      <td>NaN</td>\n      <td>NaN</td>\n      <td>NaN</td>\n      <td>NaN</td>\n      <td>NaN</td>\n    </tr>\n    <tr>\n      <th>7074D9E8-E8F5-403B-8614-9BB701338AD4</th>\n      <td>2021-11-10</td>\n      <td>2009-02-21 18:39:43</td>\n      <td>{DE67C0EB-7534-47F2-87BD-9BB7011E112A}</td>\n      <td>True</td>\n      <td>2009-03-03</td>\n      <td>2011-04-01</td>\n      <td>2011-04-01</td>\n      <td>2.00</td>\n      <td>1</td>\n      <td>55</td>\n      <td>1.00</td>\n      <td>EE</td>\n      <td>958.67</td>\n      <td>252.45</td>\n      <td>10.00</td>\n      <td>24</td>\n      <td>NaN</td>\n      <td>3.00</td>\n      <td>MoreThan5Years</td>\n      <td>NaN</td>\n      <td>6000.00</td>\n      <td>0</td>\n      <td>0.00</td>\n      <td>NaN</td>\n      <td>NaN</td>\n      <td>NaN</td>\n      <td>Repaid</td>\n      <td>False</td>\n      <td>NaN</td>\n      <td>121-150</td>\n      <td>NaN</td>\n      <td>NaN</td>\n      <td>252.45</td>\n      <td>29.08</td>\n      <td>0.00</td>\n      <td>0.00</td>\n      <td>0.00</td>\n      <td>0.00</td>\n      <td>0.00</td>\n      <td>0.00</td>\n      <td>0.00</td>\n      <td>NaN</td>\n      <td>NaN</td>\n      <td>NaN</td>\n      <td>NaN</td>\n      <td>NaN</td>\n    </tr>\n    <tr>\n      <th>39F2A312-CD6C-4F60-A7F6-9BB7014CE0A9</th>\n      <td>2021-11-10</td>\n      <td>2009-02-21 20:11:58</td>\n      <td>{C41C37A5-B2D7-4B5A-B2D2-9BB70149B419}</td>\n      <td>True</td>\n      <td>2009-03-07</td>\n      <td>2010-04-06</td>\n      <td>2010-04-06</td>\n      <td>2.00</td>\n      <td>1</td>\n      <td>46</td>\n      <td>1.00</td>\n      <td>EE</td>\n      <td>766.94</td>\n      <td>63.91</td>\n      <td>20.00</td>\n      <td>12</td>\n      <td>NaN</td>\n      <td>5.00</td>\n      <td>MoreThan5Years</td>\n      <td>NaN</td>\n      <td>10700.00</td>\n      <td>0</td>\n      <td>0.00</td>\n      <td>2010-05-04</td>\n      <td>NaN</td>\n      <td>NaN</td>\n      <td>Repaid</td>\n      <td>False</td>\n      <td>NaN</td>\n      <td>61-90</td>\n      <td>NaN</td>\n      <td>NaN</td>\n      <td>63.91</td>\n      <td>8.65</td>\n      <td>0.00</td>\n      <td>0.00</td>\n      <td>0.00</td>\n      <td>0.00</td>\n      <td>0.00</td>\n      <td>0.00</td>\n      <td>0.00</td>\n      <td>NaN</td>\n      <td>NaN</td>\n      <td>NaN</td>\n      <td>NaN</td>\n      <td>NaN</td>\n    </tr>\n  </tbody>\n</table>\n</div>"
     },
     "execution_count": 66,
     "metadata": {},
     "output_type": "execute_result"
    }
   ],
   "source": [
    "df.head(5)"
   ],
   "metadata": {
    "collapsed": false,
    "pycharm": {
     "name": "#%%\n"
    }
   }
  },
  {
   "cell_type": "code",
   "execution_count": 67,
   "outputs": [],
   "source": [
    "# Parse date columns into date format.\n",
    "date_columns = ['LoanDate', 'MaturityDate_Original', 'MaturityDate_Last', 'ReportAsOfEOD']\n",
    "df[date_columns] = df[date_columns].apply(pd.to_datetime, format='%Y-%m-%d', errors='coerce')\n",
    "\n",
    "# Do not include loans that are currently active, and have not been restructured (the original maturity date of the loan has not increased by at least 60 days).\n",
    "df = df.loc[~((df.Status == 'Current') & (df.Restructured == 0))]\n",
    "\n",
    "# Some loans have been repaid just days after signing a contract so they should be filtered out.\n",
    "df = df.loc[~(((df.MaturityDate_Last - df.LoanDate) < pd.to_timedelta(\"180days\")) & (df.Status == 'Repaid'))]\n",
    "\n",
    "# Remove the most recent loans because most of them seem to be with the status \"Late\".\n",
    "df = df.loc[(df.LoanDate < (df.ReportAsOfEOD - pd.to_timedelta(\"60days\")))]"
   ],
   "metadata": {
    "collapsed": false,
    "pycharm": {
     "name": "#%%\n"
    }
   }
  },
  {
   "cell_type": "code",
   "execution_count": 68,
   "outputs": [],
   "source": [
    "# Filters regarding numerical values.\n",
    "\n",
    "# Age must be between 18 and 70.\n",
    "df = df.loc[(df.Age >= 18) & (df.Age <= 70)]\n",
    "\n",
    "# Monthly payment must be over 0.\n",
    "df = df.loc[(df.MonthlyPayment > 0)]"
   ],
   "metadata": {
    "collapsed": false,
    "pycharm": {
     "name": "#%%\n"
    }
   }
  },
  {
   "cell_type": "code",
   "execution_count": 69,
   "outputs": [],
   "source": [
    "# Filters regarding categorical values.\n",
    "\n",
    "# Select allowed loan durations. This dataset contains various contract lengths, but we are interested in the most common ones. Values represent loan duration in months.\n",
    "df.LoanDuration = df.LoanDuration.astype('category')\n",
    "df = df.loc[(df.LoanDuration.isin([60, 48, 36, 30, 24, 18, 12, 9, 6]))]\n",
    "\n",
    "# We only want loans from EE.\n",
    "df = df.loc[(df.Country.isin(['EE']))]\n",
    "\n",
    "# The main verification types.\n",
    "df.VerificationType = df.VerificationType.astype('category')\n",
    "df = df.loc[(df.VerificationType.isin([1, 2, 3, 4]))]\n",
    "\n",
    "# Gender is either male of female.\n",
    "df.Gender = df.Gender.astype('category')\n",
    "df = df.loc[(df.Gender.isin([0, 1]))]\n",
    "\n",
    "# Select allowed education levels.\n",
    "df.Education = df.Education.astype('category')\n",
    "df = df.loc[(df.Education.isin([1, 2, 3, 4, 5]))]\n",
    "\n",
    "# Select allowed employment durations.\n",
    "df = df.loc[(df.EmploymentDurationCurrentEmployer.isin(['MoreThan5Years', 'UpTo5Years', 'UpTo4Years', 'UpTo3Years', 'UpTo2Years', 'UpTo1Year', 'TrialPeriod', 'Retiree', 'Other']))]\n",
    "\n",
    "# Select allowed home ownership types.\n",
    "df.HomeOwnershipType = df.HomeOwnershipType.astype('category')\n",
    "df = df.loc[(df.HomeOwnershipType.isin([1, 2, 3, 4, 5, 6, 7, 8, 9, 10]))]\n",
    "\n",
    "# Select allowed ratings.\n",
    "df = df.loc[(df.Rating.isin(['AA', 'A', 'B', 'C', 'D', 'E', 'F', 'HR']))]\n",
    "\n",
    "# Select allowed credit score levels.\n",
    "df.CreditScoreEeMini = df.CreditScoreEeMini.astype('category')\n",
    "df = df.loc[(df.CreditScoreEeMini.isin([1000, 900, 800, 700, 600, 500]))]"
   ],
   "metadata": {
    "collapsed": false,
    "pycharm": {
     "name": "#%%\n"
    }
   }
  },
  {
   "cell_type": "code",
   "execution_count": 70,
   "outputs": [],
   "source": [
    "# Dealing with null values\n",
    "\n",
    "df.PreviousRepaymentsBeforeLoan = df.PreviousRepaymentsBeforeLoan.fillna(0)\n",
    "\n",
    "df.PreviousEarlyRepaymentsBefoleLoan = df.PreviousEarlyRepaymentsBefoleLoan.fillna(0)"
   ],
   "metadata": {
    "collapsed": false,
    "pycharm": {
     "name": "#%%\n"
    }
   }
  },
  {
   "cell_type": "code",
   "execution_count": 71,
   "outputs": [
    {
     "name": "stdout",
     "output_type": "stream",
     "text": [
      "DataFrame shape after cleaning: (82291, 46)\n"
     ]
    }
   ],
   "source": [
    "print(f\"DataFrame shape after cleaning: {df.shape}\")"
   ],
   "metadata": {
    "collapsed": false,
    "pycharm": {
     "name": "#%%\n"
    }
   }
  },
  {
   "cell_type": "markdown",
   "source": [
    "We can see that the dataset is contains alot less rows and columns after processing it."
   ],
   "metadata": {
    "collapsed": false
   }
  },
  {
   "cell_type": "markdown",
   "source": [
    "## Feature engineering\n",
    "\n",
    "TODO"
   ],
   "metadata": {
    "collapsed": false
   }
  },
  {
   "cell_type": "markdown",
   "source": [
    "## Constructing the target variable\n",
    "\n",
    "We construct a target variable called \"PreferLoan\" which is a boolean value. As stated before, loans with previous issues are not to be preferred and are assigned the value \"0\". Loans without issues are assigned the value \"1\". However there is a small exception. If the the worst late category is 16-30 days or less and the loan has not had any other issues then the loan is also preferred."
   ],
   "metadata": {
    "collapsed": false
   }
  },
  {
   "cell_type": "code",
   "execution_count": 72,
   "outputs": [],
   "source": [
    "# Constructing the target value.\n",
    "\n",
    "# Loan status must be 'Repaid'.\n",
    "# WorseLateCategory must not be higher than 16-30 (can be null).\n",
    "# Loan must be repaid before or on the original maturity date.\n",
    "# Loan must not be restructured.\n",
    "# Loan must not be defaulted.\n",
    "\n",
    "# Set the default value for all loans to be 0.\n",
    "df[\"PreferLoan\"] = 0\n",
    "\n",
    "# Select preferred loans and set their value to 1.\n",
    "df.loc[(\n",
    "               (df.Status == 'Repaid') &\n",
    "               (df.WorseLateCategory.isin([np.nan, '1-7', '8-15', '16-30'])) &\n",
    "               (df.MaturityDate_Last <= df.MaturityDate_Original) &\n",
    "               (df.Restructured != 1) &\n",
    "               (df.DefaultDate.isnull())\n",
    "       ), 'PreferLoan'] = 1"
   ],
   "metadata": {
    "collapsed": false,
    "pycharm": {
     "name": "#%%\n"
    }
   }
  },
  {
   "cell_type": "markdown",
   "source": [
    "## Next steps\n",
    "We have successfully cleaned and processed the dataset.It can be used in the next steps which are modelling and validating the model."
   ],
   "metadata": {
    "collapsed": false
   }
  },
  {
   "cell_type": "code",
   "execution_count": 76,
   "outputs": [],
   "source": [
    "df.to_csv('data/processed.csv', index=True)"
   ],
   "metadata": {
    "collapsed": false,
    "pycharm": {
     "name": "#%%\n"
    }
   }
  }
 ],
 "metadata": {
  "kernelspec": {
   "display_name": "Python 3 (ipykernel)",
   "language": "python",
   "name": "python3"
  },
  "language_info": {
   "codemirror_mode": {
    "name": "ipython",
    "version": 3
   },
   "file_extension": ".py",
   "mimetype": "text/x-python",
   "name": "python",
   "nbconvert_exporter": "python",
   "pygments_lexer": "ipython3",
   "version": "3.9.5"
  }
 },
 "nbformat": 4,
 "nbformat_minor": 1
}