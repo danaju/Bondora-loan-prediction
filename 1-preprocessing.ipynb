{
 "cells": [
  {
   "cell_type": "markdown",
   "source": [
    "# 1. Data preprocessing\n",
    "\n",
    "The goal of this worksheet is to fully process the dataset so that the data can be used for training the classification models and later validating the same models.\n"
   ],
   "metadata": {
    "collapsed": false
   }
  },
  {
   "cell_type": "code",
   "execution_count": 1,
   "outputs": [],
   "source": [
    "import pandas as pd\n",
    "import numpy as np"
   ],
   "metadata": {
    "collapsed": false,
    "pycharm": {
     "name": "#%%\n"
    }
   }
  },
  {
   "cell_type": "markdown",
   "source": [
    "## Obtaining the data\n",
    "\n",
    "The dataset is quite large so it should be only downloaded once. However if you plan to work on it continuously then consider re-downloading it once per month as Bondora adds more loans and some of the older loans are updated. After downloading the file is extracted and loaded into a DataFrame. The data is also sorted in chronological order."
   ],
   "metadata": {
    "collapsed": false
   }
  },
  {
   "cell_type": "code",
   "execution_count": 2,
   "outputs": [],
   "source": [
    "def download():\n",
    "\n",
    "    import zipfile\n",
    "    from requests import get\n",
    "    url = \"https://bondora.com/marketing/media/LoanData.zip\"\n",
    "\n",
    "    with open(\"/data/Data.zip\", \"wb\") as file:\n",
    "        response = get(url)\n",
    "        file.write(response.content)\n",
    "\n",
    "    with zipfile.ZipFile(\"/data/Data.zip\",\"r\") as zip_ref:\n",
    "        zip_ref.extractall(\"data/\")\n",
    "\n",
    "#download()"
   ],
   "metadata": {
    "collapsed": false,
    "pycharm": {
     "name": "#%%\n"
    }
   }
  },
  {
   "cell_type": "code",
   "execution_count": null,
   "outputs": [],
   "source": [
    "data = pd.read_csv(\"data/LoanData.csv\")\n",
    "data = data.sort_values(by=['ListedOnUTC'])"
   ],
   "metadata": {
    "collapsed": false,
    "pycharm": {
     "name": "#%%\n",
     "is_executing": true
    }
   }
  },
  {
   "cell_type": "markdown",
   "source": [
    "## Inspecting the data\n",
    "\n",
    "We can see that the dataset contains over 200000 loans and has 112 different columns. The earliest loans are from 2009, which means that the dataset contains over 10 years of loan data."
   ],
   "metadata": {
    "collapsed": false
   }
  },
  {
   "cell_type": "code",
   "execution_count": 4,
   "outputs": [
    {
     "name": "stdout",
     "output_type": "stream",
     "text": [
      "DataFrame shape: (203309, 112)\n"
     ]
    }
   ],
   "source": [
    "print(f\"DataFrame shape: {data.shape}\")"
   ],
   "metadata": {
    "collapsed": false,
    "pycharm": {
     "name": "#%%\n"
    }
   }
  },
  {
   "cell_type": "code",
   "source": [
    "data.head(5)"
   ],
   "metadata": {
    "collapsed": false,
    "pycharm": {
     "name": "#%%\n"
    }
   },
   "execution_count": 5,
   "outputs": [
    {
     "data": {
      "text/plain": "    ReportAsOfEOD                                LoanId  LoanNumber  \\\n957    2021-12-04  FA160D69-2682-4A60-8D8E-9BB700EA30CE          37   \n958    2021-12-04  8E929B92-7C99-421D-8499-9BB70125F390          42   \n959    2021-12-04  33B3F669-D0E3-4474-8045-9BB70128D064          43   \n960    2021-12-04  7074D9E8-E8F5-403B-8614-9BB701338AD4          44   \n961    2021-12-04  39F2A312-CD6C-4F60-A7F6-9BB7014CE0A9          45   \n\n             ListedOnUTC     BiddingStartedOn  BidsPortfolioManager  BidsApi  \\\n957  2009-02-21 14:12:39  2009-02-21 14:12:39                     0      0.0   \n958  2009-02-21 17:50:14  2009-02-21 17:50:14                     0      0.0   \n959  2009-02-21 18:00:40  2009-02-21 18:00:40                     0      0.0   \n960  2009-02-21 18:39:43  2009-02-21 18:39:43                     0      0.0   \n961  2009-02-21 20:11:58  2009-02-21 20:11:58                     0      0.0   \n\n     BidsManual                                 PartyId  NewCreditCustomer  \\\n957     63.9118  {544DFBAC-374F-4039-AE45-9BB700E44853}               True   \n958     83.0851  {B7FDCB11-4CE9-4CDE-993F-9BB70103B180}               True   \n959    322.7539  {E58803E6-77B6-40EB-83C4-9BB70118C245}               True   \n960    252.4510  {DE67C0EB-7534-47F2-87BD-9BB7011E112A}               True   \n961     63.9116  {C41C37A5-B2D7-4B5A-B2D2-9BB70149B419}               True   \n\n     ... PreviousEarlyRepaymentsCountBeforeLoan GracePeriodStart  \\\n957  ...                                    0.0              NaN   \n958  ...                                    0.0              NaN   \n959  ...                                    0.0              NaN   \n960  ...                                    0.0              NaN   \n961  ...                                    0.0              NaN   \n\n    GracePeriodEnd NextPaymentDate NextPaymentNr NrOfScheduledPayments  \\\n957            NaN             NaN           NaN                   NaN   \n958            NaN             NaN           NaN                   NaN   \n959            NaN             NaN           NaN                   NaN   \n960            NaN             NaN           NaN                   NaN   \n961            NaN             NaN           NaN                   NaN   \n\n     ReScheduledOn  PrincipalDebtServicingCost  \\\n957            NaN                         0.0   \n958            NaN                         0.0   \n959            NaN                         0.0   \n960            NaN                         0.0   \n961            NaN                         0.0   \n\n     InterestAndPenaltyDebtServicingCost  ActiveLateLastPaymentCategory  \n957                                  0.0                            NaN  \n958                                  0.0                            NaN  \n959                                  0.0                            NaN  \n960                                  0.0                            NaN  \n961                                  0.0                            NaN  \n\n[5 rows x 112 columns]",
      "text/html": "<div>\n<style scoped>\n    .dataframe tbody tr th:only-of-type {\n        vertical-align: middle;\n    }\n\n    .dataframe tbody tr th {\n        vertical-align: top;\n    }\n\n    .dataframe thead th {\n        text-align: right;\n    }\n</style>\n<table border=\"1\" class=\"dataframe\">\n  <thead>\n    <tr style=\"text-align: right;\">\n      <th></th>\n      <th>ReportAsOfEOD</th>\n      <th>LoanId</th>\n      <th>LoanNumber</th>\n      <th>ListedOnUTC</th>\n      <th>BiddingStartedOn</th>\n      <th>BidsPortfolioManager</th>\n      <th>BidsApi</th>\n      <th>BidsManual</th>\n      <th>PartyId</th>\n      <th>NewCreditCustomer</th>\n      <th>...</th>\n      <th>PreviousEarlyRepaymentsCountBeforeLoan</th>\n      <th>GracePeriodStart</th>\n      <th>GracePeriodEnd</th>\n      <th>NextPaymentDate</th>\n      <th>NextPaymentNr</th>\n      <th>NrOfScheduledPayments</th>\n      <th>ReScheduledOn</th>\n      <th>PrincipalDebtServicingCost</th>\n      <th>InterestAndPenaltyDebtServicingCost</th>\n      <th>ActiveLateLastPaymentCategory</th>\n    </tr>\n  </thead>\n  <tbody>\n    <tr>\n      <th>957</th>\n      <td>2021-12-04</td>\n      <td>FA160D69-2682-4A60-8D8E-9BB700EA30CE</td>\n      <td>37</td>\n      <td>2009-02-21 14:12:39</td>\n      <td>2009-02-21 14:12:39</td>\n      <td>0</td>\n      <td>0.0</td>\n      <td>63.9118</td>\n      <td>{544DFBAC-374F-4039-AE45-9BB700E44853}</td>\n      <td>True</td>\n      <td>...</td>\n      <td>0.0</td>\n      <td>NaN</td>\n      <td>NaN</td>\n      <td>NaN</td>\n      <td>NaN</td>\n      <td>NaN</td>\n      <td>NaN</td>\n      <td>0.0</td>\n      <td>0.0</td>\n      <td>NaN</td>\n    </tr>\n    <tr>\n      <th>958</th>\n      <td>2021-12-04</td>\n      <td>8E929B92-7C99-421D-8499-9BB70125F390</td>\n      <td>42</td>\n      <td>2009-02-21 17:50:14</td>\n      <td>2009-02-21 17:50:14</td>\n      <td>0</td>\n      <td>0.0</td>\n      <td>83.0851</td>\n      <td>{B7FDCB11-4CE9-4CDE-993F-9BB70103B180}</td>\n      <td>True</td>\n      <td>...</td>\n      <td>0.0</td>\n      <td>NaN</td>\n      <td>NaN</td>\n      <td>NaN</td>\n      <td>NaN</td>\n      <td>NaN</td>\n      <td>NaN</td>\n      <td>0.0</td>\n      <td>0.0</td>\n      <td>NaN</td>\n    </tr>\n    <tr>\n      <th>959</th>\n      <td>2021-12-04</td>\n      <td>33B3F669-D0E3-4474-8045-9BB70128D064</td>\n      <td>43</td>\n      <td>2009-02-21 18:00:40</td>\n      <td>2009-02-21 18:00:40</td>\n      <td>0</td>\n      <td>0.0</td>\n      <td>322.7539</td>\n      <td>{E58803E6-77B6-40EB-83C4-9BB70118C245}</td>\n      <td>True</td>\n      <td>...</td>\n      <td>0.0</td>\n      <td>NaN</td>\n      <td>NaN</td>\n      <td>NaN</td>\n      <td>NaN</td>\n      <td>NaN</td>\n      <td>NaN</td>\n      <td>0.0</td>\n      <td>0.0</td>\n      <td>NaN</td>\n    </tr>\n    <tr>\n      <th>960</th>\n      <td>2021-12-04</td>\n      <td>7074D9E8-E8F5-403B-8614-9BB701338AD4</td>\n      <td>44</td>\n      <td>2009-02-21 18:39:43</td>\n      <td>2009-02-21 18:39:43</td>\n      <td>0</td>\n      <td>0.0</td>\n      <td>252.4510</td>\n      <td>{DE67C0EB-7534-47F2-87BD-9BB7011E112A}</td>\n      <td>True</td>\n      <td>...</td>\n      <td>0.0</td>\n      <td>NaN</td>\n      <td>NaN</td>\n      <td>NaN</td>\n      <td>NaN</td>\n      <td>NaN</td>\n      <td>NaN</td>\n      <td>0.0</td>\n      <td>0.0</td>\n      <td>NaN</td>\n    </tr>\n    <tr>\n      <th>961</th>\n      <td>2021-12-04</td>\n      <td>39F2A312-CD6C-4F60-A7F6-9BB7014CE0A9</td>\n      <td>45</td>\n      <td>2009-02-21 20:11:58</td>\n      <td>2009-02-21 20:11:58</td>\n      <td>0</td>\n      <td>0.0</td>\n      <td>63.9116</td>\n      <td>{C41C37A5-B2D7-4B5A-B2D2-9BB70149B419}</td>\n      <td>True</td>\n      <td>...</td>\n      <td>0.0</td>\n      <td>NaN</td>\n      <td>NaN</td>\n      <td>NaN</td>\n      <td>NaN</td>\n      <td>NaN</td>\n      <td>NaN</td>\n      <td>0.0</td>\n      <td>0.0</td>\n      <td>NaN</td>\n    </tr>\n  </tbody>\n</table>\n<p>5 rows × 112 columns</p>\n</div>"
     },
     "execution_count": 5,
     "metadata": {},
     "output_type": "execute_result"
    }
   ]
  },
  {
   "cell_type": "code",
   "execution_count": 6,
   "outputs": [
    {
     "data": {
      "text/plain": "       ReportAsOfEOD                                LoanId  LoanNumber  \\\n202796    2021-12-04  8C4FEB27-F63A-48BA-BE14-ADF3017C648E     2481799   \n202797    2021-12-04  9A55E826-3AE5-4582-AD64-ADF3017ED09D     2481809   \n202798    2021-12-04  1D100D56-5794-46CC-B183-ADF30180BEAB     2481812   \n202799    2021-12-04  25A7EFCB-28CB-42AB-8F5A-ADF3018616C1     2481820   \n202800    2021-12-04  9438AE04-6F2B-479C-A65E-ADF400000BDB     2481832   \n\n                ListedOnUTC     BiddingStartedOn  BidsPortfolioManager  \\\n202796  2021-12-03 21:11:47  2021-12-03 23:11:47                     0   \n202797  2021-12-03 21:27:05  2021-12-03 23:27:05                    14   \n202798  2021-12-03 21:41:08  2021-12-03 23:41:08                     0   \n202799  2021-12-03 21:43:19  2021-12-03 23:43:19                   221   \n202800  2021-12-03 22:12:25  2021-12-04 00:12:25                     6   \n\n        BidsApi  BidsManual                                 PartyId  \\\n202796      0.0        77.0  {A1FEFD8E-01F6-4CBB-BCC6-ADF3017C648E}   \n202797      2.0        25.0  {CA7E70D1-2F4C-4C5F-9458-A776014EB04A}   \n202798      0.0        38.0  {8F91288E-E13F-4D14-AF46-ADF30180BEAB}   \n202799      1.0        73.0  {ED6B43EA-63D1-4A87-BE1D-AB6200872561}   \n202800      0.0       145.0  {C989271A-740D-4A97-99E0-ACCD011AF942}   \n\n        NewCreditCustomer  ... PreviousEarlyRepaymentsCountBeforeLoan  \\\n202796               True  ...                                    0.0   \n202797              False  ...                                    0.0   \n202798               True  ...                                    0.0   \n202799               True  ...                                    0.0   \n202800              False  ...                                    0.0   \n\n       GracePeriodStart GracePeriodEnd NextPaymentDate NextPaymentNr  \\\n202796              NaN            NaN      2022-01-07           1.0   \n202797              NaN            NaN      2022-01-04           1.0   \n202798              NaN            NaN      2021-12-13           1.0   \n202799              NaN            NaN      2022-01-03           1.0   \n202800              NaN            NaN      2021-12-20           1.0   \n\n       NrOfScheduledPayments  ReScheduledOn  PrincipalDebtServicingCost  \\\n202796                  18.0            NaN                         NaN   \n202797                  60.0            NaN                         NaN   \n202798                   3.0            NaN                         NaN   \n202799                  60.0            NaN                         NaN   \n202800                  36.0            NaN                         NaN   \n\n        InterestAndPenaltyDebtServicingCost  ActiveLateLastPaymentCategory  \n202796                                  NaN                            NaN  \n202797                                  NaN                            NaN  \n202798                                  NaN                            NaN  \n202799                                  NaN                            NaN  \n202800                                  NaN                            NaN  \n\n[5 rows x 112 columns]",
      "text/html": "<div>\n<style scoped>\n    .dataframe tbody tr th:only-of-type {\n        vertical-align: middle;\n    }\n\n    .dataframe tbody tr th {\n        vertical-align: top;\n    }\n\n    .dataframe thead th {\n        text-align: right;\n    }\n</style>\n<table border=\"1\" class=\"dataframe\">\n  <thead>\n    <tr style=\"text-align: right;\">\n      <th></th>\n      <th>ReportAsOfEOD</th>\n      <th>LoanId</th>\n      <th>LoanNumber</th>\n      <th>ListedOnUTC</th>\n      <th>BiddingStartedOn</th>\n      <th>BidsPortfolioManager</th>\n      <th>BidsApi</th>\n      <th>BidsManual</th>\n      <th>PartyId</th>\n      <th>NewCreditCustomer</th>\n      <th>...</th>\n      <th>PreviousEarlyRepaymentsCountBeforeLoan</th>\n      <th>GracePeriodStart</th>\n      <th>GracePeriodEnd</th>\n      <th>NextPaymentDate</th>\n      <th>NextPaymentNr</th>\n      <th>NrOfScheduledPayments</th>\n      <th>ReScheduledOn</th>\n      <th>PrincipalDebtServicingCost</th>\n      <th>InterestAndPenaltyDebtServicingCost</th>\n      <th>ActiveLateLastPaymentCategory</th>\n    </tr>\n  </thead>\n  <tbody>\n    <tr>\n      <th>202796</th>\n      <td>2021-12-04</td>\n      <td>8C4FEB27-F63A-48BA-BE14-ADF3017C648E</td>\n      <td>2481799</td>\n      <td>2021-12-03 21:11:47</td>\n      <td>2021-12-03 23:11:47</td>\n      <td>0</td>\n      <td>0.0</td>\n      <td>77.0</td>\n      <td>{A1FEFD8E-01F6-4CBB-BCC6-ADF3017C648E}</td>\n      <td>True</td>\n      <td>...</td>\n      <td>0.0</td>\n      <td>NaN</td>\n      <td>NaN</td>\n      <td>2022-01-07</td>\n      <td>1.0</td>\n      <td>18.0</td>\n      <td>NaN</td>\n      <td>NaN</td>\n      <td>NaN</td>\n      <td>NaN</td>\n    </tr>\n    <tr>\n      <th>202797</th>\n      <td>2021-12-04</td>\n      <td>9A55E826-3AE5-4582-AD64-ADF3017ED09D</td>\n      <td>2481809</td>\n      <td>2021-12-03 21:27:05</td>\n      <td>2021-12-03 23:27:05</td>\n      <td>14</td>\n      <td>2.0</td>\n      <td>25.0</td>\n      <td>{CA7E70D1-2F4C-4C5F-9458-A776014EB04A}</td>\n      <td>False</td>\n      <td>...</td>\n      <td>0.0</td>\n      <td>NaN</td>\n      <td>NaN</td>\n      <td>2022-01-04</td>\n      <td>1.0</td>\n      <td>60.0</td>\n      <td>NaN</td>\n      <td>NaN</td>\n      <td>NaN</td>\n      <td>NaN</td>\n    </tr>\n    <tr>\n      <th>202798</th>\n      <td>2021-12-04</td>\n      <td>1D100D56-5794-46CC-B183-ADF30180BEAB</td>\n      <td>2481812</td>\n      <td>2021-12-03 21:41:08</td>\n      <td>2021-12-03 23:41:08</td>\n      <td>0</td>\n      <td>0.0</td>\n      <td>38.0</td>\n      <td>{8F91288E-E13F-4D14-AF46-ADF30180BEAB}</td>\n      <td>True</td>\n      <td>...</td>\n      <td>0.0</td>\n      <td>NaN</td>\n      <td>NaN</td>\n      <td>2021-12-13</td>\n      <td>1.0</td>\n      <td>3.0</td>\n      <td>NaN</td>\n      <td>NaN</td>\n      <td>NaN</td>\n      <td>NaN</td>\n    </tr>\n    <tr>\n      <th>202799</th>\n      <td>2021-12-04</td>\n      <td>25A7EFCB-28CB-42AB-8F5A-ADF3018616C1</td>\n      <td>2481820</td>\n      <td>2021-12-03 21:43:19</td>\n      <td>2021-12-03 23:43:19</td>\n      <td>221</td>\n      <td>1.0</td>\n      <td>73.0</td>\n      <td>{ED6B43EA-63D1-4A87-BE1D-AB6200872561}</td>\n      <td>True</td>\n      <td>...</td>\n      <td>0.0</td>\n      <td>NaN</td>\n      <td>NaN</td>\n      <td>2022-01-03</td>\n      <td>1.0</td>\n      <td>60.0</td>\n      <td>NaN</td>\n      <td>NaN</td>\n      <td>NaN</td>\n      <td>NaN</td>\n    </tr>\n    <tr>\n      <th>202800</th>\n      <td>2021-12-04</td>\n      <td>9438AE04-6F2B-479C-A65E-ADF400000BDB</td>\n      <td>2481832</td>\n      <td>2021-12-03 22:12:25</td>\n      <td>2021-12-04 00:12:25</td>\n      <td>6</td>\n      <td>0.0</td>\n      <td>145.0</td>\n      <td>{C989271A-740D-4A97-99E0-ACCD011AF942}</td>\n      <td>False</td>\n      <td>...</td>\n      <td>0.0</td>\n      <td>NaN</td>\n      <td>NaN</td>\n      <td>2021-12-20</td>\n      <td>1.0</td>\n      <td>36.0</td>\n      <td>NaN</td>\n      <td>NaN</td>\n      <td>NaN</td>\n      <td>NaN</td>\n    </tr>\n  </tbody>\n</table>\n<p>5 rows × 112 columns</p>\n</div>"
     },
     "execution_count": 6,
     "metadata": {},
     "output_type": "execute_result"
    }
   ],
   "source": [
    "data.tail(5)"
   ],
   "metadata": {
    "collapsed": false,
    "pycharm": {
     "name": "#%%\n"
    }
   }
  },
  {
   "cell_type": "markdown",
   "source": [
    "The data contains various numerical and categorical columns. To fully understand the data and proceed with cleaning the dataset, one must work through the columns one by one. Visual inspection is important when working with this dataset. It is also necessary to statistically describe different columns as it helps to get a better understanding of the data. Below are some examples on how some of the numerical and categorical columns were analyzed.\n",
    "\n",
    "Another helpful resource is the overview of the codes and terms that are used in the dataset which can be found on the [public-reports](https://www.bondora.com/en/public-reports) section on Bondora's website."
   ],
   "metadata": {
    "collapsed": false
   }
  },
  {
   "cell_type": "code",
   "execution_count": 7,
   "outputs": [
    {
     "data": {
      "text/plain": "count    203309.000000\nmean       2579.612077\nstd        2199.986924\nmin           6.390000\n25%         740.000000\n50%        2125.000000\n75%        4150.000000\nmax       10632.000000\nName: Amount, dtype: float64"
     },
     "execution_count": 7,
     "metadata": {},
     "output_type": "execute_result"
    }
   ],
   "source": [
    "# Describing a numerical column.\n",
    "data.Amount.describe()"
   ],
   "metadata": {
    "collapsed": false,
    "pycharm": {
     "name": "#%%\n"
    }
   }
  },
  {
   "cell_type": "code",
   "execution_count": 8,
   "outputs": [
    {
     "data": {
      "text/plain": "530.00     20337\n531.00     14273\n4150.00    13372\n2125.00     9046\n2126.00     7498\n           ...  \n2169.00        1\n2346.00        1\n1238.00        1\n4906.00        1\n1405.89        1\nName: Amount, Length: 6722, dtype: int64"
     },
     "execution_count": 8,
     "metadata": {},
     "output_type": "execute_result"
    }
   ],
   "source": [
    "# Numerical column value counts.\n",
    "data.Amount.value_counts(dropna=False)"
   ],
   "metadata": {
    "collapsed": false,
    "pycharm": {
     "name": "#%%\n"
    }
   }
  },
  {
   "cell_type": "code",
   "execution_count": 9,
   "outputs": [
    {
     "data": {
      "text/plain": "count     200576\nunique         8\ntop            D\nfreq       47733\nName: Rating, dtype: object"
     },
     "execution_count": 9,
     "metadata": {},
     "output_type": "execute_result"
    }
   ],
   "source": [
    "# Describing a categorical column.\n",
    "data.Rating.describe()"
   ],
   "metadata": {
    "collapsed": false,
    "pycharm": {
     "name": "#%%\n"
    }
   }
  },
  {
   "cell_type": "code",
   "execution_count": 10,
   "outputs": [
    {
     "data": {
      "text/plain": "D      47733\nE      34757\nC      33604\nF      26370\nB      26223\nHR     14833\nA       9110\nAA      7946\nNaN     2733\nName: Rating, dtype: int64"
     },
     "execution_count": 10,
     "metadata": {},
     "output_type": "execute_result"
    }
   ],
   "source": [
    "# Categorical column value counts.\n",
    "data.Rating.value_counts(dropna=False)"
   ],
   "metadata": {
    "collapsed": false,
    "pycharm": {
     "name": "#%%\n"
    }
   }
  },
  {
   "cell_type": "markdown",
   "source": [
    "## Cleaning and filtering the data\n",
    "\n",
    "The first step is to drop the unnecessary columns. Many of these columns are obsolete (see Bondora API docs) or serve no purpose for us. However some of the columns are not marked as obsolete in the API docs and half-way through the dataset they are filled only with null values. The reason behind this is most likely EU's data protection law (GDPR). Most of these columns were detected by visually going through the dataset and since half of the data is missing in these columns, there is really no point in keeping them.\n",
    "\n",
    "We keep the columns that can be used as inputs for the models. We also keep the columns that help us validate the models in the later stages."
   ],
   "metadata": {
    "collapsed": false
   }
  },
  {
   "cell_type": "code",
   "execution_count": 11,
   "outputs": [],
   "source": [
    "# Drop unnecessary columns.\n",
    "df = data.drop(['BiddingStartedOn', 'LoanApplicationStartedDate', 'ApplicationSignedHour',\n",
    "                'ApplicationSignedWeekday', 'DateOfBirth', 'County', 'City', 'UseOfLoan',\n",
    "                'MaritalStatus', 'NrOfDependants', 'EmploymentStatus', 'EmploymentPosition',\n",
    "                'WorkExperience', 'OccupationArea', 'IncomeFromPrincipalEmployer', 'IncomeFromPension',\n",
    "                'IncomeFromFamilyAllowance', 'IncomeFromSocialWelfare', 'IncomeFromLeavePay',\n",
    "                'IncomeFromChildSupport', 'IncomeOther', 'RefinanceLiabilities', 'DebtToIncome', 'FreeCash', 'MonthlyPaymentDay', 'EL_V0', 'Rating_V0',\n",
    "                'EL_V1', 'Rating_V1', 'Rating_V2', 'PrincipalWriteOffs', 'InterestAndPenaltyWriteOffs', 'PlannedPrincipalTillDate',\n",
    "                'CreditScoreEsEquifaxRisk', 'CreditScoreEsMicroL', 'BidsPortfolioManager', 'BidsApi', 'BidsManual',\n",
    "                'PrincipalDebtServicingCost','InterestAndPenaltyDebtServicingCost',\n",
    "                'ContractEndDate', 'LoanNumber', 'FirstPaymentDate', 'PlannedInterestTillDate', 'CurrentDebtDaysPrimary',\n",
    "                'DebtOccuredOn', 'CurrentDebtDaysSecondary', 'DebtOccuredOnForSecondary', 'ExpectedLoss', 'LossGivenDefault', 'ExpectedReturn',\n",
    "                'ProbabilityOfDefault', 'ActiveScheduleFirstPaymentReached', 'PlannedPrincipalPostDefault', 'PlannedInterestPostDefault', 'EAD1', 'EAD2',\n",
    "                'PrincipalRecovery', 'InterestRecovery', 'RecoveryStage', 'StageActiveSince', 'ModelVersion', 'NextPaymentNr', 'ReScheduledOn', 'PartyId'], axis=1)\n"
   ],
   "metadata": {
    "collapsed": false,
    "pycharm": {
     "name": "#%%\n"
    }
   }
  },
  {
   "cell_type": "markdown",
   "source": [
    "In order to further reduce the size of the dataset some filters are applied. Some of the columns are parsed into date format, so it's easier to filter the data.\n",
    "\n",
    "Since we don't know the outcomes of active loans we don't include them. However there is an exception. If the loan is active but has been restructured or has had some other issues, then we keep it and define the loan as a \"bad\" loan, since we know for sure that the loan has had some sort of issues.\n",
    "\n",
    "We also apply some filters to numerical and categorical columns in order to deal with anomalies. And we also deal with null values."
   ],
   "metadata": {
    "collapsed": false,
    "pycharm": {
     "name": "#%% md\n"
    }
   }
  },
  {
   "cell_type": "code",
   "execution_count": 12,
   "outputs": [],
   "source": [
    "# Parse date columns into date format.\n",
    "date_columns = ['LoanDate', 'MaturityDate_Original', 'MaturityDate_Last', 'ReportAsOfEOD']\n",
    "df[date_columns] = df[date_columns].apply(pd.to_datetime, format='%Y-%m-%d', errors='coerce')\n",
    "\n",
    "# Do not include loans that are currently active, and have not been restructured (the original maturity date of the loan has not increased by at least 60 days).\n",
    "df = df.loc[~((df.Status == 'Current') & (df.Restructured == 0))]\n",
    "\n",
    "# Some loans have been repaid just days after signing a contract so they should be filtered out.\n",
    "df = df.loc[~(((df.MaturityDate_Last - df.LoanDate) < pd.to_timedelta(\"180days\")) & (df.Status == 'Repaid'))]\n",
    "\n",
    "# Remove the most recent loans because most of them seem to be with the status \"Late\".\n",
    "df = df.loc[(df.LoanDate < (df.ReportAsOfEOD - pd.to_timedelta(\"60days\")))]"
   ],
   "metadata": {
    "collapsed": false,
    "pycharm": {
     "name": "#%%\n"
    }
   }
  },
  {
   "cell_type": "code",
   "execution_count": 13,
   "outputs": [],
   "source": [
    "# Filters regarding numerical values.\n",
    "\n",
    "# Age must be between 18 and 70.\n",
    "df = df.loc[(df.Age >= 18) & (df.Age <= 70)]\n",
    "\n",
    "# Monthly payment must be over 0.\n",
    "df = df.loc[(df.MonthlyPayment > 0)]"
   ],
   "metadata": {
    "collapsed": false,
    "pycharm": {
     "name": "#%%\n"
    }
   }
  },
  {
   "cell_type": "code",
   "execution_count": 14,
   "outputs": [],
   "source": [
    "# Filters regarding categorical values.\n",
    "\n",
    "# Select allowed loan durations. This dataset contains various contract lengths, but we are interested in the most common ones. Values represent loan duration in months.\n",
    "df.LoanDuration = df.LoanDuration.astype('category')\n",
    "df = df.loc[(df.LoanDuration.isin([60, 48, 36, 30, 24, 18, 12, 9, 6]))]\n",
    "\n",
    "# We only want loans from EE.\n",
    "df = df.loc[(df.Country.isin(['EE']))]\n",
    "\n",
    "# The main verification types.\n",
    "df.VerificationType = df.VerificationType.astype('category')\n",
    "df = df.loc[(df.VerificationType.isin([1, 2, 3, 4]))]\n",
    "\n",
    "# Gender is either male of female.\n",
    "df.Gender = df.Gender.astype('category')\n",
    "df = df.loc[(df.Gender.isin([0, 1]))]\n",
    "\n",
    "# Select allowed education levels.\n",
    "df.Education = df.Education.astype('category')\n",
    "df = df.loc[(df.Education.isin([1, 2, 3, 4, 5]))]\n",
    "\n",
    "# Select allowed employment durations.\n",
    "df = df.loc[(df.EmploymentDurationCurrentEmployer.isin(['MoreThan5Years', 'UpTo5Years', 'UpTo4Years', 'UpTo3Years', 'UpTo2Years', 'UpTo1Year', 'TrialPeriod', 'Retiree', 'Other']))]\n",
    "\n",
    "# Select allowed home ownership types.\n",
    "df.HomeOwnershipType = df.HomeOwnershipType.astype('category')\n",
    "df = df.loc[(df.HomeOwnershipType.isin([1, 2, 3, 4, 5, 6, 7, 8, 9, 10]))]\n",
    "\n",
    "# Select allowed ratings.\n",
    "df = df.loc[(df.Rating.isin(['AA', 'A', 'B', 'C', 'D', 'E', 'F', 'HR']))]\n",
    "\n",
    "# Select allowed credit score levels.\n",
    "df.CreditScoreEeMini = df.CreditScoreEeMini.astype('category')\n",
    "df = df.loc[(df.CreditScoreEeMini.isin([1000, 900, 800, 700, 600, 500]))]"
   ],
   "metadata": {
    "collapsed": false,
    "pycharm": {
     "name": "#%%\n"
    }
   }
  },
  {
   "cell_type": "code",
   "execution_count": 15,
   "outputs": [],
   "source": [
    "# Dealing with null values.\n",
    "\n",
    "df.PreviousRepaymentsBeforeLoan = df.PreviousRepaymentsBeforeLoan.fillna(0)\n",
    "df.PreviousEarlyRepaymentsBefoleLoan = df.PreviousEarlyRepaymentsBefoleLoan.fillna(0)"
   ],
   "metadata": {
    "collapsed": false,
    "pycharm": {
     "name": "#%%\n"
    }
   }
  },
  {
   "cell_type": "code",
   "execution_count": 16,
   "outputs": [
    {
     "name": "stdout",
     "output_type": "stream",
     "text": [
      "DataFrame shape after cleaning: (84243, 47)\n"
     ]
    }
   ],
   "source": [
    "print(f\"DataFrame shape after cleaning: {df.shape}\")"
   ],
   "metadata": {
    "collapsed": false,
    "pycharm": {
     "name": "#%%\n"
    }
   }
  },
  {
   "cell_type": "markdown",
   "source": [
    "We can see that the dataset contains alot less rows and columns after processing it."
   ],
   "metadata": {
    "collapsed": false
   }
  },
  {
   "cell_type": "markdown",
   "source": [
    "## Feature engineering\n",
    "\n",
    "TODO"
   ],
   "metadata": {
    "collapsed": false
   }
  },
  {
   "cell_type": "markdown",
   "source": [
    "## Constructing the target variable\n",
    "\n",
    "We construct a target variable called \"PreferLoan\" which is a boolean value. As stated before, loans with previous issues are not to be preferred and are assigned the value \"0\". Loans without issues are assigned the value \"1\". However we will make a small exception. If the the worst late category is 16-30 days or less and the loan has not had any other issues then the loan is also preferred."
   ],
   "metadata": {
    "collapsed": false
   }
  },
  {
   "cell_type": "code",
   "execution_count": 17,
   "outputs": [],
   "source": [
    "# Constructing the target value.\n",
    "\n",
    "# Loan status must be 'Repaid'.\n",
    "# WorseLateCategory must not be higher than 16-30 (can be null).\n",
    "# Loan must be repaid before or on the original maturity date.\n",
    "# Loan must not be restructured.\n",
    "# Loan must not be defaulted.\n",
    "\n",
    "# Set the default value for all loans to be 0.\n",
    "df[\"PreferLoan\"] = 0\n",
    "\n",
    "# Select preferred loans and set their value to 1.\n",
    "df.loc[(\n",
    "               (df.Status == 'Repaid') &\n",
    "               (df.WorseLateCategory.isin([np.nan, '1-7', '8-15', '16-30'])) &\n",
    "               (df.MaturityDate_Last <= df.MaturityDate_Original) &\n",
    "               (df.Restructured != 1) &\n",
    "               (df.DefaultDate.isnull())\n",
    "       ), 'PreferLoan'] = 1"
   ],
   "metadata": {
    "collapsed": false,
    "pycharm": {
     "name": "#%%\n"
    }
   }
  },
  {
   "cell_type": "markdown",
   "source": [
    "## Splitting the data for next the next steps\n",
    "As the final step the data is split into a training and a validation set and both are saved for the next steps. The data is also shuffled."
   ],
   "metadata": {
    "collapsed": false,
    "pycharm": {
     "name": "#%% md\n"
    }
   }
  },
  {
   "cell_type": "code",
   "execution_count": 18,
   "outputs": [
    {
     "name": "stdout",
     "output_type": "stream",
     "text": [
      "0    32097\n",
      "1    10025\n",
      "Name: PreferLoan, dtype: int64\n",
      "\n",
      "\n",
      "0    32135\n",
      "1     9986\n",
      "Name: PreferLoan, dtype: int64\n"
     ]
    }
   ],
   "source": [
    "# Split into two sets.\n",
    "\n",
    "from sklearn.model_selection import train_test_split\n",
    "\n",
    "train_df, validation_df = train_test_split(df, test_size=0.5, shuffle=True)\n",
    "\n",
    "print(validation_df.PreferLoan.value_counts())\n",
    "print(\"\\n\")\n",
    "print(train_df.PreferLoan.value_counts())"
   ],
   "metadata": {
    "collapsed": false,
    "pycharm": {
     "name": "#%%\n"
    }
   }
  },
  {
   "cell_type": "code",
   "execution_count": 19,
   "outputs": [],
   "source": [
    "# Save both sets.\n",
    "train_df.to_csv('data/train_data.csv', index=False)\n",
    "validation_df.to_csv('data/validation_data.csv', index=False)"
   ],
   "metadata": {
    "collapsed": false,
    "pycharm": {
     "name": "#%%\n"
    }
   }
  }
 ],
 "metadata": {
  "kernelspec": {
   "display_name": "Python 3 (ipykernel)",
   "language": "python",
   "name": "python3"
  },
  "language_info": {
   "codemirror_mode": {
    "name": "ipython",
    "version": 3
   },
   "file_extension": ".py",
   "mimetype": "text/x-python",
   "name": "python",
   "nbconvert_exporter": "python",
   "pygments_lexer": "ipython3",
   "version": "3.9.5"
  }
 },
 "nbformat": 4,
 "nbformat_minor": 1
}